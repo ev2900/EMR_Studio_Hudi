{
 "cells": [
  {
   "cell_type": "markdown",
   "id": "6c31da65",
   "metadata": {},
   "source": [
    "## Reference Material\n",
    "\n",
    "* [Hudi Documentation Quick Start Guide][1]\n",
    "* [EMR Hudi Documentation][2]\n",
    "* [EMR Hudi Docuementation - Work with a Hudi dataset][3]\n",
    "\n",
    "[1]:https://hudi.apache.org/docs/quick-start-guide/#setup]\n",
    "[2]:https://docs.aws.amazon.com/emr/latest/ReleaseGuide/emr-hudi.html\n",
    "[3]:https://docs.aws.amazon.com/emr/latest/ReleaseGuide/emr-hudi-work-with-dataset.html"
   ]
  },
  {
   "cell_type": "markdown",
   "id": "279d42f9",
   "metadata": {},
   "source": [
    "## Configuration"
   ]
  },
  {
   "cell_type": "markdown",
   "id": "4f46e40c",
   "metadata": {},
   "source": [
    "Before running the code in the cell(s) below SSH into your EMR cluster and run the following \n",
    "\n",
    "```hdfs dfs -mkdir -p /apps/hudi/lib```\n",
    "\n",
    "```hdfs dfs -copyFromLocal /usr/lib/hudi/hudi-spark-bundle.jar /apps/hudi/lib/hudi-spark-bundle.jar```\n",
    "\n",
    "```hdfs dfs -copyFromLocal /usr/lib/spark/external/lib/spark-avro.jar /apps/hudi/lib/spark-avro.jar```\n",
    "\n",
    "This will copy the Hudi jar files from the local file system to HDFS on the master node of the notebook cluster"
   ]
  },
  {
   "cell_type": "code",
   "execution_count": 1,
   "id": "1705baae",
   "metadata": {},
   "outputs": [
    {
     "data": {
      "text/html": [
       "Current session configs: <tt>{'conf': {'spark.jars': 'hdfs:///apps/hudi/lib/hudi-spark-bundle.jar,hdfs:///apps/hudi/lib/spark-avro.jar', 'spark.serializer': 'org.apache.spark.serializer.KryoSerializer', 'spark.sql.hive.convertMetastoreParquet': 'false'}, 'proxyUser': 'assumed-role_admin_sharkech-Isengard', 'kind': 'spark'}</tt><br>"
      ],
      "text/plain": [
       "<IPython.core.display.HTML object>"
      ]
     },
     "metadata": {},
     "output_type": "display_data"
    },
    {
     "data": {
      "text/html": [
       "No active sessions."
      ],
      "text/plain": [
       "<IPython.core.display.HTML object>"
      ]
     },
     "metadata": {},
     "output_type": "display_data"
    }
   ],
   "source": [
    "%%configure\n",
    "{\n",
    "    \"conf\": {\n",
    "            \"spark.jars\":\"hdfs:///apps/hudi/lib/hudi-spark-bundle.jar,hdfs:///apps/hudi/lib/spark-avro.jar\",\n",
    "            \"spark.serializer\":\"org.apache.spark.serializer.KryoSerializer\",\n",
    "            \"spark.sql.hive.convertMetastoreParquet\":\"false\"\n",
    "    }\n",
    "}"
   ]
  },
  {
   "cell_type": "code",
   "execution_count": 2,
   "id": "1f72d0cf",
   "metadata": {},
   "outputs": [
    {
     "data": {
      "application/vnd.jupyter.widget-view+json": {
       "model_id": "9d85dc4364794034a95074c34c069d15",
       "version_major": 2,
       "version_minor": 0
      },
      "text/plain": [
       "VBox()"
      ]
     },
     "metadata": {},
     "output_type": "display_data"
    },
    {
     "name": "stdout",
     "output_type": "stream",
     "text": [
      "Starting Spark application\n"
     ]
    },
    {
     "data": {
      "text/html": [
       "<table>\n",
       "<tr><th>ID</th><th>YARN Application ID</th><th>Kind</th><th>State</th><th>Spark UI</th><th>Driver log</th><th>Current session?</th></tr><tr><td>19</td><td>application_1636465466779_0020</td><td>spark</td><td>idle</td><td><a target=\"_blank\" href=\"http://ip-172-31-43-207.ec2.internal:20888/proxy/application_1636465466779_0020/\" class=\"emr-proxy-link\" emr-resource=\"j-1JETVFHCNDPKD\n",
       "\" application-id=\"application_1636465466779_0020\">Link</a></td><td><a target=\"_blank\" href=\"http://ip-172-31-47-164.ec2.internal:8042/node/containerlogs/container_1636465466779_0020_01_000001/livy\" >Link</a></td><td>✔</td></tr></table>"
      ],
      "text/plain": [
       "<IPython.core.display.HTML object>"
      ]
     },
     "metadata": {},
     "output_type": "display_data"
    },
    {
     "data": {
      "application/vnd.jupyter.widget-view+json": {
       "model_id": "",
       "version_major": 2,
       "version_minor": 0
      },
      "text/plain": [
       "FloatProgress(value=0.0, bar_style='info', description='Progress:', layout=Layout(height='25px', width='50%'),…"
      ]
     },
     "metadata": {},
     "output_type": "display_data"
    },
    {
     "name": "stdout",
     "output_type": "stream",
     "text": [
      "SparkSession available as 'spark'.\n"
     ]
    },
    {
     "data": {
      "application/vnd.jupyter.widget-view+json": {
       "model_id": "",
       "version_major": 2,
       "version_minor": 0
      },
      "text/plain": [
       "FloatProgress(value=0.0, bar_style='info', description='Progress:', layout=Layout(height='25px', width='50%'),…"
      ]
     },
     "metadata": {},
     "output_type": "display_data"
    },
    {
     "name": "stdout",
     "output_type": "stream",
     "text": [
      "import org.apache.spark.sql.SaveMode\n",
      "import org.apache.spark.sql.functions\n",
      "import org.apache.hudi.DataSourceReadOptions\n",
      "import org.apache.hudi.DataSourceReadOptions._\n",
      "import org.apache.hudi.DataSourceWriteOptions\n",
      "import org.apache.hudi.DataSourceWriteOptions._\n",
      "import org.apache.spark.sql.types\n",
      "import org.apache.hudi.config.HoodieWriteConfig\n",
      "import org.apache.hudi.config.HoodieWriteConfig._\n",
      "import org.apache.hudi.hive.MultiPartKeysValueExtractor\n",
      "import java.sql.Timestamp\n"
     ]
    }
   ],
   "source": [
    "import org.apache.spark.sql.SaveMode\n",
    "import org.apache.spark.sql.functions\n",
    "import org.apache.hudi.DataSourceReadOptions\n",
    "import org.apache.hudi.DataSourceReadOptions._\n",
    "import org.apache.hudi.DataSourceWriteOptions\n",
    "import org.apache.hudi.DataSourceWriteOptions._\n",
    "import org.apache.spark.sql.types\n",
    "import org.apache.hudi.config.HoodieWriteConfig\n",
    "import org.apache.hudi.config.HoodieWriteConfig._\n",
    "\n",
    "import org.apache.hudi.hive.MultiPartKeysValueExtractor\n",
    "\n",
    "import java.sql.Timestamp"
   ]
  },
  {
   "cell_type": "code",
   "execution_count": 3,
   "id": "569c2388",
   "metadata": {},
   "outputs": [
    {
     "data": {
      "application/vnd.jupyter.widget-view+json": {
       "model_id": "0ec2fb1312674502a881915d1da83b84",
       "version_major": 2,
       "version_minor": 0
      },
      "text/plain": [
       "VBox()"
      ]
     },
     "metadata": {},
     "output_type": "display_data"
    },
    {
     "data": {
      "application/vnd.jupyter.widget-view+json": {
       "model_id": "",
       "version_major": 2,
       "version_minor": 0
      },
      "text/plain": [
       "FloatProgress(value=0.0, bar_style='info', description='Progress:', layout=Layout(height='25px', width='50%'),…"
      ]
     },
     "metadata": {},
     "output_type": "display_data"
    },
    {
     "name": "stdout",
     "output_type": "stream",
     "text": [
      "inputDF: org.apache.spark.sql.DataFrame = [id: string, name: string ... 2 more fields]\n"
     ]
    }
   ],
   "source": [
    "val inputDF = Seq(\n",
    "    (\"1\", \"Chris\", \"2020-01-01\", Timestamp.valueOf(\"2020-01-01 00:00:00\")),\n",
    "    (\"2\", \"Will\", \"2020-01-01\", Timestamp.valueOf(\"2020-01-01 00:00:00\")),\n",
    "    (\"3\", \"Emma\", \"2020-01-01\", Timestamp.valueOf(\"2020-01-01 00:00:00\")),\n",
    "    (\"4\", \"John\", \"2020-01-01\", Timestamp.valueOf(\"2020-01-01 00:00:00\")),\n",
    "    (\"5\", \"Eric\", \"2020-01-01\", Timestamp.valueOf(\"2020-01-01 00:00:00\")),\n",
    "    (\"6\", \"Adam\", \"2020-01-01\", Timestamp.valueOf(\"2020-01-01 00:00:00\"))\n",
    ").toDF(\n",
    "    \"id\",\n",
    "    \"name\",\n",
    "    \"create_date\",\n",
    "    \"last_update_time\"\n",
    ")\n",
    "\n",
    "// inputDF.show()\n",
    "// inputDF.printSchema()"
   ]
  },
  {
   "cell_type": "markdown",
   "id": "cdfca4f0",
   "metadata": {},
   "source": [
    "## Write to S3 via. Hudi\n",
    "\n",
    "We create a ```hudiOptions``` variable. We use this when we write data to S3. \n",
    "\n",
    "DataSourceWriteOptions for ***Hudi***: \n",
    "\n",
    "Option|Description\n",
    ":---|:---|\n",
    "TABLE_NAME|The table name under which to register the dataset\n",
    "TABLE_TYPE_OPT_KEY|Optional. Specifies whether the dataset is created as ```COPY_ON_WRITE``` or ```MERGE_ON_READ```. The default is ```COPY_ON_WRITE```\n",
    "RECORDKEY_FIELD_OPT_KEY|The record key field whose value will be used as the recordKey component of HoodieKey. Actual value will be obtained by invoking .toString() on the field value. Nested fields can be specified using the dot notation, for example, a.b.c\n",
    "PARTITIONPATH_FIELD_OPT_KEY|The partition path field whose value will be used as the partitionPath component of HoodieKey. The actual value will be obtained by invoking .toString() on the field value\n",
    "PRECOMBINE_FIELD_OPT_KEY|The field used in pre-combining before actual write. When two records have the same key value, Hudi picks the one with the largest value for the precombine field as determined by Object.compareTo(..)\n",
    "\n",
    "DataSourceWriteOptions for ***Hive***:\n",
    "\n",
    "Option|Description\n",
    ":---|:---|\n",
    "HIVE_DATABASE_OPT_KEY|The Hive database to sync to. The default is ```default```\n",
    "HIVE_PARTITION_EXTRACTOR_CLASS_OPT_KEY|The class used to extract partition field values into Hive partition columns\n",
    "HIVE_PARTITION_FIELDS_OPT_KEY|The field in the dataset to use for determining Hive partition columns\n",
    "HIVE_SYNC_ENABLED_OPT_KEY|When set to ```true```, registers the dataset with the Apache Hive metastore.                     \n",
    "HIVE_TABLE_OPT_KEY|Required. The name of the table in Hive to sync to. For example the table name can be, ```my_hudi_table``` or any other name can be specified for the value of the Hive Table Opt Key Hudi table name\n",
    "HIVE_USER_OPT_KEY|Optional. The Hive user name to use when syncing. For example, ```hadoop```\n",
    "HIVE_PASS_OPT_KEY|Optional. The Hive password for the user specified by HIVE_USER_OPT_KEY\n",
    "HIVE_URL_OPT_KEY|The Hive metastore URL\n",
    "\n",
    "For a full list of configurations view the [Hudi Documentation - Configurations][1]\n",
    "\n",
    "*ensure that the ```DataSourceWriteOptions.PARTITIONPATH_FIELD_OPT_KEY``` and ```DataSourceWriteOptions.PRECOMBINE_FIELD_OPT_KEY``` use different columns*\n",
    "\n",
    "[1]:https://hudi.apache.org/docs/configurations/#Index-Configs"
   ]
  },
  {
   "cell_type": "code",
   "execution_count": 4,
   "id": "127acc00",
   "metadata": {},
   "outputs": [
    {
     "data": {
      "application/vnd.jupyter.widget-view+json": {
       "model_id": "bb8cec64f4bb470ab4d4098503263481",
       "version_major": 2,
       "version_minor": 0
      },
      "text/plain": [
       "VBox()"
      ]
     },
     "metadata": {},
     "output_type": "display_data"
    },
    {
     "data": {
      "application/vnd.jupyter.widget-view+json": {
       "model_id": "",
       "version_major": 2,
       "version_minor": 0
      },
      "text/plain": [
       "FloatProgress(value=0.0, bar_style='info', description='Progress:', layout=Layout(height='25px', width='50%'),…"
      ]
     },
     "metadata": {},
     "output_type": "display_data"
    },
    {
     "name": "stdout",
     "output_type": "stream",
     "text": [
      "hudiOptions: scala.collection.immutable.Map[String,String] = Map(hoodie.datasource.write.precombine.field -> last_update_time, hoodie.datasource.hive_sync.partition_fields -> creation_date, hoodie.datasource.hive_sync.partition_extractor_class -> org.apache.hudi.hive.MultiPartKeysValueExtractor, hoodie.datasource.hive_sync.table -> my_hudi_table, hoodie.datasource.hive_sync.enable -> true, hoodie.datasource.write.recordkey.field -> id, hoodie.table.name -> my_hudi_table_scala, hoodie.datasource.write.table.type -> COPY_ON_WRITE, hoodie.datasource.write.partitionpath.field -> creation_date)\n"
     ]
    }
   ],
   "source": [
    "// Create hudiOptions variable\n",
    "val hudiOptions = Map[String,String](\n",
    "  HoodieWriteConfig.TABLE_NAME -> \"my_hudi_table_scala\",\n",
    "  DataSourceWriteOptions.TABLE_TYPE_OPT_KEY -> \"COPY_ON_WRITE\", \n",
    "  DataSourceWriteOptions.RECORDKEY_FIELD_OPT_KEY -> \"id\",\n",
    "  DataSourceWriteOptions.PARTITIONPATH_FIELD_OPT_KEY -> \"creation_date\",\n",
    "  DataSourceWriteOptions.PRECOMBINE_FIELD_OPT_KEY -> \"last_update_time\",\n",
    "  DataSourceWriteOptions.HIVE_SYNC_ENABLED_OPT_KEY -> \"true\",\n",
    "  DataSourceWriteOptions.HIVE_TABLE_OPT_KEY -> \"my_hudi_table\",\n",
    "  DataSourceWriteOptions.HIVE_PARTITION_FIELDS_OPT_KEY -> \"creation_date\",\n",
    "  DataSourceWriteOptions.HIVE_PARTITION_EXTRACTOR_CLASS_OPT_KEY -> classOf[MultiPartKeysValueExtractor].getName\n",
    ")"
   ]
  },
  {
   "cell_type": "markdown",
   "id": "dd6c9dd1",
   "metadata": {},
   "source": [
    "*Note* adjust the s3 path in ```.save()```\n",
    "\n",
    "Options for ```DataSourceWriteOptions```\n",
    "\n",
    "Option|Description\n",
    ":---|:---|\n",
    "UPSERT_OPERATION_OPT_VAL|This is the default operation where the input records are first tagged as inserts or updates by looking up the index. The records are ultimately written after heuristics are run to determine how best to pack them on storage to optimize for things like file sizing. This operation is recommended for use-cases like database change capture where the input almost certainly contains updates. The target table will never show duplicates\n",
    "INSERT_OPERATION_OPT_VAL|This operation is very similar to upsert in terms of heuristics/file sizing but completely skips the index lookup step. Thus, it can be a lot faster than upserts for use-cases like log de-duplication (in conjunction with options to filter duplicates mentioned below). This is also suitable for use-cases where the table can tolerate duplicates, but just need the transactional writes/incremental pull/storage management capabilities of Hudi\n",
    "BULK_INSERT_OPERATION_OPT_VAL|Both upsert and insert operations keep input records in memory to speed up storage heuristics computations faster (among other things) and thus can be cumbersome for initial loading/bootstrapping a Hudi table at first. Bulk insert provides the same semantics as insert, while implementing a sort-based data writing algorithm, which can scale very well for several hundred TBs of initial load. However, this just does a best-effort job at sizing files vs guaranteeing file sizes like inserts/upserts do"
   ]
  },
  {
   "cell_type": "code",
   "execution_count": 5,
   "id": "45bb21a1",
   "metadata": {},
   "outputs": [
    {
     "data": {
      "application/vnd.jupyter.widget-view+json": {
       "model_id": "7a0a2feb36a647b1b87129143ff6d5d7",
       "version_major": 2,
       "version_minor": 0
      },
      "text/plain": [
       "VBox()"
      ]
     },
     "metadata": {},
     "output_type": "display_data"
    },
    {
     "data": {
      "application/vnd.jupyter.widget-view+json": {
       "model_id": "",
       "version_major": 2,
       "version_minor": 0
      },
      "text/plain": [
       "FloatProgress(value=0.0, bar_style='info', description='Progress:', layout=Layout(height='25px', width='50%'),…"
      ]
     },
     "metadata": {},
     "output_type": "display_data"
    }
   ],
   "source": [
    "// Write the DataFrame as a Hudi dataset\n",
    "inputDF.\n",
    "    write.\n",
    "    format(\"org.apache.hudi\").\n",
    "    option(DataSourceWriteOptions.OPERATION_OPT_KEY, DataSourceWriteOptions.INSERT_OPERATION_OPT_VAL).\n",
    "    options(hudiOptions).\n",
    "    mode(SaveMode.Overwrite).\n",
    "    save(\"s3://hudi-sharkech/myhudidataset_scala/\")"
   ]
  },
  {
   "cell_type": "markdown",
   "id": "245b7fd8",
   "metadata": {},
   "source": [
    "## Read the Hudi Table\n",
    "\n",
    "Hudi performs snapshot queries by default. Snapshot queries retrieve data at the present point in time"
   ]
  },
  {
   "cell_type": "code",
   "execution_count": 6,
   "id": "5707b15f",
   "metadata": {},
   "outputs": [
    {
     "data": {
      "application/vnd.jupyter.widget-view+json": {
       "model_id": "fc5c26699aeb46a4a93cbcff95968c57",
       "version_major": 2,
       "version_minor": 0
      },
      "text/plain": [
       "VBox()"
      ]
     },
     "metadata": {},
     "output_type": "display_data"
    },
    {
     "data": {
      "application/vnd.jupyter.widget-view+json": {
       "model_id": "",
       "version_major": 2,
       "version_minor": 0
      },
      "text/plain": [
       "FloatProgress(value=0.0, bar_style='info', description='Progress:', layout=Layout(height='25px', width='50%'),…"
      ]
     },
     "metadata": {},
     "output_type": "display_data"
    },
    {
     "name": "stdout",
     "output_type": "stream",
     "text": [
      "snapshotQueryDF: org.apache.spark.sql.DataFrame = [_hoodie_commit_time: string, _hoodie_commit_seqno: string ... 7 more fields]\n",
      "+---+------------------+-------------------+--------------------+----------------------+--------------------+\n",
      "| id|_hoodie_record_key|_hoodie_commit_time|_hoodie_commit_seqno|_hoodie_partition_path|   _hoodie_file_name|\n",
      "+---+------------------+-------------------+--------------------+----------------------+--------------------+\n",
      "|  1|                 1|     20211110163043|  20211110163043_0_1|               default|3cb32ae1-d57c-43f...|\n",
      "|  2|                 2|     20211110163043|  20211110163043_0_4|               default|3cb32ae1-d57c-43f...|\n",
      "|  3|                 3|     20211110163043|  20211110163043_0_2|               default|3cb32ae1-d57c-43f...|\n",
      "|  4|                 4|     20211110163043|  20211110163043_0_5|               default|3cb32ae1-d57c-43f...|\n",
      "|  5|                 5|     20211110163043|  20211110163043_0_3|               default|3cb32ae1-d57c-43f...|\n",
      "|  6|                 6|     20211110163043|  20211110163043_0_6|               default|3cb32ae1-d57c-43f...|\n",
      "+---+------------------+-------------------+--------------------+----------------------+--------------------+\n",
      "\n"
     ]
    }
   ],
   "source": [
    "val snapshotQueryDF = spark.read.format(\"org.apache.hudi\").load(\"s3://hudi-sharkech/myhudidataset_scala\" + \"/*/*\")\n",
    "\n",
    "// snapshotQueryDF.orderBy(\"id\").show()\n",
    "snapshotQueryDF.select(\"id\", \"_hoodie_record_key\", \"_hoodie_commit_time\", \"_hoodie_commit_seqno\", \"_hoodie_partition_path\", \"_hoodie_file_name\").orderBy(\"id\").show()\n",
    "\n",
    "// snapshotQueryDF.select(\"id\", \"name\", \"create_date\", \"last_update_time\").orderBy(\"id\").show()"
   ]
  },
  {
   "cell_type": "markdown",
   "id": "76d75a3f",
   "metadata": {},
   "source": [
    "## Upsert data\n",
    "\n",
    "Lets do an upsert ... this will be *upsert #1*"
   ]
  },
  {
   "cell_type": "code",
   "execution_count": 7,
   "id": "451d5da8",
   "metadata": {},
   "outputs": [
    {
     "data": {
      "application/vnd.jupyter.widget-view+json": {
       "model_id": "418a0927a5834a80bcd18b2deefdf2d8",
       "version_major": 2,
       "version_minor": 0
      },
      "text/plain": [
       "VBox()"
      ]
     },
     "metadata": {},
     "output_type": "display_data"
    },
    {
     "data": {
      "application/vnd.jupyter.widget-view+json": {
       "model_id": "",
       "version_major": 2,
       "version_minor": 0
      },
      "text/plain": [
       "FloatProgress(value=0.0, bar_style='info', description='Progress:', layout=Layout(height='25px', width='50%'),…"
      ]
     },
     "metadata": {},
     "output_type": "display_data"
    },
    {
     "name": "stdout",
     "output_type": "stream",
     "text": [
      "updateDF: org.apache.spark.sql.DataFrame = [id: string, name: string ... 2 more fields]\n"
     ]
    }
   ],
   "source": [
    "val updateDF = Seq(\n",
    "    (\"1\", \"Chris Sharkey\", \"2020-01-01\", Timestamp.valueOf(\"2020-01-02 00:00:00\")),\n",
    "    (\"7\", \"Kelly\", \"2020-01-02\", Timestamp.valueOf(\"2020-01-02 00:00:00\"))\n",
    ").toDF(\n",
    "    \"id\",\n",
    "    \"name\",\n",
    "    \"create_date\",\n",
    "    \"last_update_time\"\n",
    ")\n",
    "\n",
    "// inputDF.show()\n",
    "// inputDF.printSchema()"
   ]
  },
  {
   "cell_type": "code",
   "execution_count": 8,
   "id": "e7497842",
   "metadata": {},
   "outputs": [
    {
     "data": {
      "application/vnd.jupyter.widget-view+json": {
       "model_id": "21af0332d97d4641aab1fe6503f711da",
       "version_major": 2,
       "version_minor": 0
      },
      "text/plain": [
       "VBox()"
      ]
     },
     "metadata": {},
     "output_type": "display_data"
    },
    {
     "data": {
      "application/vnd.jupyter.widget-view+json": {
       "model_id": "",
       "version_major": 2,
       "version_minor": 0
      },
      "text/plain": [
       "FloatProgress(value=0.0, bar_style='info', description='Progress:', layout=Layout(height='25px', width='50%'),…"
      ]
     },
     "metadata": {},
     "output_type": "display_data"
    }
   ],
   "source": [
    "// Upsert the records in updateDF\n",
    "updateDF.\n",
    "    write.\n",
    "    format(\"org.apache.hudi\").\n",
    "    option(DataSourceWriteOptions.OPERATION_OPT_KEY, DataSourceWriteOptions.UPSERT_OPERATION_OPT_VAL).\n",
    "    options(hudiOptions).\n",
    "    mode(SaveMode.Append).\n",
    "    save(\"s3://hudi-sharkech/myhudidataset_scala/\")"
   ]
  },
  {
   "cell_type": "code",
   "execution_count": 9,
   "id": "ea6a17f3",
   "metadata": {},
   "outputs": [
    {
     "data": {
      "application/vnd.jupyter.widget-view+json": {
       "model_id": "2f49bcca78c3488283ca2160f808ae06",
       "version_major": 2,
       "version_minor": 0
      },
      "text/plain": [
       "VBox()"
      ]
     },
     "metadata": {},
     "output_type": "display_data"
    },
    {
     "data": {
      "application/vnd.jupyter.widget-view+json": {
       "model_id": "",
       "version_major": 2,
       "version_minor": 0
      },
      "text/plain": [
       "FloatProgress(value=0.0, bar_style='info', description='Progress:', layout=Layout(height='25px', width='50%'),…"
      ]
     },
     "metadata": {},
     "output_type": "display_data"
    },
    {
     "name": "stdout",
     "output_type": "stream",
     "text": [
      "snapshotQueryDF: org.apache.spark.sql.DataFrame = [_hoodie_commit_time: string, _hoodie_commit_seqno: string ... 7 more fields]\n",
      "+---+-------------+-----------+-------------------+\n",
      "| id|         name|create_date|   last_update_time|\n",
      "+---+-------------+-----------+-------------------+\n",
      "|  1|Chris Sharkey| 2020-01-01|2020-01-02 00:00:00|\n",
      "|  2|         Will| 2020-01-01|2020-01-01 00:00:00|\n",
      "|  3|         Emma| 2020-01-01|2020-01-01 00:00:00|\n",
      "|  4|         John| 2020-01-01|2020-01-01 00:00:00|\n",
      "|  5|         Eric| 2020-01-01|2020-01-01 00:00:00|\n",
      "|  6|         Adam| 2020-01-01|2020-01-01 00:00:00|\n",
      "|  7|        Kelly| 2020-01-02|2020-01-02 00:00:00|\n",
      "+---+-------------+-----------+-------------------+\n",
      "\n"
     ]
    }
   ],
   "source": [
    "// Check that the upsert worked\n",
    "val snapshotQueryDF = spark.read.format(\"org.apache.hudi\").load(\"s3://hudi-sharkech/myhudidataset_scala\" + \"/*/*\")\n",
    "\n",
    "// snapshotQueryDF.orderBy(\"id\").show()\n",
    "// snapshotQueryDF.select(\"id\", \"_hoodie_record_key\", \"_hoodie_commit_time\", \"_hoodie_commit_seqno\", \"_hoodie_partition_path\", \"_hoodie_file_name\").orderBy(\"id\").show()\n",
    "\n",
    "snapshotQueryDF.select(\"id\", \"name\", \"create_date\", \"last_update_time\").orderBy(\"id\").show()"
   ]
  },
  {
   "cell_type": "markdown",
   "id": "d06dae88",
   "metadata": {},
   "source": [
    "Lets do another upsert ... this will be *upsert #2*"
   ]
  },
  {
   "cell_type": "code",
   "execution_count": 10,
   "id": "0693d78b",
   "metadata": {},
   "outputs": [
    {
     "data": {
      "application/vnd.jupyter.widget-view+json": {
       "model_id": "7aa041fd2d8d419e867b787456901d63",
       "version_major": 2,
       "version_minor": 0
      },
      "text/plain": [
       "VBox()"
      ]
     },
     "metadata": {},
     "output_type": "display_data"
    },
    {
     "data": {
      "application/vnd.jupyter.widget-view+json": {
       "model_id": "",
       "version_major": 2,
       "version_minor": 0
      },
      "text/plain": [
       "FloatProgress(value=0.0, bar_style='info', description='Progress:', layout=Layout(height='25px', width='50%'),…"
      ]
     },
     "metadata": {},
     "output_type": "display_data"
    },
    {
     "name": "stdout",
     "output_type": "stream",
     "text": [
      "updateDF: org.apache.spark.sql.DataFrame = [id: string, name: string ... 2 more fields]\n"
     ]
    }
   ],
   "source": [
    "val updateDF = Seq(\n",
    "    (\"1\", \"Christopher Sharkey\", \"2020-01-01\", Timestamp.valueOf(\"2020-01-03 00:00:00\")),\n",
    "    (\"8\", \"Ella\", \"2020-01-03\", Timestamp.valueOf(\"2020-01-03 00:00:00\"))\n",
    ").toDF(\n",
    "    \"id\",\n",
    "    \"name\",\n",
    "    \"create_date\",\n",
    "    \"last_update_time\"\n",
    ")\n",
    "\n",
    "// inputDF.show()\n",
    "// inputDF.printSchema()"
   ]
  },
  {
   "cell_type": "code",
   "execution_count": 11,
   "id": "3723269a",
   "metadata": {},
   "outputs": [
    {
     "data": {
      "application/vnd.jupyter.widget-view+json": {
       "model_id": "08ca1b2ed9e348a38cc196ebace22831",
       "version_major": 2,
       "version_minor": 0
      },
      "text/plain": [
       "VBox()"
      ]
     },
     "metadata": {},
     "output_type": "display_data"
    },
    {
     "data": {
      "application/vnd.jupyter.widget-view+json": {
       "model_id": "",
       "version_major": 2,
       "version_minor": 0
      },
      "text/plain": [
       "FloatProgress(value=0.0, bar_style='info', description='Progress:', layout=Layout(height='25px', width='50%'),…"
      ]
     },
     "metadata": {},
     "output_type": "display_data"
    }
   ],
   "source": [
    "// Upsert the records in updateDF\n",
    "updateDF.\n",
    "    write.\n",
    "    format(\"org.apache.hudi\").\n",
    "    option(DataSourceWriteOptions.OPERATION_OPT_KEY, DataSourceWriteOptions.UPSERT_OPERATION_OPT_VAL).\n",
    "    options(hudiOptions).\n",
    "    mode(SaveMode.Append).\n",
    "    save(\"s3://hudi-sharkech/myhudidataset_scala/\")"
   ]
  },
  {
   "cell_type": "code",
   "execution_count": 12,
   "id": "b4371fc7",
   "metadata": {},
   "outputs": [
    {
     "data": {
      "application/vnd.jupyter.widget-view+json": {
       "model_id": "49fff5bfbe604829b47c86c4aa436d43",
       "version_major": 2,
       "version_minor": 0
      },
      "text/plain": [
       "VBox()"
      ]
     },
     "metadata": {},
     "output_type": "display_data"
    },
    {
     "data": {
      "application/vnd.jupyter.widget-view+json": {
       "model_id": "",
       "version_major": 2,
       "version_minor": 0
      },
      "text/plain": [
       "FloatProgress(value=0.0, bar_style='info', description='Progress:', layout=Layout(height='25px', width='50%'),…"
      ]
     },
     "metadata": {},
     "output_type": "display_data"
    },
    {
     "name": "stdout",
     "output_type": "stream",
     "text": [
      "snapshotQueryDF: org.apache.spark.sql.DataFrame = [_hoodie_commit_time: string, _hoodie_commit_seqno: string ... 7 more fields]\n",
      "+---+-------------------+-----------+-------------------+\n",
      "| id|               name|create_date|   last_update_time|\n",
      "+---+-------------------+-----------+-------------------+\n",
      "|  1|Christopher Sharkey| 2020-01-01|2020-01-03 00:00:00|\n",
      "|  2|               Will| 2020-01-01|2020-01-01 00:00:00|\n",
      "|  3|               Emma| 2020-01-01|2020-01-01 00:00:00|\n",
      "|  4|               John| 2020-01-01|2020-01-01 00:00:00|\n",
      "|  5|               Eric| 2020-01-01|2020-01-01 00:00:00|\n",
      "|  6|               Adam| 2020-01-01|2020-01-01 00:00:00|\n",
      "|  7|              Kelly| 2020-01-02|2020-01-02 00:00:00|\n",
      "|  8|               Ella| 2020-01-03|2020-01-03 00:00:00|\n",
      "+---+-------------------+-----------+-------------------+\n",
      "\n"
     ]
    }
   ],
   "source": [
    "// Check that the upsert worked\n",
    "val snapshotQueryDF = spark.read.format(\"org.apache.hudi\").load(\"s3://hudi-sharkech/myhudidataset_scala\" + \"/*/*\")\n",
    "\n",
    "// snapshotQueryDF.orderBy(\"id\").show()\n",
    "// snapshotQueryDF.select(\"id\", \"_hoodie_record_key\", \"_hoodie_commit_time\", \"_hoodie_commit_seqno\", \"_hoodie_partition_path\", \"_hoodie_file_name\").orderBy(\"id\").show()\n",
    "\n",
    "snapshotQueryDF.select(\"id\", \"name\", \"create_date\", \"last_update_time\").orderBy(\"id\").show()"
   ]
  },
  {
   "cell_type": "markdown",
   "id": "e8450cc0",
   "metadata": {},
   "source": [
    "## Incremental query\n",
    "\n",
    "So far we have preformed 3 actions on our Hudi table \n",
    "\n",
    "1. Inital write to the Hudi table ```myhudidataset```\n",
    "2. *Upsert 1* - Changed **Chris** to **Chris Sharkey** & added a new record for **Kelly**\n",
    "3. *Upsert 2*  - Changed **Chris Sharkey** to **Christopher Sharkey** & added a new record for **Ella**\n",
    "\n",
    "We performed each of the 3 actions seperatly aka. in 3 Hudi commits \n",
    "\n",
    "Lets look at the distinct commit times"
   ]
  },
  {
   "cell_type": "code",
   "execution_count": 13,
   "id": "01a85c0a",
   "metadata": {},
   "outputs": [
    {
     "data": {
      "application/vnd.jupyter.widget-view+json": {
       "model_id": "ca71dc6086f841bba6e52d75a8e11483",
       "version_major": 2,
       "version_minor": 0
      },
      "text/plain": [
       "VBox()"
      ]
     },
     "metadata": {},
     "output_type": "display_data"
    },
    {
     "data": {
      "application/vnd.jupyter.widget-view+json": {
       "model_id": "",
       "version_major": 2,
       "version_minor": 0
      },
      "text/plain": [
       "FloatProgress(value=0.0, bar_style='info', description='Progress:', layout=Layout(height='25px', width='50%'),…"
      ]
     },
     "metadata": {},
     "output_type": "display_data"
    },
    {
     "name": "stdout",
     "output_type": "stream",
     "text": [
      "snapshotQueryDF: org.apache.spark.sql.DataFrame = [_hoodie_commit_time: string, _hoodie_commit_seqno: string ... 7 more fields]\n",
      "+-------------------+\n",
      "|_hoodie_commit_time|\n",
      "+-------------------+\n",
      "|     20211110163043|\n",
      "|     20211110163109|\n",
      "|     20211110163140|\n",
      "+-------------------+\n",
      "\n"
     ]
    }
   ],
   "source": [
    "// View the commits times\n",
    "val snapshotQueryDF = spark.read.format(\"org.apache.hudi\").load(\"s3://hudi-sharkech/myhudidataset_scala\" + \"/*/*\")\n",
    "\n",
    "snapshotQueryDF.select(\"_hoodie_commit_time\").orderBy(\"_hoodie_commit_time\").distinct().show()"
   ]
  },
  {
   "cell_type": "markdown",
   "id": "a48f97fb",
   "metadata": {},
   "source": [
    "notice that we have 3 unique commit times corresponding to the 3 commits we have performed so far\n",
    "\n",
    "Hudi provides a query type ```incremental``` which can identify all of the records that have changed between given commit times\n",
    "\n",
    "The example below will identify all of the records that have changed since our first commit\n",
    "\n",
    "Note the options we set in the variable ```incremental_read_options```\n",
    "* ```QUERY_TYPE_OPT_KEY``` is set to ```QUERY_TYPE_INCREMENTAL_OPT_VAL``` \n",
    "* ```BEGIN_INSTANTTIME_OPT_KEY``` is set to the time of our fist commit\n",
    "* Since we do not specify an ```END_INSTANTTIME_OPT_KEY``` this query will return all of the records that have changed since the ```BEGIN_INSTANTTIME_OPT_KEY```\n",
    "\n",
    "*Note* adjust the ```BEGIN_INSTANTTIME_OPT_KEY``` based on the results of the last query. Set ```BEGIN_INSTANTTIME_OPT_KEY``` to the time of the first Hudi commit"
   ]
  },
  {
   "cell_type": "code",
   "execution_count": null,
   "id": "54c175a3",
   "metadata": {},
   "outputs": [],
   "source": [
    "val incremental_read_options = Map[String,String](\n",
    "    DataSourceReadOptions.QUERY_TYPE_OPT_KEY -> QUERY_TYPE_INCREMENTAL_OPT_VAL,\n",
    "    DataSourceReadOptions.BEGIN_INSTANTTIME_OPT_KEY -> \"20211110162205\"\n",
    ")\n",
    "\n",
    "val tripsIncrementalDF = spark.\n",
    "    read.format(\"hudi\").\n",
    "    options(incremental_read_options).\n",
    "    load(\"s3://hudi-sharkech/myhudidataset_scala\" + \"/*/*\")\n",
    "\n",
    "tripsIncrementalDF.select(\"id\", \"name\", \"create_date\", \"last_update_time\", \"_hoodie_commit_time\").orderBy(\"_hoodie_commit_time\").show()"
   ]
  },
  {
   "cell_type": "markdown",
   "id": "48121e02",
   "metadata": {},
   "source": [
    "## Point in Time query\n",
    "\n",
    "Building on our incremental query we can specify a specific range for the ```BEGIN_INSTANTTIME_OPT_KEY``` and ```END_INSTANTTIME_OPT_KEY``` aka a point in time query\n",
    "\n",
    "This will the show the changes at specific points in time\n",
    "\n",
    "For the first point in time query we can set the ```BEGIN_INSTANTTIME_OPT_KEY``` to a time before our first commit and ```END_INSTANTTIME_OPT_KEY``` to the time of our first commit\n",
    "\n",
    "*Note* adjust the ```END_INSTANTTIME_OPT_KEY``` to the the time of our fist commit"
   ]
  },
  {
   "cell_type": "code",
   "execution_count": null,
   "id": "b9121c1f",
   "metadata": {},
   "outputs": [],
   "source": [
    "val incremental_read_options = Map[String,String](\n",
    "    DataSourceReadOptions.QUERY_TYPE_OPT_KEY -> QUERY_TYPE_INCREMENTAL_OPT_VAL,\n",
    "    DataSourceReadOptions.BEGIN_INSTANTTIME_OPT_KEY -> \"20211105180300\",\n",
    "    DataSourceReadOptions.END_INSTANTTIME_OPT_KEY -> \"20211110162205\"\n",
    ")\n",
    "\n",
    "val tripsIncrementalDF = spark.\n",
    "    read.format(\"hudi\").\n",
    "    options(incremental_read_options).\n",
    "    load(\"s3://hudi-sharkech/myhudidataset_scala\" + \"/*/*\")\n",
    "\n",
    "tripsIncrementalDF.select(\"id\", \"name\", \"create_date\", \"last_update_time\", \"_hoodie_commit_time\").orderBy(\"_hoodie_commit_time\").show()"
   ]
  },
  {
   "cell_type": "markdown",
   "id": "f1e6f454",
   "metadata": {},
   "source": [
    "for the second point in time query we can set the ```END_INSTANTTIME_OPT_KEY``` equal to the time of our first commit and ```END_INSTANTTIME_OPT_KEY``` equal to the time of our second commit\n",
    "\n",
    "*Note* adjust the ```BEGIN_INSTANTTIME_OPT_KEY``` to the the time of our first commit and adjust the ```END_INSTANTTIME_OPT_KEY``` to the the time of our second commit"
   ]
  },
  {
   "cell_type": "code",
   "execution_count": null,
   "id": "5838c34b",
   "metadata": {},
   "outputs": [],
   "source": [
    "val incremental_read_options = Map[String,String](\n",
    "    DataSourceReadOptions.QUERY_TYPE_OPT_KEY -> QUERY_TYPE_INCREMENTAL_OPT_VAL,\n",
    "    DataSourceReadOptions.BEGIN_INSTANTTIME_OPT_KEY -> \"20211110162205\",\n",
    "    DataSourceReadOptions.END_INSTANTTIME_OPT_KEY -> \"20211110162229\"\n",
    ")\n",
    "\n",
    "val tripsIncrementalDF = spark.\n",
    "    read.format(\"hudi\").\n",
    "    options(incremental_read_options).\n",
    "    load(\"s3://hudi-sharkech/myhudidataset_scala\" + \"/*/*\")\n",
    "\n",
    "tripsIncrementalDF.select(\"id\", \"name\", \"create_date\", \"last_update_time\", \"_hoodie_commit_time\").orderBy(\"_hoodie_commit_time\").show()"
   ]
  },
  {
   "cell_type": "markdown",
   "id": "98060afb",
   "metadata": {},
   "source": [
    "## Delete data"
   ]
  },
  {
   "cell_type": "code",
   "execution_count": null,
   "id": "e2c39266",
   "metadata": {},
   "outputs": [],
   "source": [
    "// Create a new data frame\n",
    "val deleteDF = Seq(\n",
    "    (\"1\", \"Christopher Sharkey\", \"2020-01-01\", Timestamp.valueOf(\"2020-01-03 00:00:00\")),\n",
    "    (\"8\", \"Ella\", \"2020-01-03\", Timestamp.valueOf(\"2020-01-03 00:00:00\"))\n",
    ").toDF(\n",
    "    \"id\",\n",
    "    \"name\",\n",
    "    \"create_date\",\n",
    "    \"last_update_time\"\n",
    ")\n",
    "\n",
    "// inputDF.show()\n",
    "// inputDF.printSchema()"
   ]
  },
  {
   "cell_type": "code",
   "execution_count": null,
   "id": "5d470413",
   "metadata": {},
   "outputs": [],
   "source": [
    "val hudiOptionsDelete = Map[String,String](\n",
    "  HoodieWriteConfig.TABLE_NAME -> \"my_hudi_table_scala\",\n",
    "  DataSourceWriteOptions.RECORDKEY_FIELD_OPT_KEY -> \"id\",\n",
    "  DataSourceWriteOptions.PARTITIONPATH_FIELD_OPT_KEY -> \"creation_date\",\n",
    "  DataSourceWriteOptions.PRECOMBINE_FIELD_OPT_KEY -> \"last_update_time\",\n",
    "  DataSourceWriteOptions.OPERATION_OPT_KEY -> \"delete\"\n",
    ")\n",
    "\n",
    "inputDF.\n",
    "    write.\n",
    "    format(\"org.apache.hudi\").\n",
    "    options(hudiOptionsDelete).\n",
    "    mode(SaveMode.Append).\n",
    "    save(\"s3://hudi-sharkech/myhudidataset_scala/\")"
   ]
  },
  {
   "cell_type": "code",
   "execution_count": null,
   "id": "fafeade8",
   "metadata": {},
   "outputs": [],
   "source": [
    "// Check that the delete worked\n",
    "val snapshotQueryDF = spark.read.format(\"org.apache.hudi\").load(\"s3://hudi-sharkech/myhudidataset_python\" + \"/*/*\")\n",
    "\n",
    "// snapshotQueryDF.show()\n",
    "\n",
    "snapshotQueryDF.select(\"id\", \"name\", \"create_date\", \"last_update_time\").orderBy(\"id\").show()"
   ]
  }
 ],
 "metadata": {
  "kernelspec": {
   "display_name": "Spark",
   "language": "",
   "name": "sparkkernel"
  },
  "language_info": {
   "codemirror_mode": "text/x-scala",
   "mimetype": "text/x-scala",
   "name": "scala",
   "pygments_lexer": "scala"
  }
 },
 "nbformat": 4,
 "nbformat_minor": 5
}
