{
 "cells": [
  {
   "cell_type": "markdown",
   "id": "ef1c20a3",
   "metadata": {},
   "source": [
    "## Reference Material\n",
    "\n",
    "* [Hudi Documentation Quick Start Guide][1]\n",
    "* [EMR Hudi Documentation][2]\n",
    "* [EMR Hudi Docuementation - Work with a Hudi dataset][3]\n",
    "\n",
    "[1]:https://hudi.apache.org/docs/quick-start-guide/#setup]\n",
    "[2]:https://docs.aws.amazon.com/emr/latest/ReleaseGuide/emr-hudi.html\n",
    "[3]:https://docs.aws.amazon.com/emr/latest/ReleaseGuide/emr-hudi-work-with-dataset.html"
   ]
  },
  {
   "cell_type": "markdown",
   "id": "415e25e1",
   "metadata": {},
   "source": [
    "## Configuration"
   ]
  },
  {
   "cell_type": "markdown",
   "id": "692a9c0f",
   "metadata": {},
   "source": [
    "Before running the code in the cell(s) below SSH into your EMR cluster and run the following \n",
    "\n",
    "```hdfs dfs -mkdir -p /apps/hudi/lib```\n",
    "\n",
    "```hdfs dfs -copyFromLocal /usr/lib/hudi/hudi-spark-bundle.jar /apps/hudi/lib/hudi-spark-bundle.jar```\n",
    "\n",
    "```hdfs dfs -copyFromLocal /usr/lib/spark/external/lib/spark-avro.jar /apps/hudi/lib/spark-avro.jar```\n",
    "\n",
    "This will copy the Hudi jar files from the local file system to HDFS on the master node of the notebook cluster"
   ]
  },
  {
   "cell_type": "code",
   "execution_count": 1,
   "id": "fc7df1bc",
   "metadata": {},
   "outputs": [
    {
     "data": {
      "text/html": [
       "Current session configs: <tt>{'conf': {'spark.jars': 'hdfs:///apps/hudi/lib/hudi-spark-bundle.jar,hdfs:///apps/hudi/lib/spark-avro.jar', 'spark.serializer': 'org.apache.spark.serializer.KryoSerializer', 'spark.sql.hive.convertMetastoreParquet': 'false'}, 'proxyUser': 'assumed-role_admin_sharkech-Isengard', 'kind': 'pyspark'}</tt><br>"
      ],
      "text/plain": [
       "<IPython.core.display.HTML object>"
      ]
     },
     "metadata": {},
     "output_type": "display_data"
    },
    {
     "data": {
      "text/html": [
       "No active sessions."
      ],
      "text/plain": [
       "<IPython.core.display.HTML object>"
      ]
     },
     "metadata": {},
     "output_type": "display_data"
    }
   ],
   "source": [
    "%%configure\n",
    "{\n",
    "    \"conf\": {\n",
    "            \"spark.jars\":\"hdfs:///apps/hudi/lib/hudi-spark-bundle.jar,hdfs:///apps/hudi/lib/spark-avro.jar\",\n",
    "            \"spark.serializer\":\"org.apache.spark.serializer.KryoSerializer\",\n",
    "            \"spark.sql.hive.convertMetastoreParquet\":\"false\"\n",
    "    }\n",
    "}"
   ]
  },
  {
   "cell_type": "code",
   "execution_count": 2,
   "id": "1a8d561e",
   "metadata": {},
   "outputs": [
    {
     "data": {
      "application/vnd.jupyter.widget-view+json": {
       "model_id": "5794bc79de9e49bc93b680fe25ef275b",
       "version_major": 2,
       "version_minor": 0
      },
      "text/plain": [
       "VBox()"
      ]
     },
     "metadata": {},
     "output_type": "display_data"
    },
    {
     "name": "stdout",
     "output_type": "stream",
     "text": [
      "Starting Spark application\n"
     ]
    },
    {
     "data": {
      "text/html": [
       "<table>\n",
       "<tr><th>ID</th><th>YARN Application ID</th><th>Kind</th><th>State</th><th>Spark UI</th><th>Driver log</th><th>Current session?</th></tr><tr><td>21</td><td>application_1636465466779_0022</td><td>pyspark</td><td>idle</td><td><a target=\"_blank\" href=\"http://ip-172-31-43-207.ec2.internal:20888/proxy/application_1636465466779_0022/\" class=\"emr-proxy-link\" emr-resource=\"j-1JETVFHCNDPKD\n",
       "\" application-id=\"application_1636465466779_0022\">Link</a></td><td><a target=\"_blank\" href=\"http://ip-172-31-41-193.ec2.internal:8042/node/containerlogs/container_1636465466779_0022_01_000001/livy\" >Link</a></td><td>✔</td></tr></table>"
      ],
      "text/plain": [
       "<IPython.core.display.HTML object>"
      ]
     },
     "metadata": {},
     "output_type": "display_data"
    },
    {
     "data": {
      "application/vnd.jupyter.widget-view+json": {
       "model_id": "",
       "version_major": 2,
       "version_minor": 0
      },
      "text/plain": [
       "FloatProgress(value=0.0, bar_style='info', description='Progress:', layout=Layout(height='25px', width='50%'),…"
      ]
     },
     "metadata": {},
     "output_type": "display_data"
    },
    {
     "name": "stdout",
     "output_type": "stream",
     "text": [
      "SparkSession available as 'spark'.\n"
     ]
    },
    {
     "data": {
      "application/vnd.jupyter.widget-view+json": {
       "model_id": "",
       "version_major": 2,
       "version_minor": 0
      },
      "text/plain": [
       "FloatProgress(value=0.0, bar_style='info', description='Progress:', layout=Layout(height='25px', width='50%'),…"
      ]
     },
     "metadata": {},
     "output_type": "display_data"
    }
   ],
   "source": [
    "from pyspark.sql.functions import *\n",
    "from pyspark.sql.types import *\n",
    "\n",
    "from datetime import datetime"
   ]
  },
  {
   "cell_type": "markdown",
   "id": "60795ef6",
   "metadata": {},
   "source": [
    "## Create a DataFrame"
   ]
  },
  {
   "cell_type": "code",
   "execution_count": 3,
   "id": "3238028e",
   "metadata": {},
   "outputs": [
    {
     "data": {
      "application/vnd.jupyter.widget-view+json": {
       "model_id": "b660c996879443a19d7403551ec9cb2e",
       "version_major": 2,
       "version_minor": 0
      },
      "text/plain": [
       "VBox()"
      ]
     },
     "metadata": {},
     "output_type": "display_data"
    },
    {
     "data": {
      "application/vnd.jupyter.widget-view+json": {
       "model_id": "",
       "version_major": 2,
       "version_minor": 0
      },
      "text/plain": [
       "FloatProgress(value=0.0, bar_style='info', description='Progress:', layout=Layout(height='25px', width='50%'),…"
      ]
     },
     "metadata": {},
     "output_type": "display_data"
    }
   ],
   "source": [
    "data = [\n",
    "        (\"1\", \"Chris\", \"2020-01-01\", datetime.strptime('2020-01-01 00:00:00', '%Y-%m-%d %H:%M:%S')),\n",
    "        (\"2\", \"Will\", \"2020-01-01\", datetime.strptime('2020-01-01 00:00:00', '%Y-%m-%d %H:%M:%S')),\n",
    "        (\"3\", \"Emma\", \"2020-01-01\", datetime.strptime('2020-01-01 00:00:00', '%Y-%m-%d %H:%M:%S')),\n",
    "        (\"4\", \"John\", \"2020-01-01\", datetime.strptime('2020-01-01 00:00:00', '%Y-%m-%d %H:%M:%S')),\n",
    "        (\"5\", \"Eric\", \"2020-01-01\", datetime.strptime('2020-01-01 00:00:00', '%Y-%m-%d %H:%M:%S')),\n",
    "        (\"6\", \"Adam\", \"2020-01-01\", datetime.strptime('2020-01-01 00:00:00', '%Y-%m-%d %H:%M:%S'))\n",
    "]\n",
    "\n",
    "schema = StructType([\n",
    "        StructField(\"id\", StringType(), False),\n",
    "        StructField(\"name\", StringType(), False), \n",
    "        StructField(\"create_date\", StringType(), False),             \n",
    "        StructField(\"last_update_time\", TimestampType(), False)\n",
    "])\n",
    "\n",
    "inputDF = spark.createDataFrame(data=data,schema=schema)\n",
    "\n",
    "# inputDF.show()\n",
    "# inputDF.printSchema()"
   ]
  },
  {
   "cell_type": "markdown",
   "id": "a8d3dab0",
   "metadata": {},
   "source": [
    "## Write to S3 via. Hudi\n",
    "\n",
    "We create a ```hudiOptions``` variable. We use this when we write data to S3. \n",
    "\n",
    "DataSourceWriteOptions for ***Hudi***: \n",
    "\n",
    "Option|Description\n",
    ":---|:---|\n",
    "TABLE_NAME|The table name under which to register the dataset\n",
    "TABLE_TYPE_OPT_KEY|Optional. Specifies whether the dataset is created as ```COPY_ON_WRITE``` or ```MERGE_ON_READ```. The default is ```COPY_ON_WRITE```\n",
    "RECORDKEY_FIELD_OPT_KEY|The record key field whose value will be used as the recordKey component of HoodieKey. Actual value will be obtained by invoking .toString() on the field value. Nested fields can be specified using the dot notation, for example, a.b.c\n",
    "PARTITIONPATH_FIELD_OPT_KEY|The partition path field whose value will be used as the partitionPath component of HoodieKey. The actual value will be obtained by invoking .toString() on the field value\n",
    "PRECOMBINE_FIELD_OPT_KEY|The field used in pre-combining before actual write. When two records have the same key value, Hudi picks the one with the largest value for the precombine field as determined by Object.compareTo(..)\n",
    "\n",
    "DataSourceWriteOptions for ***Hive***:\n",
    "\n",
    "Option|Description\n",
    ":---|:---|\n",
    "HIVE_DATABASE_OPT_KEY|The Hive database to sync to. The default is ```default```\n",
    "HIVE_PARTITION_EXTRACTOR_CLASS_OPT_KEY|The class used to extract partition field values into Hive partition columns\n",
    "HIVE_PARTITION_FIELDS_OPT_KEY|The field in the dataset to use for determining Hive partition columns\n",
    "HIVE_SYNC_ENABLED_OPT_KEY|When set to ```true```, registers the dataset with the Apache Hive metastore.                     \n",
    "HIVE_TABLE_OPT_KEY|Required. The name of the table in Hive to sync to. For example the table name can be, ```my_hudi_table``` or any other name specified\n",
    "HIVE_USER_OPT_KEY|Optional. The Hive user name to use when syncing. For example, ```hadoop```\n",
    "HIVE_PASS_OPT_KEY|Optional. The Hive password for the user specified by HIVE_USER_OPT_KEY\n",
    "HIVE_URL_OPT_KEY|The Hive metastore URL\n",
    "\n",
    "For a full list of configurations view the [Hudi Documentation - Configurations][1]\n",
    "\n",
    "*ensure that the ```hoodie.datasource.write.partitionpath.field``` and ```hoodie.datasource.write.precombine.field``` use different columns*\n",
    "\n",
    "[1]:https://hudi.apache.org/docs/configurations/#Index-Configs"
   ]
  },
  {
   "cell_type": "code",
   "execution_count": 4,
   "id": "7bb7a8d4",
   "metadata": {},
   "outputs": [
    {
     "data": {
      "application/vnd.jupyter.widget-view+json": {
       "model_id": "421504ab74a5441ba2812a8cf76ea59a",
       "version_major": 2,
       "version_minor": 0
      },
      "text/plain": [
       "VBox()"
      ]
     },
     "metadata": {},
     "output_type": "display_data"
    },
    {
     "data": {
      "application/vnd.jupyter.widget-view+json": {
       "model_id": "",
       "version_major": 2,
       "version_minor": 0
      },
      "text/plain": [
       "FloatProgress(value=0.0, bar_style='info', description='Progress:', layout=Layout(height='25px', width='50%'),…"
      ]
     },
     "metadata": {},
     "output_type": "display_data"
    }
   ],
   "source": [
    "# Create hudiOptions variable\n",
    "hudiOptions = {\n",
    "    'hoodie.table.name': 'my_hudi_table_python',\n",
    "    'hoodie.datasource.write.recordkey.field': 'id',\n",
    "    'hoodie.datasource.write.partitionpath.field': 'create_date',\n",
    "    'hoodie.datasource.write.precombine.field': 'last_update_time',\n",
    "    'hoodie.datasource.hive_sync.enable': 'true',\n",
    "    'hoodie.datasource.hive_sync.table': 'my_hudi_table_python',\n",
    "    'hoodie.datasource.hive_sync.partition_fields': 'last_update_time',\n",
    "    'hoodie.datasource.hive_sync.partition_extractor_class': 'org.apache.hudi.hive.MultiPartKeysValueExtractor'\n",
    "}"
   ]
  },
  {
   "cell_type": "markdown",
   "id": "824b787c",
   "metadata": {},
   "source": [
    "*Note* adjust the s3 path in ```.save()``` below\n",
    "\n",
    "Options for ```hoodie.datasource.write.operation```\n",
    "\n",
    "Option|Description\n",
    ":---|:---|\n",
    "UPSERT|This is the default operation where the input records are first tagged as inserts or updates by looking up the index. The records are ultimately written after heuristics are run to determine how best to pack them on storage to optimize for things like file sizing. This operation is recommended for use-cases like database change capture where the input almost certainly contains updates. The target table will never show duplicates\n",
    "INSERT|This operation is very similar to upsert in terms of heuristics/file sizing but completely skips the index lookup step. Thus, it can be a lot faster than upserts for use-cases like log de-duplication (in conjunction with options to filter duplicates mentioned below). This is also suitable for use-cases where the table can tolerate duplicates, but just need the transactional writes/incremental pull/storage management capabilities of Hudi\n",
    "BULK_INSERT|Both upsert and insert operations keep input records in memory to speed up storage heuristics computations faster (among other things) and thus can be cumbersome for initial loading/bootstrapping a Hudi table at first. Bulk insert provides the same semantics as insert, while implementing a sort-based data writing algorithm, which can scale very well for several hundred TBs of initial load. However, this just does a best-effort job at sizing files vs guaranteeing file sizes like inserts/upserts do"
   ]
  },
  {
   "cell_type": "code",
   "execution_count": 5,
   "id": "c931b8f7",
   "metadata": {},
   "outputs": [
    {
     "data": {
      "application/vnd.jupyter.widget-view+json": {
       "model_id": "4b40f37702fb46cda62714887f433161",
       "version_major": 2,
       "version_minor": 0
      },
      "text/plain": [
       "VBox()"
      ]
     },
     "metadata": {},
     "output_type": "display_data"
    },
    {
     "data": {
      "application/vnd.jupyter.widget-view+json": {
       "model_id": "",
       "version_major": 2,
       "version_minor": 0
      },
      "text/plain": [
       "FloatProgress(value=0.0, bar_style='info', description='Progress:', layout=Layout(height='25px', width='50%'),…"
      ]
     },
     "metadata": {},
     "output_type": "display_data"
    }
   ],
   "source": [
    "# Write a DataFrame to S3 as a Hudi dataset \n",
    "inputDF \\\n",
    "    .write \\\n",
    "    .format('org.apache.hudi') \\\n",
    "    .option('hoodie.datasource.write.operation', 'insert') \\\n",
    "    .options(**hudiOptions) \\\n",
    "    .mode('overwrite') \\\n",
    "    .save('s3://hudi-sharkech/myhudidataset_python/')"
   ]
  },
  {
   "cell_type": "markdown",
   "id": "9a491530",
   "metadata": {},
   "source": [
    "## Read the Hudi Table\n",
    "\n",
    "Hudi performs snapshot queries by default. Snapshot queries retrieve data at the present point in time"
   ]
  },
  {
   "cell_type": "code",
   "execution_count": 6,
   "id": "8f0e6979",
   "metadata": {},
   "outputs": [
    {
     "data": {
      "application/vnd.jupyter.widget-view+json": {
       "model_id": "27b8cf8c8fce4a7b9cbdf5fc65e64880",
       "version_major": 2,
       "version_minor": 0
      },
      "text/plain": [
       "VBox()"
      ]
     },
     "metadata": {},
     "output_type": "display_data"
    },
    {
     "data": {
      "application/vnd.jupyter.widget-view+json": {
       "model_id": "",
       "version_major": 2,
       "version_minor": 0
      },
      "text/plain": [
       "FloatProgress(value=0.0, bar_style='info', description='Progress:', layout=Layout(height='25px', width='50%'),…"
      ]
     },
     "metadata": {},
     "output_type": "display_data"
    },
    {
     "name": "stdout",
     "output_type": "stream",
     "text": [
      "+---+-----+-----------+-------------------+\n",
      "| id| name|create_date|   last_update_time|\n",
      "+---+-----+-----------+-------------------+\n",
      "|  1|Chris| 2020-01-01|2020-01-01 00:00:00|\n",
      "|  2| Will| 2020-01-01|2020-01-01 00:00:00|\n",
      "|  3| Emma| 2020-01-01|2020-01-01 00:00:00|\n",
      "|  4| John| 2020-01-01|2020-01-01 00:00:00|\n",
      "|  5| Eric| 2020-01-01|2020-01-01 00:00:00|\n",
      "|  6| Adam| 2020-01-01|2020-01-01 00:00:00|\n",
      "+---+-----+-----------+-------------------+"
     ]
    }
   ],
   "source": [
    "snapshotQueryDF = spark.read.format('org.apache.hudi').load('s3://hudi-sharkech/myhudidataset_python' + '/*/*')\n",
    "\n",
    "# snapshotQueryDF.orderBy(\"id\").show()\n",
    "# snapshotQueryDF.select(\"_hoodie_commit_time\", \"_hoodie_commit_seqno\", \"_hoodie_record_key\", \"_hoodie_partition_path\", \"_hoodie_file_name\").orderBy(\"_hoodie_record_key\").show()\n",
    "\n",
    "snapshotQueryDF.select(\"id\", \"name\", \"create_date\", \"last_update_time\").orderBy(\"id\").show()"
   ]
  },
  {
   "cell_type": "markdown",
   "id": "ffc1dfb9",
   "metadata": {},
   "source": [
    "query the Hudi table again including the hudi specific columns"
   ]
  },
  {
   "cell_type": "code",
   "execution_count": 7,
   "id": "8b6e9634",
   "metadata": {},
   "outputs": [
    {
     "data": {
      "application/vnd.jupyter.widget-view+json": {
       "model_id": "3de78ce6bf1942018dfe59e3b45803bc",
       "version_major": 2,
       "version_minor": 0
      },
      "text/plain": [
       "VBox()"
      ]
     },
     "metadata": {},
     "output_type": "display_data"
    },
    {
     "data": {
      "application/vnd.jupyter.widget-view+json": {
       "model_id": "",
       "version_major": 2,
       "version_minor": 0
      },
      "text/plain": [
       "FloatProgress(value=0.0, bar_style='info', description='Progress:', layout=Layout(height='25px', width='50%'),…"
      ]
     },
     "metadata": {},
     "output_type": "display_data"
    },
    {
     "name": "stdout",
     "output_type": "stream",
     "text": [
      "+---+------------------+-------------------+--------------------+----------------------+--------------------+\n",
      "| id|_hoodie_record_key|_hoodie_commit_time|_hoodie_commit_seqno|_hoodie_partition_path|   _hoodie_file_name|\n",
      "+---+------------------+-------------------+--------------------+----------------------+--------------------+\n",
      "|  1|                 1|     20211110164334|  20211110164334_0_3|            2020-01-01|08830050-aae7-435...|\n",
      "|  2|                 2|     20211110164334|  20211110164334_0_1|            2020-01-01|08830050-aae7-435...|\n",
      "|  3|                 3|     20211110164334|  20211110164334_0_4|            2020-01-01|08830050-aae7-435...|\n",
      "|  4|                 4|     20211110164334|  20211110164334_0_5|            2020-01-01|08830050-aae7-435...|\n",
      "|  5|                 5|     20211110164334|  20211110164334_0_2|            2020-01-01|08830050-aae7-435...|\n",
      "|  6|                 6|     20211110164334|  20211110164334_0_6|            2020-01-01|08830050-aae7-435...|\n",
      "+---+------------------+-------------------+--------------------+----------------------+--------------------+"
     ]
    }
   ],
   "source": [
    "snapshotQueryDF = spark.read.format('org.apache.hudi').load('s3://hudi-sharkech/myhudidataset_python' + '/*/*')\n",
    "\n",
    "# snapshotQueryDF.orderBy(\"id\").show()\n",
    "snapshotQueryDF.select(\"id\", \"_hoodie_record_key\", \"_hoodie_commit_time\", \"_hoodie_commit_seqno\", \"_hoodie_partition_path\", \"_hoodie_file_name\").orderBy(\"id\").show()\n",
    "\n",
    "# snapshotQueryDF.select(\"id\", \"name\", \"create_date\", \"last_update_time\").orderBy(\"id\").show()"
   ]
  },
  {
   "cell_type": "markdown",
   "id": "4535223d",
   "metadata": {},
   "source": [
    "## Upsert data\n",
    "\n",
    "Lets do an upsert ... this will be *upsert #1*"
   ]
  },
  {
   "cell_type": "code",
   "execution_count": 8,
   "id": "500d6fc6",
   "metadata": {},
   "outputs": [
    {
     "data": {
      "application/vnd.jupyter.widget-view+json": {
       "model_id": "9c52a29c9bbb4a3a8839d7abca465534",
       "version_major": 2,
       "version_minor": 0
      },
      "text/plain": [
       "VBox()"
      ]
     },
     "metadata": {},
     "output_type": "display_data"
    },
    {
     "data": {
      "application/vnd.jupyter.widget-view+json": {
       "model_id": "",
       "version_major": 2,
       "version_minor": 0
      },
      "text/plain": [
       "FloatProgress(value=0.0, bar_style='info', description='Progress:', layout=Layout(height='25px', width='50%'),…"
      ]
     },
     "metadata": {},
     "output_type": "display_data"
    }
   ],
   "source": [
    "# Create a new data frame with an updated last_update_time\n",
    "data = [\n",
    "        (\"1\", \"Chris Sharkey\", \"2020-01-01\", datetime.strptime('2020-01-02 00:00:00', '%Y-%m-%d %H:%M:%S')),\n",
    "        (\"7\", \"Kelly\", \"2020-01-02\", datetime.strptime('2020-01-02 00:00:00', '%Y-%m-%d %H:%M:%S'))\n",
    "]\n",
    "\n",
    "schema = StructType([\n",
    "        StructField(\"id\", StringType(), False),\n",
    "        StructField(\"name\", StringType(), False),\n",
    "        StructField(\"create_date\", StringType(), False),             \n",
    "        StructField(\"last_update_time\", TimestampType(), False)\n",
    "])\n",
    "\n",
    "updateDF = spark.createDataFrame(data=data,schema=schema)\n",
    "\n",
    "# updateDF.show()\n",
    "# updateDF.printSchema()"
   ]
  },
  {
   "cell_type": "code",
   "execution_count": 9,
   "id": "b0eb4462",
   "metadata": {},
   "outputs": [
    {
     "data": {
      "application/vnd.jupyter.widget-view+json": {
       "model_id": "120bae70f44f40cdb07c9f795b6568a3",
       "version_major": 2,
       "version_minor": 0
      },
      "text/plain": [
       "VBox()"
      ]
     },
     "metadata": {},
     "output_type": "display_data"
    },
    {
     "data": {
      "application/vnd.jupyter.widget-view+json": {
       "model_id": "",
       "version_major": 2,
       "version_minor": 0
      },
      "text/plain": [
       "FloatProgress(value=0.0, bar_style='info', description='Progress:', layout=Layout(height='25px', width='50%'),…"
      ]
     },
     "metadata": {},
     "output_type": "display_data"
    }
   ],
   "source": [
    "# Upsert the records in updateDF\n",
    "updateDF \\\n",
    "    .write \\\n",
    "    .format('org.apache.hudi') \\\n",
    "    .option('hoodie.datasource.write.operation', 'upsert') \\\n",
    "    .options(**hudiOptions) \\\n",
    "    .mode('append') \\\n",
    "    .save('s3://hudi-sharkech/myhudidataset_python/')"
   ]
  },
  {
   "cell_type": "code",
   "execution_count": 10,
   "id": "e747f396",
   "metadata": {},
   "outputs": [
    {
     "data": {
      "application/vnd.jupyter.widget-view+json": {
       "model_id": "c99c029cd4c4423d975cec34b0796dbc",
       "version_major": 2,
       "version_minor": 0
      },
      "text/plain": [
       "VBox()"
      ]
     },
     "metadata": {},
     "output_type": "display_data"
    },
    {
     "data": {
      "application/vnd.jupyter.widget-view+json": {
       "model_id": "",
       "version_major": 2,
       "version_minor": 0
      },
      "text/plain": [
       "FloatProgress(value=0.0, bar_style='info', description='Progress:', layout=Layout(height='25px', width='50%'),…"
      ]
     },
     "metadata": {},
     "output_type": "display_data"
    },
    {
     "name": "stdout",
     "output_type": "stream",
     "text": [
      "+---+-------------+-----------+-------------------+\n",
      "| id|         name|create_date|   last_update_time|\n",
      "+---+-------------+-----------+-------------------+\n",
      "|  1|Chris Sharkey| 2020-01-01|2020-01-02 00:00:00|\n",
      "|  2|         Will| 2020-01-01|2020-01-01 00:00:00|\n",
      "|  3|         Emma| 2020-01-01|2020-01-01 00:00:00|\n",
      "|  4|         John| 2020-01-01|2020-01-01 00:00:00|\n",
      "|  5|         Eric| 2020-01-01|2020-01-01 00:00:00|\n",
      "|  6|         Adam| 2020-01-01|2020-01-01 00:00:00|\n",
      "|  7|        Kelly| 2020-01-02|2020-01-02 00:00:00|\n",
      "+---+-------------+-----------+-------------------+"
     ]
    }
   ],
   "source": [
    "# Check that the upsert worked\n",
    "snapshotQueryDF = spark.read.format('org.apache.hudi').load('s3://hudi-sharkech/myhudidataset_python' + '/*/*')\n",
    "\n",
    "# snapshotQueryDF.show()\n",
    "# snapshotQueryDF.select(\"id\", \"_hoodie_record_key\", \"_hoodie_commit_time\", \"_hoodie_commit_seqno\", \"_hoodie_partition_path\", \"_hoodie_file_name\").orderBy(\"id\").show()\n",
    "\n",
    "snapshotQueryDF.select(\"id\", \"name\", \"create_date\", \"last_update_time\").orderBy(\"id\").show()"
   ]
  },
  {
   "cell_type": "markdown",
   "id": "0879d44b",
   "metadata": {},
   "source": [
    "Lets do another upsert ... this will be *upsert #2*"
   ]
  },
  {
   "cell_type": "code",
   "execution_count": 11,
   "id": "368ba192",
   "metadata": {},
   "outputs": [
    {
     "data": {
      "application/vnd.jupyter.widget-view+json": {
       "model_id": "3de79ecd030f42b9938a1c46112326ad",
       "version_major": 2,
       "version_minor": 0
      },
      "text/plain": [
       "VBox()"
      ]
     },
     "metadata": {},
     "output_type": "display_data"
    },
    {
     "data": {
      "application/vnd.jupyter.widget-view+json": {
       "model_id": "",
       "version_major": 2,
       "version_minor": 0
      },
      "text/plain": [
       "FloatProgress(value=0.0, bar_style='info', description='Progress:', layout=Layout(height='25px', width='50%'),…"
      ]
     },
     "metadata": {},
     "output_type": "display_data"
    }
   ],
   "source": [
    "# Create a new data frame with an updated last_update_time\n",
    "data = [\n",
    "        (\"1\", \"Christopher Sharkey\", \"2020-01-01\", datetime.strptime('2020-01-03 00:00:00', '%Y-%m-%d %H:%M:%S')),\n",
    "        (\"8\", \"Ella\", \"2020-01-03\", datetime.strptime('2020-01-03 00:00:00', '%Y-%m-%d %H:%M:%S'))\n",
    "]\n",
    "\n",
    "schema = StructType([\n",
    "        StructField(\"id\", StringType(), False),\n",
    "        StructField(\"name\", StringType(), False),\n",
    "        StructField(\"create_date\", StringType(), False),             \n",
    "        StructField(\"last_update_time\", TimestampType(), False)\n",
    "])\n",
    "\n",
    "updateDF = spark.createDataFrame(data=data,schema=schema)\n",
    "\n",
    "# updateDF.show()\n",
    "# updateDF.printSchema()"
   ]
  },
  {
   "cell_type": "code",
   "execution_count": 12,
   "id": "2c032f89",
   "metadata": {},
   "outputs": [
    {
     "data": {
      "application/vnd.jupyter.widget-view+json": {
       "model_id": "c3772539b0dd4b0788df3c64f6cf03e6",
       "version_major": 2,
       "version_minor": 0
      },
      "text/plain": [
       "VBox()"
      ]
     },
     "metadata": {},
     "output_type": "display_data"
    },
    {
     "data": {
      "application/vnd.jupyter.widget-view+json": {
       "model_id": "",
       "version_major": 2,
       "version_minor": 0
      },
      "text/plain": [
       "FloatProgress(value=0.0, bar_style='info', description='Progress:', layout=Layout(height='25px', width='50%'),…"
      ]
     },
     "metadata": {},
     "output_type": "display_data"
    }
   ],
   "source": [
    "# Upsert the records in updateDF\n",
    "updateDF \\\n",
    "    .write \\\n",
    "    .format('org.apache.hudi') \\\n",
    "    .option('hoodie.datasource.write.operation', 'upsert') \\\n",
    "    .options(**hudiOptions) \\\n",
    "    .mode('append') \\\n",
    "    .save('s3://hudi-sharkech/myhudidataset_python/')"
   ]
  },
  {
   "cell_type": "code",
   "execution_count": 13,
   "id": "f7d3642b",
   "metadata": {},
   "outputs": [
    {
     "data": {
      "application/vnd.jupyter.widget-view+json": {
       "model_id": "98962be5657342afab65e24b665b1ed2",
       "version_major": 2,
       "version_minor": 0
      },
      "text/plain": [
       "VBox()"
      ]
     },
     "metadata": {},
     "output_type": "display_data"
    },
    {
     "data": {
      "application/vnd.jupyter.widget-view+json": {
       "model_id": "",
       "version_major": 2,
       "version_minor": 0
      },
      "text/plain": [
       "FloatProgress(value=0.0, bar_style='info', description='Progress:', layout=Layout(height='25px', width='50%'),…"
      ]
     },
     "metadata": {},
     "output_type": "display_data"
    },
    {
     "name": "stdout",
     "output_type": "stream",
     "text": [
      "+---+-----+-----------+-------------------+\n",
      "| id| name|create_date|   last_update_time|\n",
      "+---+-----+-----------+-------------------+\n",
      "|  2| Will| 2020-01-01|2020-01-01 00:00:00|\n",
      "|  3| Emma| 2020-01-01|2020-01-01 00:00:00|\n",
      "|  4| John| 2020-01-01|2020-01-01 00:00:00|\n",
      "|  5| Eric| 2020-01-01|2020-01-01 00:00:00|\n",
      "|  6| Adam| 2020-01-01|2020-01-01 00:00:00|\n",
      "|  7|Kelly| 2020-01-02|2020-01-02 00:00:00|\n",
      "+---+-----+-----------+-------------------+"
     ]
    }
   ],
   "source": [
    "# Check that the upsert worked\n",
    "snapshotQueryDF = spark.read.format('org.apache.hudi').load('s3://hudi-sharkech/myhudidataset' + '/*/*')\n",
    "\n",
    "# snapshotQueryDF.show()\n",
    "# snapshotQueryDF.select(\"id\", \"_hoodie_record_key\", \"_hoodie_commit_time\", \"_hoodie_commit_seqno\", \"_hoodie_partition_path\", \"_hoodie_file_name\").orderBy(\"id\").show()\n",
    "\n",
    "snapshotQueryDF.select(\"id\", \"name\", \"create_date\", \"last_update_time\").orderBy(\"id\").show()"
   ]
  },
  {
   "cell_type": "markdown",
   "id": "5c8c7d7f",
   "metadata": {},
   "source": [
    "## Incremental query\n",
    "\n",
    "So far we have preformed 3 actions on our Hudi table \n",
    "\n",
    "1. Inital write to the Hudi table ```myhudidataset```\n",
    "2. *Upsert 1* - Changed **Chris** to **Chris Sharkey** & added a new record for **Kelly**\n",
    "3. *Upsert 2*  - Changed **Chris Sharkey** to **Christopher Sharkey** & added a new record for **Ella**\n",
    "\n",
    "We performed each of the 3 actions seperatly aka. in 3 Hudi commits \n",
    "\n",
    "Lets look at the distinct commit times"
   ]
  },
  {
   "cell_type": "code",
   "execution_count": 14,
   "id": "4c9fbea1",
   "metadata": {},
   "outputs": [
    {
     "data": {
      "application/vnd.jupyter.widget-view+json": {
       "model_id": "af5d627ab7314001b0f81b2ee1d7b298",
       "version_major": 2,
       "version_minor": 0
      },
      "text/plain": [
       "VBox()"
      ]
     },
     "metadata": {},
     "output_type": "display_data"
    },
    {
     "data": {
      "application/vnd.jupyter.widget-view+json": {
       "model_id": "",
       "version_major": 2,
       "version_minor": 0
      },
      "text/plain": [
       "FloatProgress(value=0.0, bar_style='info', description='Progress:', layout=Layout(height='25px', width='50%'),…"
      ]
     },
     "metadata": {},
     "output_type": "display_data"
    },
    {
     "name": "stdout",
     "output_type": "stream",
     "text": [
      "+-------------------+\n",
      "|_hoodie_commit_time|\n",
      "+-------------------+\n",
      "|     20211110164334|\n",
      "|     20211110164357|\n",
      "|     20211110164428|\n",
      "+-------------------+"
     ]
    }
   ],
   "source": [
    "# View the commits times\n",
    "snapshotQueryDF = spark.read.format('org.apache.hudi').load('s3://hudi-sharkech/myhudidataset_python' + '/*/*')\n",
    "\n",
    "snapshotQueryDF.select(\"_hoodie_commit_time\").orderBy(\"_hoodie_commit_time\").distinct().show()"
   ]
  },
  {
   "cell_type": "markdown",
   "id": "eae1a450",
   "metadata": {},
   "source": [
    "notice that we have 3 unique commit times corresponding to the 3 commits we have performed so far\n",
    "\n",
    "Hudi provides a query type ```incremental``` which can identify all of the records that have changed between given commit times\n",
    "\n",
    "The example below will identify all of the records that have changed since our first commit\n",
    "\n",
    "Note the options we set in the variable ```incremental_read_options```\n",
    "* ```hoodie.datasource.query.type``` is set to ```incremental``` \n",
    "* ```hoodie.datasource.read.begin.instanttime``` is set to the time of our fist commit\n",
    "* Since we do not specify an ```hoodie.datasource.read.end.instanttime``` this query will return all of the records that have changed since the ```hoodie.datasource.read.begin.instanttime```\n",
    "\n",
    "*Note* adjust the ```hoodie.datasource.read.begin.instanttime``` based on the results of the last query. Set ```hoodie.datasource.read.begin.instanttime``` to the time of the first Hudi commit"
   ]
  },
  {
   "cell_type": "code",
   "execution_count": null,
   "id": "20eddded",
   "metadata": {},
   "outputs": [],
   "source": [
    "incremental_read_options = {\n",
    "  'hoodie.datasource.query.type': 'incremental',\n",
    "  'hoodie.datasource.read.begin.instanttime': '20211109144722',\n",
    "}\n",
    "\n",
    "tripsIncrementalDF = spark \\\n",
    "    .read \\\n",
    "    .format(\"hudi\") \\\n",
    "    .options(**incremental_read_options) \\\n",
    "    .load('s3://hudi-sharkech/myhudidataset_python' + '/*/*') \\\n",
    "\n",
    "tripsIncrementalDF.select(\"id\", \"name\", \"create_date\", \"last_update_time\", \"_hoodie_commit_time\").orderBy(\"_hoodie_commit_time\").show()"
   ]
  },
  {
   "cell_type": "markdown",
   "id": "44d68d8d",
   "metadata": {},
   "source": [
    "## Point in Time query\n",
    "\n",
    "Building on our incremental query we can specify a specific range for the ```hoodie.datasource.read.begin.instanttime``` and ```hoodie.datasource.read.end.instanttime``` aka a point in time query\n",
    "\n",
    "This will the show the changes at specific points in time\n",
    "\n",
    "For the first point in time query we can set the ```read.begin.instanttime``` to a time before our first commit and ```hoodie.datasource.read.end.instanttime``` to the time of our first commit\n",
    "\n",
    "*Note* adjust the ```hoodie.datasource.read.end.instanttime``` to the the time of our fist commit"
   ]
  },
  {
   "cell_type": "code",
   "execution_count": null,
   "id": "e0a256a1",
   "metadata": {},
   "outputs": [],
   "source": [
    "incremental_read_options = {\n",
    "  'hoodie.datasource.query.type': 'incremental',\n",
    "  'hoodie.datasource.read.begin.instanttime': '20211105180300',\n",
    "  'hoodie.datasource.read.end.instanttime': '20211109144722'\n",
    "}\n",
    "\n",
    "tripsIncrementalDF = spark \\\n",
    "    .read \\\n",
    "    .format(\"hudi\") \\\n",
    "    .options(**incremental_read_options) \\\n",
    "    .load('s3://hudi-sharkech/myhudidataset_python' + '/*/*') \\\n",
    "\n",
    "#\n",
    "tripsIncrementalDF.select(\"id\", \"name\", \"create_date\", \"last_update_time\", \"_hoodie_commit_time\").orderBy(\"_hoodie_commit_time\").orderBy(\"id\").show()"
   ]
  },
  {
   "cell_type": "markdown",
   "id": "a0ec41e3",
   "metadata": {},
   "source": [
    "for the second point in time query we can set the ```read.end.instanttime``` equal to the time of our first commit and ```hoodie.datasource.read.end.instanttime``` equal to the time of our second commit\n",
    "\n",
    "*Note* adjust the ```hoodie.datasource.read.begin.instanttime``` to the the time of our first commit and adjust the ```hoodie.datasource.read.end.instanttime``` to the the time of our second commit"
   ]
  },
  {
   "cell_type": "code",
   "execution_count": null,
   "id": "7a37a9e0",
   "metadata": {},
   "outputs": [],
   "source": [
    "incremental_read_options = {\n",
    "  'hoodie.datasource.query.type': 'incremental',\n",
    "  'hoodie.datasource.read.begin.instanttime': '20211109144722',\n",
    "  'hoodie.datasource.read.end.instanttime': '20211109144804'\n",
    "}\n",
    "\n",
    "tripsIncrementalDF = spark \\\n",
    "    .read \\\n",
    "    .format(\"hudi\") \\\n",
    "    .options(**incremental_read_options) \\\n",
    "    .load('s3://hudi-sharkech/myhudidataset_python' + '/*/*') \\\n",
    "\n",
    "#\n",
    "tripsIncrementalDF.select(\"id\", \"name\", \"create_date\", \"last_update_time\", \"_hoodie_commit_time\").orderBy(\"_hoodie_commit_time\").orderBy(\"id\").show()"
   ]
  },
  {
   "cell_type": "markdown",
   "id": "17a21a27",
   "metadata": {},
   "source": [
    "## Delete data"
   ]
  },
  {
   "cell_type": "code",
   "execution_count": null,
   "id": "4537ab64",
   "metadata": {},
   "outputs": [],
   "source": [
    "# Create a new data frame\n",
    "data = [\n",
    "        (\"1\", \"Christopher Sharkey\", \"2020-01-01\", datetime.strptime('2020-01-03 00:00:00', '%Y-%m-%d %H:%M:%S')),\n",
    "        (\"8\", \"Ella\", \"2020-01-03\", datetime.strptime('2020-01-03 00:00:00', '%Y-%m-%d %H:%M:%S'))\n",
    "]\n",
    "\n",
    "schema = StructType([\n",
    "        StructField(\"id\", StringType(), False),\n",
    "        StructField(\"name\", StringType(), False),\n",
    "        StructField(\"create_date\", StringType(), False),             \n",
    "        StructField(\"last_update_time\", TimestampType(), False)\n",
    "])\n",
    "\n",
    "deleteDF = spark.createDataFrame(data=data,schema=schema)\n",
    "\n",
    "# updateDF.show()\n",
    "# updateDF.printSchema()"
   ]
  },
  {
   "cell_type": "code",
   "execution_count": null,
   "id": "dbd7b810",
   "metadata": {},
   "outputs": [],
   "source": [
    "hudiOptionsDelete = {\n",
    "    'hoodie.table.name': 'my_hudi_table_python',\n",
    "    'hoodie.datasource.write.recordkey.field': 'id',\n",
    "    'hoodie.datasource.write.partitionpath.field': 'create_date',\n",
    "    'hoodie.datasource.write.precombine.field': 'last_update_time',\n",
    "    'hoodie.datasource.write.operation': 'delete'\n",
    "}\n",
    "\n",
    "deleteDF \\\n",
    "    .write \\\n",
    "    .format('org.apache.hudi') \\\n",
    "    .options(**hudiOptionsDelete) \\\n",
    "    .mode('append') \\\n",
    "    .save('s3://hudi-sharkech/myhudidataset_python/')"
   ]
  },
  {
   "cell_type": "code",
   "execution_count": null,
   "id": "4973a55c",
   "metadata": {},
   "outputs": [],
   "source": [
    "# Check that the delete worked\n",
    "snapshotQueryDF = spark.read.format('org.apache.hudi').load('s3://hudi-sharkech/myhudidataset_python' + '/*/*')\n",
    "\n",
    "# snapshotQueryDF.show()\n",
    "\n",
    "snapshotQueryDF.select(\"id\", \"name\", \"create_date\", \"last_update_time\").orderBy(\"id\").show()"
   ]
  }
 ],
 "metadata": {
  "kernelspec": {
   "display_name": "PySpark",
   "language": "",
   "name": "pysparkkernel"
  },
  "language_info": {
   "codemirror_mode": {
    "name": "python",
    "version": 3
   },
   "mimetype": "text/x-python",
   "name": "pyspark",
   "pygments_lexer": "python3"
  }
 },
 "nbformat": 4,
 "nbformat_minor": 5
}
