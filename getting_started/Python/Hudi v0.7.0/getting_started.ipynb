{
 "cells": [
  {
   "cell_type": "markdown",
   "id": "136e2b56",
   "metadata": {},
   "source": [
    "## Reference Material\n",
    "\n",
    "* [Hudi Documentation Quick Start Guide][1]\n",
    "* [EMR Hudi Documentation][2]\n",
    "* [EMR Hudi Docuementation - Work with a Hudi dataset][3]\n",
    "\n",
    "[1]:https://hudi.apache.org/docs/quick-start-guide/#setup]\n",
    "[2]:https://docs.aws.amazon.com/emr/latest/ReleaseGuide/emr-hudi.html\n",
    "[3]:https://docs.aws.amazon.com/emr/latest/ReleaseGuide/emr-hudi-work-with-dataset.html"
   ]
  },
  {
   "cell_type": "markdown",
   "id": "32de5f2c",
   "metadata": {},
   "source": [
    "## Configuration"
   ]
  },
  {
   "cell_type": "markdown",
   "id": "c11648cb",
   "metadata": {},
   "source": [
    "Before running the code in the cell(s) below SSH into your EMR cluster and run the following \n",
    "\n",
    "```hdfs dfs -mkdir -p /apps/hudi/lib```\n",
    "\n",
    "```hdfs dfs -copyFromLocal /usr/lib/hudi/hudi-spark-bundle.jar /apps/hudi/lib/hudi-spark-bundle.jar```\n",
    "\n",
    "```hdfs dfs -copyFromLocal /usr/lib/spark/external/lib/spark-avro.jar /apps/hudi/lib/spark-avro.jar```\n",
    "\n",
    "This will copy the Hudi jar files from the local file system to HDFS on the master node of the notebook cluster"
   ]
  },
  {
   "cell_type": "code",
   "execution_count": 1,
   "id": "50f92aac",
   "metadata": {},
   "outputs": [
    {
     "data": {
      "text/html": [
       "Current session configs: <tt>{'conf': {'spark.jars': 'hdfs:///apps/hudi/lib/hudi-spark-bundle.jar,hdfs:///apps/hudi/lib/spark-avro.jar', 'spark.serializer': 'org.apache.spark.serializer.KryoSerializer', 'spark.sql.hive.convertMetastoreParquet': 'false'}, 'proxyUser': 'assumed-role_admin_sharkech-Isengard', 'kind': 'pyspark'}</tt><br>"
      ],
      "text/plain": [
       "<IPython.core.display.HTML object>"
      ]
     },
     "metadata": {},
     "output_type": "display_data"
    },
    {
     "data": {
      "text/html": [
       "<table>\n",
       "<tr><th>ID</th><th>YARN Application ID</th><th>Kind</th><th>State</th><th>Spark UI</th><th>Driver log</th><th>Current session?</th></tr><tr><td>0</td><td>application_1636465466779_0001</td><td>spark</td><td>idle</td><td><a target=\"_blank\" href=\"http://ip-172-31-43-207.ec2.internal:20888/proxy/application_1636465466779_0001/\" class=\"emr-proxy-link\" emr-resource=\"j-1JETVFHCNDPKD\n",
       "\" application-id=\"application_1636465466779_0001\">Link</a></td><td><a target=\"_blank\" href=\"http://ip-172-31-41-193.ec2.internal:8042/node/containerlogs/container_1636465466779_0001_01_000001/livy\" >Link</a></td><td></td></tr></table>"
      ],
      "text/plain": [
       "<IPython.core.display.HTML object>"
      ]
     },
     "metadata": {},
     "output_type": "display_data"
    }
   ],
   "source": [
    "%%configure\n",
    "{\n",
    "    \"conf\": {\n",
    "            \"spark.jars\":\"hdfs:///apps/hudi/lib/hudi-spark-bundle.jar,hdfs:///apps/hudi/lib/spark-avro.jar\",\n",
    "            \"spark.serializer\":\"org.apache.spark.serializer.KryoSerializer\",\n",
    "            \"spark.sql.hive.convertMetastoreParquet\":\"false\"\n",
    "    }\n",
    "}"
   ]
  },
  {
   "cell_type": "code",
   "execution_count": 2,
   "id": "c5c53e56",
   "metadata": {},
   "outputs": [
    {
     "data": {
      "application/vnd.jupyter.widget-view+json": {
       "model_id": "665c95526e5b47d08ac1904850b564ca",
       "version_major": 2,
       "version_minor": 0
      },
      "text/plain": [
       "VBox()"
      ]
     },
     "metadata": {},
     "output_type": "display_data"
    },
    {
     "name": "stdout",
     "output_type": "stream",
     "text": [
      "Starting Spark application\n"
     ]
    },
    {
     "data": {
      "text/html": [
       "<table>\n",
       "<tr><th>ID</th><th>YARN Application ID</th><th>Kind</th><th>State</th><th>Spark UI</th><th>Driver log</th><th>Current session?</th></tr><tr><td>1</td><td>application_1636465466779_0002</td><td>pyspark</td><td>idle</td><td><a target=\"_blank\" href=\"http://ip-172-31-43-207.ec2.internal:20888/proxy/application_1636465466779_0002/\" class=\"emr-proxy-link\" emr-resource=\"j-1JETVFHCNDPKD\n",
       "\" application-id=\"application_1636465466779_0002\">Link</a></td><td><a target=\"_blank\" href=\"http://ip-172-31-47-164.ec2.internal:8042/node/containerlogs/container_1636465466779_0002_01_000002/livy\" >Link</a></td><td>✔</td></tr></table>"
      ],
      "text/plain": [
       "<IPython.core.display.HTML object>"
      ]
     },
     "metadata": {},
     "output_type": "display_data"
    },
    {
     "data": {
      "application/vnd.jupyter.widget-view+json": {
       "model_id": "",
       "version_major": 2,
       "version_minor": 0
      },
      "text/plain": [
       "FloatProgress(value=0.0, bar_style='info', description='Progress:', layout=Layout(height='25px', width='50%'),…"
      ]
     },
     "metadata": {},
     "output_type": "display_data"
    },
    {
     "name": "stdout",
     "output_type": "stream",
     "text": [
      "SparkSession available as 'spark'.\n"
     ]
    },
    {
     "data": {
      "application/vnd.jupyter.widget-view+json": {
       "model_id": "",
       "version_major": 2,
       "version_minor": 0
      },
      "text/plain": [
       "FloatProgress(value=0.0, bar_style='info', description='Progress:', layout=Layout(height='25px', width='50%'),…"
      ]
     },
     "metadata": {},
     "output_type": "display_data"
    }
   ],
   "source": [
    "from pyspark.sql.functions import *\n",
    "from pyspark.sql.types import *\n",
    "\n",
    "from datetime import datetime"
   ]
  },
  {
   "cell_type": "markdown",
   "id": "85a5712d",
   "metadata": {},
   "source": [
    "## Create a DataFrame"
   ]
  },
  {
   "cell_type": "code",
   "execution_count": 3,
   "id": "ac3fdac0",
   "metadata": {},
   "outputs": [
    {
     "data": {
      "application/vnd.jupyter.widget-view+json": {
       "model_id": "31c51be977a04ae5b1e24a4bbfc9bde4",
       "version_major": 2,
       "version_minor": 0
      },
      "text/plain": [
       "VBox()"
      ]
     },
     "metadata": {},
     "output_type": "display_data"
    },
    {
     "data": {
      "application/vnd.jupyter.widget-view+json": {
       "model_id": "",
       "version_major": 2,
       "version_minor": 0
      },
      "text/plain": [
       "FloatProgress(value=0.0, bar_style='info', description='Progress:', layout=Layout(height='25px', width='50%'),…"
      ]
     },
     "metadata": {},
     "output_type": "display_data"
    }
   ],
   "source": [
    "data = [\n",
    "        (\"1\", \"Chris\", \"2020-01-01\", datetime.strptime('2020-01-01 00:00:00', '%Y-%m-%d %H:%M:%S')),\n",
    "        (\"2\", \"Will\", \"2020-01-01\", datetime.strptime('2020-01-01 00:00:00', '%Y-%m-%d %H:%M:%S')),\n",
    "        (\"3\", \"Emma\", \"2020-01-01\", datetime.strptime('2020-01-01 00:00:00', '%Y-%m-%d %H:%M:%S')),\n",
    "        (\"4\", \"John\", \"2020-01-01\", datetime.strptime('2020-01-01 00:00:00', '%Y-%m-%d %H:%M:%S')),\n",
    "        (\"5\", \"Eric\", \"2020-01-01\", datetime.strptime('2020-01-01 00:00:00', '%Y-%m-%d %H:%M:%S')),\n",
    "        (\"6\", \"Adam\", \"2020-01-01\", datetime.strptime('2020-01-01 00:00:00', '%Y-%m-%d %H:%M:%S'))\n",
    "]\n",
    "\n",
    "schema = StructType([\n",
    "        StructField(\"id\", StringType(), False),\n",
    "        StructField(\"name\", StringType(), False), \n",
    "        StructField(\"create_date\", StringType(), False),             \n",
    "        StructField(\"last_update_time\", TimestampType(), False)\n",
    "])\n",
    "\n",
    "inputDF = spark.createDataFrame(data=data,schema=schema)\n",
    "\n",
    "# inputDF.show()\n",
    "# inputDF.printSchema()"
   ]
  },
  {
   "cell_type": "markdown",
   "id": "5fe75951",
   "metadata": {},
   "source": [
    "## Write to S3 via. Hudi\n",
    "\n",
    "We create a ```hudiOptions``` variable. We use this when we write data to S3. \n",
    "\n",
    "DataSourceWriteOptions for ***Hudi***: \n",
    "\n",
    "Option|Description\n",
    ":---|:---|\n",
    "TABLE_NAME|The table name under which to register the dataset\n",
    "TABLE_TYPE_OPT_KEY|Optional. Specifies whether the dataset is created as ```COPY_ON_WRITE``` or ```MERGE_ON_READ```. The default is ```COPY_ON_WRITE```\n",
    "RECORDKEY_FIELD_OPT_KEY|The record key field whose value will be used as the recordKey component of HoodieKey. Actual value will be obtained by invoking .toString() on the field value. Nested fields can be specified using the dot notation, for example, a.b.c\n",
    "PARTITIONPATH_FIELD_OPT_KEY|The partition path field whose value will be used as the partitionPath component of HoodieKey. The actual value will be obtained by invoking .toString() on the field value\n",
    "PRECOMBINE_FIELD_OPT_KEY|The field used in pre-combining before actual write. When two records have the same key value, Hudi picks the one with the largest value for the precombine field as determined by Object.compareTo(..)\n",
    "\n",
    "DataSourceWriteOptions for ***Hive***:\n",
    "\n",
    "Option|Description\n",
    ":---|:---|\n",
    "HIVE_DATABASE_OPT_KEY|The Hive database to sync to. The default is ```default```\n",
    "HIVE_PARTITION_EXTRACTOR_CLASS_OPT_KEY|The class used to extract partition field values into Hive partition columns\n",
    "HIVE_PARTITION_FIELDS_OPT_KEY|The field in the dataset to use for determining Hive partition columns\n",
    "HIVE_SYNC_ENABLED_OPT_KEY|When set to ```true```, registers the dataset with the Apache Hive metastore.                     \n",
    "HIVE_TABLE_OPT_KEY|Required. The name of the table in Hive to sync to. For example the table name can be, ```my_hudi_table``` or any other name specified\n",
    "HIVE_USER_OPT_KEY|Optional. The Hive user name to use when syncing. For example, ```hadoop```\n",
    "HIVE_PASS_OPT_KEY|Optional. The Hive password for the user specified by HIVE_USER_OPT_KEY\n",
    "HIVE_URL_OPT_KEY|The Hive metastore URL\n",
    "\n",
    "For a full list of configurations view the [Hudi Documentation - Configurations][1]\n",
    "\n",
    "*ensure that the ```hoodie.datasource.write.partitionpath.field``` and ```hoodie.datasource.write.precombine.field``` use different columns*\n",
    "\n",
    "[1]:https://hudi.apache.org/docs/configurations/#Index-Configs"
   ]
  },
  {
   "cell_type": "code",
   "execution_count": 4,
   "id": "99452071",
   "metadata": {},
   "outputs": [
    {
     "data": {
      "application/vnd.jupyter.widget-view+json": {
       "model_id": "a03ef52a04844da2906c32e90f3fbd12",
       "version_major": 2,
       "version_minor": 0
      },
      "text/plain": [
       "VBox()"
      ]
     },
     "metadata": {},
     "output_type": "display_data"
    },
    {
     "data": {
      "application/vnd.jupyter.widget-view+json": {
       "model_id": "",
       "version_major": 2,
       "version_minor": 0
      },
      "text/plain": [
       "FloatProgress(value=0.0, bar_style='info', description='Progress:', layout=Layout(height='25px', width='50%'),…"
      ]
     },
     "metadata": {},
     "output_type": "display_data"
    }
   ],
   "source": [
    "# Create hudiOptions variable\n",
    "hudiOptions = {\n",
    "    'hoodie.table.name': 'my_hudi_table_python',\n",
    "    'hoodie.datasource.write.recordkey.field': 'id',\n",
    "    'hoodie.datasource.write.partitionpath.field': 'create_date',\n",
    "    'hoodie.datasource.write.precombine.field': 'last_update_time',\n",
    "    'hoodie.datasource.hive_sync.enable': 'true',\n",
    "    'hoodie.datasource.hive_sync.table': 'my_hudi_table_python',\n",
    "    'hoodie.datasource.hive_sync.partition_fields': 'last_update_time',\n",
    "    'hoodie.datasource.hive_sync.partition_extractor_class': 'org.apache.hudi.hive.MultiPartKeysValueExtractor'\n",
    "}"
   ]
  },
  {
   "cell_type": "markdown",
   "id": "9fdfa23a",
   "metadata": {},
   "source": [
    "*Note* adjust the s3 path in ```.save()``` below\n",
    "\n",
    "Options for ```hoodie.datasource.write.operation```\n",
    "\n",
    "Option|Description\n",
    ":---|:---|\n",
    "UPSERT|This is the default operation where the input records are first tagged as inserts or updates by looking up the index. The records are ultimately written after heuristics are run to determine how best to pack them on storage to optimize for things like file sizing. This operation is recommended for use-cases like database change capture where the input almost certainly contains updates. The target table will never show duplicates\n",
    "INSERT|This operation is very similar to upsert in terms of heuristics/file sizing but completely skips the index lookup step. Thus, it can be a lot faster than upserts for use-cases like log de-duplication (in conjunction with options to filter duplicates mentioned below). This is also suitable for use-cases where the table can tolerate duplicates, but just need the transactional writes/incremental pull/storage management capabilities of Hudi\n",
    "BULK_INSERT|Both upsert and insert operations keep input records in memory to speed up storage heuristics computations faster (among other things) and thus can be cumbersome for initial loading/bootstrapping a Hudi table at first. Bulk insert provides the same semantics as insert, while implementing a sort-based data writing algorithm, which can scale very well for several hundred TBs of initial load. However, this just does a best-effort job at sizing files vs guaranteeing file sizes like inserts/upserts do"
   ]
  },
  {
   "cell_type": "code",
   "execution_count": 5,
   "id": "711ad350",
   "metadata": {},
   "outputs": [
    {
     "data": {
      "application/vnd.jupyter.widget-view+json": {
       "model_id": "32a1e03fb8d9464b87fadffdd5a79753",
       "version_major": 2,
       "version_minor": 0
      },
      "text/plain": [
       "VBox()"
      ]
     },
     "metadata": {},
     "output_type": "display_data"
    },
    {
     "data": {
      "application/vnd.jupyter.widget-view+json": {
       "model_id": "",
       "version_major": 2,
       "version_minor": 0
      },
      "text/plain": [
       "FloatProgress(value=0.0, bar_style='info', description='Progress:', layout=Layout(height='25px', width='50%'),…"
      ]
     },
     "metadata": {},
     "output_type": "display_data"
    }
   ],
   "source": [
    "# Write a DataFrame to S3 as a Hudi dataset \n",
    "inputDF \\\n",
    "    .write \\\n",
    "    .format('org.apache.hudi') \\\n",
    "    .option('hoodie.datasource.write.operation', 'insert') \\\n",
    "    .options(**hudiOptions) \\\n",
    "    .mode('overwrite') \\\n",
    "    .save('s3://hudi-sharkech/myhudidataset_python/')"
   ]
  },
  {
   "cell_type": "markdown",
   "id": "01df84f0",
   "metadata": {},
   "source": [
    "## Read the Hudi Table\n",
    "\n",
    "Hudi performs snapshot queries by default. Snapshot queries retrieve data at the present point in time"
   ]
  },
  {
   "cell_type": "code",
   "execution_count": 6,
   "id": "98228e27",
   "metadata": {},
   "outputs": [
    {
     "data": {
      "application/vnd.jupyter.widget-view+json": {
       "model_id": "46c59c8828ae41d5bb6e2473401d863f",
       "version_major": 2,
       "version_minor": 0
      },
      "text/plain": [
       "VBox()"
      ]
     },
     "metadata": {},
     "output_type": "display_data"
    },
    {
     "data": {
      "application/vnd.jupyter.widget-view+json": {
       "model_id": "",
       "version_major": 2,
       "version_minor": 0
      },
      "text/plain": [
       "FloatProgress(value=0.0, bar_style='info', description='Progress:', layout=Layout(height='25px', width='50%'),…"
      ]
     },
     "metadata": {},
     "output_type": "display_data"
    },
    {
     "name": "stdout",
     "output_type": "stream",
     "text": [
      "+---+-----+-----------+-------------------+\n",
      "| id| name|create_date|   last_update_time|\n",
      "+---+-----+-----------+-------------------+\n",
      "|  1|Chris| 2020-01-01|2020-01-01 00:00:00|\n",
      "|  2| Will| 2020-01-01|2020-01-01 00:00:00|\n",
      "|  3| Emma| 2020-01-01|2020-01-01 00:00:00|\n",
      "|  4| John| 2020-01-01|2020-01-01 00:00:00|\n",
      "|  5| Eric| 2020-01-01|2020-01-01 00:00:00|\n",
      "|  6| Adam| 2020-01-01|2020-01-01 00:00:00|\n",
      "+---+-----+-----------+-------------------+"
     ]
    }
   ],
   "source": [
    "snapshotQueryDF = spark.read.format('org.apache.hudi').load('s3://hudi-sharkech/myhudidataset_python' + '/*/*')\n",
    "\n",
    "# snapshotQueryDF.orderBy(\"id\").show()\n",
    "# snapshotQueryDF.select(\"_hoodie_commit_time\", \"_hoodie_commit_seqno\", \"_hoodie_record_key\", \"_hoodie_partition_path\", \"_hoodie_file_name\").orderBy(\"_hoodie_record_key\").show()\n",
    "\n",
    "snapshotQueryDF.select(\"id\", \"name\", \"create_date\", \"last_update_time\").orderBy(\"id\").show()"
   ]
  },
  {
   "cell_type": "markdown",
   "id": "8d5b9e92",
   "metadata": {},
   "source": [
    "query the Hudi table again including the hudi specific columns"
   ]
  },
  {
   "cell_type": "code",
   "execution_count": 7,
   "id": "dd119a36",
   "metadata": {},
   "outputs": [
    {
     "data": {
      "application/vnd.jupyter.widget-view+json": {
       "model_id": "f9b3b9f1aa434d0ab26050a5be98270c",
       "version_major": 2,
       "version_minor": 0
      },
      "text/plain": [
       "VBox()"
      ]
     },
     "metadata": {},
     "output_type": "display_data"
    },
    {
     "data": {
      "application/vnd.jupyter.widget-view+json": {
       "model_id": "",
       "version_major": 2,
       "version_minor": 0
      },
      "text/plain": [
       "FloatProgress(value=0.0, bar_style='info', description='Progress:', layout=Layout(height='25px', width='50%'),…"
      ]
     },
     "metadata": {},
     "output_type": "display_data"
    },
    {
     "name": "stdout",
     "output_type": "stream",
     "text": [
      "+---+------------------+-------------------+--------------------+----------------------+--------------------+\n",
      "| id|_hoodie_record_key|_hoodie_commit_time|_hoodie_commit_seqno|_hoodie_partition_path|   _hoodie_file_name|\n",
      "+---+------------------+-------------------+--------------------+----------------------+--------------------+\n",
      "|  1|                 1|     20211109144722|  20211109144722_0_1|            2020-01-01|606236c2-bb46-406...|\n",
      "|  2|                 2|     20211109144722|  20211109144722_0_2|            2020-01-01|606236c2-bb46-406...|\n",
      "|  3|                 3|     20211109144722|  20211109144722_0_3|            2020-01-01|606236c2-bb46-406...|\n",
      "|  4|                 4|     20211109144722|  20211109144722_0_4|            2020-01-01|606236c2-bb46-406...|\n",
      "|  5|                 5|     20211109144722|  20211109144722_0_5|            2020-01-01|606236c2-bb46-406...|\n",
      "|  6|                 6|     20211109144722|  20211109144722_0_6|            2020-01-01|606236c2-bb46-406...|\n",
      "+---+------------------+-------------------+--------------------+----------------------+--------------------+"
     ]
    }
   ],
   "source": [
    "snapshotQueryDF = spark.read.format('org.apache.hudi').load('s3://hudi-sharkech/myhudidataset_python' + '/*/*')\n",
    "\n",
    "# snapshotQueryDF.orderBy(\"id\").show()\n",
    "snapshotQueryDF.select(\"id\", \"_hoodie_record_key\", \"_hoodie_commit_time\", \"_hoodie_commit_seqno\", \"_hoodie_partition_path\", \"_hoodie_file_name\").orderBy(\"id\").show()\n",
    "\n",
    "# snapshotQueryDF.select(\"id\", \"name\", \"create_date\", \"last_update_time\").orderBy(\"id\").show()"
   ]
  },
  {
   "cell_type": "markdown",
   "id": "63c58f02",
   "metadata": {},
   "source": [
    "## Upsert data\n",
    "\n",
    "Lets do an upsert ... this will be *upsert #1*"
   ]
  },
  {
   "cell_type": "code",
   "execution_count": 8,
   "id": "41c8311a",
   "metadata": {},
   "outputs": [
    {
     "data": {
      "application/vnd.jupyter.widget-view+json": {
       "model_id": "e16af068771c4ac1866c5e797fcc4bce",
       "version_major": 2,
       "version_minor": 0
      },
      "text/plain": [
       "VBox()"
      ]
     },
     "metadata": {},
     "output_type": "display_data"
    },
    {
     "data": {
      "application/vnd.jupyter.widget-view+json": {
       "model_id": "",
       "version_major": 2,
       "version_minor": 0
      },
      "text/plain": [
       "FloatProgress(value=0.0, bar_style='info', description='Progress:', layout=Layout(height='25px', width='50%'),…"
      ]
     },
     "metadata": {},
     "output_type": "display_data"
    }
   ],
   "source": [
    "# Create a new data frame with an updated last_update_time\n",
    "data = [\n",
    "        (\"1\", \"Chris Sharkey\", \"2020-01-01\", datetime.strptime('2020-01-02 00:00:00', '%Y-%m-%d %H:%M:%S')),\n",
    "        (\"7\", \"Kelly\", \"2020-01-02\", datetime.strptime('2020-01-02 00:00:00', '%Y-%m-%d %H:%M:%S'))\n",
    "]\n",
    "\n",
    "schema = StructType([\n",
    "        StructField(\"id\", StringType(), False),\n",
    "        StructField(\"name\", StringType(), False),\n",
    "        StructField(\"create_date\", StringType(), False),             \n",
    "        StructField(\"last_update_time\", TimestampType(), False)\n",
    "])\n",
    "\n",
    "updateDF = spark.createDataFrame(data=data,schema=schema)\n",
    "\n",
    "# updateDF.show()\n",
    "# updateDF.printSchema()"
   ]
  },
  {
   "cell_type": "code",
   "execution_count": 9,
   "id": "500f82bd",
   "metadata": {},
   "outputs": [
    {
     "data": {
      "application/vnd.jupyter.widget-view+json": {
       "model_id": "ef253eeceedf4aafa3ec533fc26048a4",
       "version_major": 2,
       "version_minor": 0
      },
      "text/plain": [
       "VBox()"
      ]
     },
     "metadata": {},
     "output_type": "display_data"
    },
    {
     "data": {
      "application/vnd.jupyter.widget-view+json": {
       "model_id": "",
       "version_major": 2,
       "version_minor": 0
      },
      "text/plain": [
       "FloatProgress(value=0.0, bar_style='info', description='Progress:', layout=Layout(height='25px', width='50%'),…"
      ]
     },
     "metadata": {},
     "output_type": "display_data"
    }
   ],
   "source": [
    "# Upsert the records in updateDF\n",
    "updateDF \\\n",
    "    .write \\\n",
    "    .format('org.apache.hudi') \\\n",
    "    .option('hoodie.datasource.write.operation', 'upsert') \\\n",
    "    .options(**hudiOptions) \\\n",
    "    .mode('append') \\\n",
    "    .save('s3://hudi-sharkech/myhudidataset_python/')"
   ]
  },
  {
   "cell_type": "code",
   "execution_count": 10,
   "id": "0e4b6014",
   "metadata": {},
   "outputs": [
    {
     "data": {
      "application/vnd.jupyter.widget-view+json": {
       "model_id": "9792e1c44cd5488b9ec2cfc6f3bff376",
       "version_major": 2,
       "version_minor": 0
      },
      "text/plain": [
       "VBox()"
      ]
     },
     "metadata": {},
     "output_type": "display_data"
    },
    {
     "data": {
      "application/vnd.jupyter.widget-view+json": {
       "model_id": "",
       "version_major": 2,
       "version_minor": 0
      },
      "text/plain": [
       "FloatProgress(value=0.0, bar_style='info', description='Progress:', layout=Layout(height='25px', width='50%'),…"
      ]
     },
     "metadata": {},
     "output_type": "display_data"
    },
    {
     "name": "stdout",
     "output_type": "stream",
     "text": [
      "+---+-------------+-----------+-------------------+\n",
      "| id|         name|create_date|   last_update_time|\n",
      "+---+-------------+-----------+-------------------+\n",
      "|  1|Chris Sharkey| 2020-01-01|2020-01-02 00:00:00|\n",
      "|  2|         Will| 2020-01-01|2020-01-01 00:00:00|\n",
      "|  3|         Emma| 2020-01-01|2020-01-01 00:00:00|\n",
      "|  4|         John| 2020-01-01|2020-01-01 00:00:00|\n",
      "|  5|         Eric| 2020-01-01|2020-01-01 00:00:00|\n",
      "|  6|         Adam| 2020-01-01|2020-01-01 00:00:00|\n",
      "|  7|        Kelly| 2020-01-02|2020-01-02 00:00:00|\n",
      "+---+-------------+-----------+-------------------+"
     ]
    }
   ],
   "source": [
    "# Check that the upsert worked\n",
    "snapshotQueryDF = spark.read.format('org.apache.hudi').load('s3://hudi-sharkech/myhudidataset_python' + '/*/*')\n",
    "\n",
    "# snapshotQueryDF.show()\n",
    "# snapshotQueryDF.select(\"id\", \"_hoodie_record_key\", \"_hoodie_commit_time\", \"_hoodie_commit_seqno\", \"_hoodie_partition_path\", \"_hoodie_file_name\").orderBy(\"id\").show()\n",
    "\n",
    "snapshotQueryDF.select(\"id\", \"name\", \"create_date\", \"last_update_time\").orderBy(\"id\").show()"
   ]
  },
  {
   "cell_type": "markdown",
   "id": "8f0a8d2a",
   "metadata": {},
   "source": [
    "Lets do another upsert ... this will be *upsert #2*"
   ]
  },
  {
   "cell_type": "code",
   "execution_count": 11,
   "id": "ad735d08",
   "metadata": {},
   "outputs": [
    {
     "data": {
      "application/vnd.jupyter.widget-view+json": {
       "model_id": "03b622b79ebc437e9ccb49880f86f32a",
       "version_major": 2,
       "version_minor": 0
      },
      "text/plain": [
       "VBox()"
      ]
     },
     "metadata": {},
     "output_type": "display_data"
    },
    {
     "data": {
      "application/vnd.jupyter.widget-view+json": {
       "model_id": "",
       "version_major": 2,
       "version_minor": 0
      },
      "text/plain": [
       "FloatProgress(value=0.0, bar_style='info', description='Progress:', layout=Layout(height='25px', width='50%'),…"
      ]
     },
     "metadata": {},
     "output_type": "display_data"
    }
   ],
   "source": [
    "# Create a new data frame with an updated last_update_time\n",
    "data = [\n",
    "        (\"1\", \"Christopher Sharkey\", \"2020-01-01\", datetime.strptime('2020-01-03 00:00:00', '%Y-%m-%d %H:%M:%S')),\n",
    "        (\"8\", \"Ella\", \"2020-01-03\", datetime.strptime('2020-01-03 00:00:00', '%Y-%m-%d %H:%M:%S'))\n",
    "]\n",
    "\n",
    "schema = StructType([\n",
    "        StructField(\"id\", StringType(), False),\n",
    "        StructField(\"name\", StringType(), False),\n",
    "        StructField(\"create_date\", StringType(), False),             \n",
    "        StructField(\"last_update_time\", TimestampType(), False)\n",
    "])\n",
    "\n",
    "updateDF = spark.createDataFrame(data=data,schema=schema)\n",
    "\n",
    "# updateDF.show()\n",
    "# updateDF.printSchema()"
   ]
  },
  {
   "cell_type": "code",
   "execution_count": 12,
   "id": "7f899630",
   "metadata": {},
   "outputs": [
    {
     "data": {
      "application/vnd.jupyter.widget-view+json": {
       "model_id": "5f48b52a6c634cac9ed38206bdd1e45d",
       "version_major": 2,
       "version_minor": 0
      },
      "text/plain": [
       "VBox()"
      ]
     },
     "metadata": {},
     "output_type": "display_data"
    },
    {
     "data": {
      "application/vnd.jupyter.widget-view+json": {
       "model_id": "",
       "version_major": 2,
       "version_minor": 0
      },
      "text/plain": [
       "FloatProgress(value=0.0, bar_style='info', description='Progress:', layout=Layout(height='25px', width='50%'),…"
      ]
     },
     "metadata": {},
     "output_type": "display_data"
    }
   ],
   "source": [
    "# Upsert the records in updateDF\n",
    "updateDF \\\n",
    "    .write \\\n",
    "    .format('org.apache.hudi') \\\n",
    "    .option('hoodie.datasource.write.operation', 'upsert') \\\n",
    "    .options(**hudiOptions) \\\n",
    "    .mode('append') \\\n",
    "    .save('s3://hudi-sharkech/myhudidataset_python/')"
   ]
  },
  {
   "cell_type": "code",
   "execution_count": 13,
   "id": "92e9413c",
   "metadata": {},
   "outputs": [
    {
     "data": {
      "application/vnd.jupyter.widget-view+json": {
       "model_id": "5acef9a0c56549ab9f83c863397b7cb8",
       "version_major": 2,
       "version_minor": 0
      },
      "text/plain": [
       "VBox()"
      ]
     },
     "metadata": {},
     "output_type": "display_data"
    },
    {
     "data": {
      "application/vnd.jupyter.widget-view+json": {
       "model_id": "",
       "version_major": 2,
       "version_minor": 0
      },
      "text/plain": [
       "FloatProgress(value=0.0, bar_style='info', description='Progress:', layout=Layout(height='25px', width='50%'),…"
      ]
     },
     "metadata": {},
     "output_type": "display_data"
    },
    {
     "name": "stdout",
     "output_type": "stream",
     "text": [
      "+---+-----+-----------+-------------------+\n",
      "| id| name|create_date|   last_update_time|\n",
      "+---+-----+-----------+-------------------+\n",
      "|  2| Will| 2020-01-01|2020-01-01 00:00:00|\n",
      "|  3| Emma| 2020-01-01|2020-01-01 00:00:00|\n",
      "|  4| John| 2020-01-01|2020-01-01 00:00:00|\n",
      "|  5| Eric| 2020-01-01|2020-01-01 00:00:00|\n",
      "|  6| Adam| 2020-01-01|2020-01-01 00:00:00|\n",
      "|  7|Kelly| 2020-01-02|2020-01-02 00:00:00|\n",
      "+---+-----+-----------+-------------------+"
     ]
    }
   ],
   "source": [
    "# Check that the upsert worked\n",
    "snapshotQueryDF = spark.read.format('org.apache.hudi').load('s3://hudi-sharkech/myhudidataset' + '/*/*')\n",
    "\n",
    "# snapshotQueryDF.show()\n",
    "# snapshotQueryDF.select(\"id\", \"_hoodie_record_key\", \"_hoodie_commit_time\", \"_hoodie_commit_seqno\", \"_hoodie_partition_path\", \"_hoodie_file_name\").orderBy(\"id\").show()\n",
    "\n",
    "snapshotQueryDF.select(\"id\", \"name\", \"create_date\", \"last_update_time\").orderBy(\"id\").show()"
   ]
  },
  {
   "cell_type": "markdown",
   "id": "a27fac68",
   "metadata": {},
   "source": [
    "## Incremental query\n",
    "\n",
    "So far we have preformed 3 actions on our Hudi table \n",
    "\n",
    "1. Inital write to the Hudi table ```myhudidataset```\n",
    "2. *Upsert 1* - Changed **Chris** to **Chris Sharkey** & added a new record for **Kelly**\n",
    "3. *Upsert 2*  - Changed **Chris Sharkey** to **Christopher Sharkey** & added a new record for **Ella**\n",
    "\n",
    "We performed each of the 3 actions seperatly aka. in 3 Hudi commits \n",
    "\n",
    "Lets look at the distinct commit times"
   ]
  },
  {
   "cell_type": "code",
   "execution_count": 14,
   "id": "a7bf8020",
   "metadata": {},
   "outputs": [
    {
     "data": {
      "application/vnd.jupyter.widget-view+json": {
       "model_id": "66076b572a224fb5bad435a4afeb16ef",
       "version_major": 2,
       "version_minor": 0
      },
      "text/plain": [
       "VBox()"
      ]
     },
     "metadata": {},
     "output_type": "display_data"
    },
    {
     "data": {
      "application/vnd.jupyter.widget-view+json": {
       "model_id": "",
       "version_major": 2,
       "version_minor": 0
      },
      "text/plain": [
       "FloatProgress(value=0.0, bar_style='info', description='Progress:', layout=Layout(height='25px', width='50%'),…"
      ]
     },
     "metadata": {},
     "output_type": "display_data"
    },
    {
     "name": "stdout",
     "output_type": "stream",
     "text": [
      "+-------------------+\n",
      "|_hoodie_commit_time|\n",
      "+-------------------+\n",
      "|     20211109144722|\n",
      "|     20211109144804|\n",
      "|     20211109144846|\n",
      "+-------------------+"
     ]
    }
   ],
   "source": [
    "# View the commits times\n",
    "snapshotQueryDF = spark.read.format('org.apache.hudi').load('s3://hudi-sharkech/myhudidataset_python' + '/*/*')\n",
    "\n",
    "snapshotQueryDF.select(\"_hoodie_commit_time\").orderBy(\"_hoodie_commit_time\").distinct().show()"
   ]
  },
  {
   "cell_type": "markdown",
   "id": "83daf907",
   "metadata": {},
   "source": [
    "notice that we have 3 unique commit times corresponding to the 3 commits we have performed so far\n",
    "\n",
    "Hudi provides a query type ```incremental``` which can identify all of the records that have changed between given commit times\n",
    "\n",
    "The example below will identify all of the records that have changed since our first commit\n",
    "\n",
    "Note the options we set in the variable ```incremental_read_options```\n",
    "* ```hoodie.datasource.query.type``` is set to ```incremental``` \n",
    "* ```hoodie.datasource.read.begin.instanttime``` is set to the time of our fist commit\n",
    "* Since we do not specify an ```hoodie.datasource.read.end.instanttime``` this query will return all of the records that have changed since the ```hoodie.datasource.read.begin.instanttime```\n",
    "\n",
    "*Note* adjust the ```hoodie.datasource.read.begin.instanttime``` based on the results of the last query. Set ```hoodie.datasource.read.begin.instanttime``` to the time of the first Hudi commit"
   ]
  },
  {
   "cell_type": "code",
   "execution_count": 15,
   "id": "758ab8fd",
   "metadata": {},
   "outputs": [
    {
     "data": {
      "application/vnd.jupyter.widget-view+json": {
       "model_id": "bd982bf7146441b38b5dd6547bf90853",
       "version_major": 2,
       "version_minor": 0
      },
      "text/plain": [
       "VBox()"
      ]
     },
     "metadata": {},
     "output_type": "display_data"
    },
    {
     "data": {
      "application/vnd.jupyter.widget-view+json": {
       "model_id": "",
       "version_major": 2,
       "version_minor": 0
      },
      "text/plain": [
       "FloatProgress(value=0.0, bar_style='info', description='Progress:', layout=Layout(height='25px', width='50%'),…"
      ]
     },
     "metadata": {},
     "output_type": "display_data"
    },
    {
     "name": "stdout",
     "output_type": "stream",
     "text": [
      "+---+-------------------+-----------+-------------------+-------------------+\n",
      "| id|               name|create_date|   last_update_time|_hoodie_commit_time|\n",
      "+---+-------------------+-----------+-------------------+-------------------+\n",
      "|  7|              Kelly| 2020-01-02|2020-01-02 00:00:00|     20211109144804|\n",
      "|  8|               Ella| 2020-01-03|2020-01-03 00:00:00|     20211109144846|\n",
      "|  1|Christopher Sharkey| 2020-01-01|2020-01-03 00:00:00|     20211109144846|\n",
      "+---+-------------------+-----------+-------------------+-------------------+"
     ]
    }
   ],
   "source": [
    "incremental_read_options = {\n",
    "  'hoodie.datasource.query.type': 'incremental',\n",
    "  'hoodie.datasource.read.begin.instanttime': '20211109144722',\n",
    "}\n",
    "\n",
    "tripsIncrementalDF = spark \\\n",
    "    .read \\\n",
    "    .format(\"hudi\") \\\n",
    "    .options(**incremental_read_options) \\\n",
    "    .load('s3://hudi-sharkech/myhudidataset_python' + '/*/*') \\\n",
    "\n",
    "tripsIncrementalDF.select(\"id\", \"name\", \"create_date\", \"last_update_time\", \"_hoodie_commit_time\").orderBy(\"_hoodie_commit_time\").show()"
   ]
  },
  {
   "cell_type": "markdown",
   "id": "994e18fb",
   "metadata": {},
   "source": [
    "## Point in Time query\n",
    "\n",
    "Building on our incremental query we can specify a specific range for the ```hoodie.datasource.read.begin.instanttime``` and ```hoodie.datasource.read.end.instanttime``` aka a point in time query\n",
    "\n",
    "This will the show the changes at specific points in time\n",
    "\n",
    "For the first point in time query we can set the ```read.end.instanttime``` to a time before our first commit and ```hoodie.datasource.read.end.instanttime``` to the time of our first commit\n",
    "\n",
    "*Note* adjust the ```hoodie.datasource.read.end.instanttime``` to the the time of our fist commit"
   ]
  },
  {
   "cell_type": "code",
   "execution_count": 16,
   "id": "f29d25e5",
   "metadata": {},
   "outputs": [
    {
     "data": {
      "application/vnd.jupyter.widget-view+json": {
       "model_id": "c6b09a80798948e8b078c91074fb46a8",
       "version_major": 2,
       "version_minor": 0
      },
      "text/plain": [
       "VBox()"
      ]
     },
     "metadata": {},
     "output_type": "display_data"
    },
    {
     "data": {
      "application/vnd.jupyter.widget-view+json": {
       "model_id": "",
       "version_major": 2,
       "version_minor": 0
      },
      "text/plain": [
       "FloatProgress(value=0.0, bar_style='info', description='Progress:', layout=Layout(height='25px', width='50%'),…"
      ]
     },
     "metadata": {},
     "output_type": "display_data"
    },
    {
     "name": "stdout",
     "output_type": "stream",
     "text": [
      "+---+-----+-----------+-------------------+-------------------+\n",
      "| id| name|create_date|   last_update_time|_hoodie_commit_time|\n",
      "+---+-----+-----------+-------------------+-------------------+\n",
      "|  1|Chris| 2020-01-01|2020-01-01 00:00:00|     20211109144722|\n",
      "|  2| Will| 2020-01-01|2020-01-01 00:00:00|     20211109144722|\n",
      "|  3| Emma| 2020-01-01|2020-01-01 00:00:00|     20211109144722|\n",
      "|  4| John| 2020-01-01|2020-01-01 00:00:00|     20211109144722|\n",
      "|  5| Eric| 2020-01-01|2020-01-01 00:00:00|     20211109144722|\n",
      "|  6| Adam| 2020-01-01|2020-01-01 00:00:00|     20211109144722|\n",
      "+---+-----+-----------+-------------------+-------------------+"
     ]
    }
   ],
   "source": [
    "incremental_read_options = {\n",
    "  'hoodie.datasource.query.type': 'incremental',\n",
    "  'hoodie.datasource.read.begin.instanttime': '20211105180300',\n",
    "  'hoodie.datasource.read.end.instanttime': '20211109144722'\n",
    "}\n",
    "\n",
    "tripsIncrementalDF = spark \\\n",
    "    .read \\\n",
    "    .format(\"hudi\") \\\n",
    "    .options(**incremental_read_options) \\\n",
    "    .load('s3://hudi-sharkech/myhudidataset_python' + '/*/*') \\\n",
    "\n",
    "#\n",
    "tripsIncrementalDF.select(\"id\", \"name\", \"create_date\", \"last_update_time\", \"_hoodie_commit_time\").orderBy(\"_hoodie_commit_time\").orderBy(\"id\").show()"
   ]
  },
  {
   "cell_type": "markdown",
   "id": "95e554eb",
   "metadata": {},
   "source": [
    "for the second point in time query we can set the ```read.end.instanttime``` equal to the time of our first commit and ```hoodie.datasource.read.end.instanttime``` equal to the time of our second commit\n",
    "\n",
    "*Note* adjust the ```hoodie.datasource.read.begin.instanttime``` to the the time of our first commit and adjust the ```hoodie.datasource.read.end.instanttime``` to the the time of our second commit"
   ]
  },
  {
   "cell_type": "code",
   "execution_count": 17,
   "id": "ed33c4f5",
   "metadata": {},
   "outputs": [
    {
     "data": {
      "application/vnd.jupyter.widget-view+json": {
       "model_id": "690c03e50fc748dea757e9ac2670701d",
       "version_major": 2,
       "version_minor": 0
      },
      "text/plain": [
       "VBox()"
      ]
     },
     "metadata": {},
     "output_type": "display_data"
    },
    {
     "data": {
      "application/vnd.jupyter.widget-view+json": {
       "model_id": "",
       "version_major": 2,
       "version_minor": 0
      },
      "text/plain": [
       "FloatProgress(value=0.0, bar_style='info', description='Progress:', layout=Layout(height='25px', width='50%'),…"
      ]
     },
     "metadata": {},
     "output_type": "display_data"
    },
    {
     "name": "stdout",
     "output_type": "stream",
     "text": [
      "+---+-------------+-----------+-------------------+-------------------+\n",
      "| id|         name|create_date|   last_update_time|_hoodie_commit_time|\n",
      "+---+-------------+-----------+-------------------+-------------------+\n",
      "|  1|Chris Sharkey| 2020-01-01|2020-01-02 00:00:00|     20211109144804|\n",
      "|  7|        Kelly| 2020-01-02|2020-01-02 00:00:00|     20211109144804|\n",
      "+---+-------------+-----------+-------------------+-------------------+"
     ]
    }
   ],
   "source": [
    "incremental_read_options = {\n",
    "  'hoodie.datasource.query.type': 'incremental',\n",
    "  'hoodie.datasource.read.begin.instanttime': '20211109144722',\n",
    "  'hoodie.datasource.read.end.instanttime': '20211109144804'\n",
    "}\n",
    "\n",
    "tripsIncrementalDF = spark \\\n",
    "    .read \\\n",
    "    .format(\"hudi\") \\\n",
    "    .options(**incremental_read_options) \\\n",
    "    .load('s3://hudi-sharkech/myhudidataset_python' + '/*/*') \\\n",
    "\n",
    "#\n",
    "tripsIncrementalDF.select(\"id\", \"name\", \"create_date\", \"last_update_time\", \"_hoodie_commit_time\").orderBy(\"_hoodie_commit_time\").orderBy(\"id\").show()"
   ]
  },
  {
   "cell_type": "markdown",
   "id": "89e5c633",
   "metadata": {},
   "source": [
    "## Delete data"
   ]
  },
  {
   "cell_type": "code",
   "execution_count": 18,
   "id": "38d39dfe",
   "metadata": {},
   "outputs": [
    {
     "data": {
      "application/vnd.jupyter.widget-view+json": {
       "model_id": "2ab1eb4f12b542cfaed61c8eea461622",
       "version_major": 2,
       "version_minor": 0
      },
      "text/plain": [
       "VBox()"
      ]
     },
     "metadata": {},
     "output_type": "display_data"
    },
    {
     "data": {
      "application/vnd.jupyter.widget-view+json": {
       "model_id": "",
       "version_major": 2,
       "version_minor": 0
      },
      "text/plain": [
       "FloatProgress(value=0.0, bar_style='info', description='Progress:', layout=Layout(height='25px', width='50%'),…"
      ]
     },
     "metadata": {},
     "output_type": "display_data"
    }
   ],
   "source": [
    "# Create a new data frame\n",
    "data = [\n",
    "        (\"1\", \"Christopher Sharkey\", \"2020-01-01\", datetime.strptime('2020-01-03 00:00:00', '%Y-%m-%d %H:%M:%S')),\n",
    "        (\"8\", \"Ella\", \"2020-01-03\", datetime.strptime('2020-01-03 00:00:00', '%Y-%m-%d %H:%M:%S'))\n",
    "]\n",
    "\n",
    "schema = StructType([\n",
    "        StructField(\"id\", StringType(), False),\n",
    "        StructField(\"name\", StringType(), False),\n",
    "        StructField(\"create_date\", StringType(), False),             \n",
    "        StructField(\"last_update_time\", TimestampType(), False)\n",
    "])\n",
    "\n",
    "deleteDF = spark.createDataFrame(data=data,schema=schema)\n",
    "\n",
    "# updateDF.show()\n",
    "# updateDF.printSchema()"
   ]
  },
  {
   "cell_type": "code",
   "execution_count": 19,
   "id": "b51bea9f",
   "metadata": {},
   "outputs": [
    {
     "data": {
      "application/vnd.jupyter.widget-view+json": {
       "model_id": "3082181b10874356af3ca57b4e39ea1c",
       "version_major": 2,
       "version_minor": 0
      },
      "text/plain": [
       "VBox()"
      ]
     },
     "metadata": {},
     "output_type": "display_data"
    },
    {
     "data": {
      "application/vnd.jupyter.widget-view+json": {
       "model_id": "",
       "version_major": 2,
       "version_minor": 0
      },
      "text/plain": [
       "FloatProgress(value=0.0, bar_style='info', description='Progress:', layout=Layout(height='25px', width='50%'),…"
      ]
     },
     "metadata": {},
     "output_type": "display_data"
    }
   ],
   "source": [
    "# Create hudiOptions variable\n",
    "hudiOptionsDelete = {\n",
    "    'hoodie.table.name': 'my_hudi_table_python',\n",
    "    'hoodie.datasource.write.recordkey.field': 'id',\n",
    "    'hoodie.datasource.write.partitionpath.field': 'create_date',\n",
    "    'hoodie.datasource.write.precombine.field': 'last_update_time',\n",
    "    'hoodie.datasource.write.operation': 'delete'\n",
    "}"
   ]
  },
  {
   "cell_type": "code",
   "execution_count": 20,
   "id": "24acd19c",
   "metadata": {},
   "outputs": [
    {
     "data": {
      "application/vnd.jupyter.widget-view+json": {
       "model_id": "847d1d41a7bf481e9050f76a1859c8bf",
       "version_major": 2,
       "version_minor": 0
      },
      "text/plain": [
       "VBox()"
      ]
     },
     "metadata": {},
     "output_type": "display_data"
    },
    {
     "data": {
      "application/vnd.jupyter.widget-view+json": {
       "model_id": "",
       "version_major": 2,
       "version_minor": 0
      },
      "text/plain": [
       "FloatProgress(value=0.0, bar_style='info', description='Progress:', layout=Layout(height='25px', width='50%'),…"
      ]
     },
     "metadata": {},
     "output_type": "display_data"
    }
   ],
   "source": [
    "deleteDF \\\n",
    "    .write \\\n",
    "    .format('org.apache.hudi') \\\n",
    "    .options(**hudiOptionsDelete) \\\n",
    "    .mode('append') \\\n",
    "    .save('s3://hudi-sharkech/myhudidataset_python/')"
   ]
  },
  {
   "cell_type": "code",
   "execution_count": 21,
   "id": "bc9b5eb5",
   "metadata": {},
   "outputs": [
    {
     "data": {
      "application/vnd.jupyter.widget-view+json": {
       "model_id": "93a09f1117a542e485ff706ead30df83",
       "version_major": 2,
       "version_minor": 0
      },
      "text/plain": [
       "VBox()"
      ]
     },
     "metadata": {},
     "output_type": "display_data"
    },
    {
     "data": {
      "application/vnd.jupyter.widget-view+json": {
       "model_id": "",
       "version_major": 2,
       "version_minor": 0
      },
      "text/plain": [
       "FloatProgress(value=0.0, bar_style='info', description='Progress:', layout=Layout(height='25px', width='50%'),…"
      ]
     },
     "metadata": {},
     "output_type": "display_data"
    },
    {
     "name": "stdout",
     "output_type": "stream",
     "text": [
      "+---+-----+-----------+-------------------+\n",
      "| id| name|create_date|   last_update_time|\n",
      "+---+-----+-----------+-------------------+\n",
      "|  2| Will| 2020-01-01|2020-01-01 00:00:00|\n",
      "|  3| Emma| 2020-01-01|2020-01-01 00:00:00|\n",
      "|  4| John| 2020-01-01|2020-01-01 00:00:00|\n",
      "|  5| Eric| 2020-01-01|2020-01-01 00:00:00|\n",
      "|  6| Adam| 2020-01-01|2020-01-01 00:00:00|\n",
      "|  7|Kelly| 2020-01-02|2020-01-02 00:00:00|\n",
      "+---+-----+-----------+-------------------+"
     ]
    }
   ],
   "source": [
    "# Check that the delete worked\n",
    "snapshotQueryDF = spark.read.format('org.apache.hudi').load('s3://hudi-sharkech/myhudidataset_python' + '/*/*')\n",
    "\n",
    "# snapshotQueryDF.show()\n",
    "\n",
    "snapshotQueryDF.select(\"id\", \"name\", \"create_date\", \"last_update_time\").orderBy(\"id\").show()"
   ]
  }
 ],
 "metadata": {
  "kernelspec": {
   "display_name": "PySpark",
   "language": "",
   "name": "pysparkkernel"
  },
  "language_info": {
   "codemirror_mode": {
    "name": "python",
    "version": 3
   },
   "mimetype": "text/x-python",
   "name": "pyspark",
   "pygments_lexer": "python3"
  }
 },
 "nbformat": 4,
 "nbformat_minor": 5
}
