{
 "cells": [
  {
   "cell_type": "markdown",
   "id": "724f40ed",
   "metadata": {},
   "source": [
    "## Configuration"
   ]
  },
  {
   "cell_type": "markdown",
   "id": "f915072a",
   "metadata": {},
   "source": [
    "Before running the code in the cell(s) below SSH into your EMR cluster and run the following \n",
    "\n",
    "```hdfs dfs -mkdir -p /apps/hudi/lib```\n",
    "\n",
    "```hdfs dfs -copyFromLocal /usr/lib/hudi/hudi-spark-bundle.jar /apps/hudi/lib/hudi-spark-bundle.jar```\n",
    "\n",
    "```hdfs dfs -copyFromLocal /usr/lib/spark/external/lib/spark-avro.jar /apps/hudi/lib/spark-avro.jar```\n",
    "\n",
    "This will copy the Hudi jar files from the local file system to HDFS on the master node of the notebook cluster"
   ]
  },
  {
   "cell_type": "code",
   "execution_count": 1,
   "id": "b10fee50",
   "metadata": {},
   "outputs": [
    {
     "data": {
      "text/html": [
       "Current session configs: <tt>{'conf': {'spark.jars': 'hdfs:///apps/hudi/lib/hudi-spark-bundle.jar,hdfs:///apps/hudi/lib/spark-avro.jar', 'spark.serializer': 'org.apache.spark.serializer.KryoSerializer', 'spark.sql.hive.convertMetastoreParquet': 'false'}, 'proxyUser': 'assumed-role_admin_sharkech-Isengard', 'kind': 'spark'}</tt><br>"
      ],
      "text/plain": [
       "<IPython.core.display.HTML object>"
      ]
     },
     "metadata": {},
     "output_type": "display_data"
    },
    {
     "data": {
      "text/html": [
       "No active sessions."
      ],
      "text/plain": [
       "<IPython.core.display.HTML object>"
      ]
     },
     "metadata": {},
     "output_type": "display_data"
    }
   ],
   "source": [
    "%%configure\n",
    "{\n",
    "    \"conf\": {\n",
    "            \"spark.jars\":\"hdfs:///apps/hudi/lib/hudi-spark-bundle.jar,hdfs:///apps/hudi/lib/spark-avro.jar\",\n",
    "            \"spark.serializer\":\"org.apache.spark.serializer.KryoSerializer\",\n",
    "            \"spark.sql.hive.convertMetastoreParquet\":\"false\"\n",
    "    }\n",
    "}"
   ]
  },
  {
   "cell_type": "code",
   "execution_count": 2,
   "id": "504ced24",
   "metadata": {},
   "outputs": [
    {
     "data": {
      "application/vnd.jupyter.widget-view+json": {
       "model_id": "37e9176fb3a04a2789301b865dd02306",
       "version_major": 2,
       "version_minor": 0
      },
      "text/plain": [
       "VBox()"
      ]
     },
     "metadata": {},
     "output_type": "display_data"
    },
    {
     "name": "stdout",
     "output_type": "stream",
     "text": [
      "Starting Spark application\n"
     ]
    },
    {
     "data": {
      "text/html": [
       "<table>\n",
       "<tr><th>ID</th><th>YARN Application ID</th><th>Kind</th><th>State</th><th>Spark UI</th><th>Driver log</th><th>Current session?</th></tr><tr><td>17</td><td>application_1638389236079_0045</td><td>spark</td><td>idle</td><td><a target=\"_blank\" href=\"http://ip-172-31-46-53.ec2.internal:20888/proxy/application_1638389236079_0045/\" class=\"emr-proxy-link\" emr-resource=\"j-1FP19FCTD2K8Z\n",
       "\" application-id=\"application_1638389236079_0045\">Link</a></td><td><a target=\"_blank\" href=\"http://ip-172-31-44-248.ec2.internal:8042/node/containerlogs/container_1638389236079_0045_01_000001/livy\" >Link</a></td><td>✔</td></tr></table>"
      ],
      "text/plain": [
       "<IPython.core.display.HTML object>"
      ]
     },
     "metadata": {},
     "output_type": "display_data"
    },
    {
     "data": {
      "application/vnd.jupyter.widget-view+json": {
       "model_id": "",
       "version_major": 2,
       "version_minor": 0
      },
      "text/plain": [
       "FloatProgress(value=0.0, bar_style='info', description='Progress:', layout=Layout(height='25px', width='50%'),…"
      ]
     },
     "metadata": {},
     "output_type": "display_data"
    },
    {
     "name": "stdout",
     "output_type": "stream",
     "text": [
      "SparkSession available as 'spark'.\n"
     ]
    },
    {
     "data": {
      "application/vnd.jupyter.widget-view+json": {
       "model_id": "",
       "version_major": 2,
       "version_minor": 0
      },
      "text/plain": [
       "FloatProgress(value=0.0, bar_style='info', description='Progress:', layout=Layout(height='25px', width='50%'),…"
      ]
     },
     "metadata": {},
     "output_type": "display_data"
    },
    {
     "name": "stdout",
     "output_type": "stream",
     "text": [
      "import org.apache.spark.sql.SaveMode\n",
      "import org.apache.spark.sql.functions\n",
      "import org.apache.hudi.DataSourceReadOptions\n",
      "import org.apache.hudi.DataSourceReadOptions._\n",
      "import org.apache.hudi.DataSourceWriteOptions\n",
      "import org.apache.hudi.DataSourceWriteOptions._\n",
      "import org.apache.spark.sql.types\n",
      "import org.apache.hudi.config.HoodieWriteConfig\n",
      "import org.apache.hudi.config.HoodieWriteConfig._\n",
      "import org.apache.hudi.hive.MultiPartKeysValueExtractor\n",
      "import java.sql.Timestamp\n"
     ]
    }
   ],
   "source": [
    "import org.apache.spark.sql.SaveMode\n",
    "import org.apache.spark.sql.functions\n",
    "import org.apache.hudi.DataSourceReadOptions\n",
    "import org.apache.hudi.DataSourceReadOptions._\n",
    "import org.apache.hudi.DataSourceWriteOptions\n",
    "import org.apache.hudi.DataSourceWriteOptions._\n",
    "import org.apache.spark.sql.types\n",
    "import org.apache.hudi.config.HoodieWriteConfig\n",
    "import org.apache.hudi.config.HoodieWriteConfig._\n",
    "\n",
    "import org.apache.hudi.hive.MultiPartKeysValueExtractor\n",
    "\n",
    "import java.sql.Timestamp"
   ]
  },
  {
   "cell_type": "markdown",
   "id": "90afcb85",
   "metadata": {},
   "source": [
    "## Write to S3 via. Hudi"
   ]
  },
  {
   "cell_type": "code",
   "execution_count": 3,
   "id": "b0af977b",
   "metadata": {},
   "outputs": [
    {
     "data": {
      "application/vnd.jupyter.widget-view+json": {
       "model_id": "f7a6d66fc312450aa292dda78d55a05c",
       "version_major": 2,
       "version_minor": 0
      },
      "text/plain": [
       "VBox()"
      ]
     },
     "metadata": {},
     "output_type": "display_data"
    },
    {
     "data": {
      "application/vnd.jupyter.widget-view+json": {
       "model_id": "",
       "version_major": 2,
       "version_minor": 0
      },
      "text/plain": [
       "FloatProgress(value=0.0, bar_style='info', description='Progress:', layout=Layout(height='25px', width='50%'),…"
      ]
     },
     "metadata": {},
     "output_type": "display_data"
    },
    {
     "name": "stdout",
     "output_type": "stream",
     "text": [
      "inputDF: org.apache.spark.sql.DataFrame = [id: string, name: string ... 2 more fields]\n",
      "hudiOptions: scala.collection.immutable.Map[String,String] = Map(hoodie.datasource.write.precombine.field -> last_update_time, hoodie.datasource.hive_sync.partition_fields -> creation_date, hoodie.datasource.hive_sync.partition_extractor_class -> org.apache.hudi.hive.MultiPartKeysValueExtractor, hoodie.datasource.hive_sync.table -> merge_on_read_scala, hoodie.datasource.hive_sync.enable -> true, hoodie.datasource.write.recordkey.field -> id, hoodie.table.name -> merge_on_read_scala, hoodie.datasource.write.table.type -> MERGE_ON_READ, hoodie.datasource.write.partitionpath.field -> creation_date)\n"
     ]
    }
   ],
   "source": [
    "val inputDF = Seq(\n",
    "    (\"1\", \"Chris\", \"2020-01-01\", Timestamp.valueOf(\"2020-01-01 00:00:00\")),\n",
    "    (\"2\", \"Will\", \"2020-01-01\", Timestamp.valueOf(\"2020-01-01 00:00:00\")),\n",
    "    (\"3\", \"Emma\", \"2020-01-01\", Timestamp.valueOf(\"2020-01-01 00:00:00\")),\n",
    "    (\"4\", \"John\", \"2020-01-01\", Timestamp.valueOf(\"2020-01-01 00:00:00\")),\n",
    "    (\"5\", \"Eric\", \"2020-01-01\", Timestamp.valueOf(\"2020-01-01 00:00:00\")),\n",
    "    (\"6\", \"Adam\", \"2020-01-01\", Timestamp.valueOf(\"2020-01-01 00:00:00\"))\n",
    ").toDF(\n",
    "    \"id\",\n",
    "    \"name\",\n",
    "    \"create_date\",\n",
    "    \"last_update_time\"\n",
    ")\n",
    "\n",
    "val hudiOptions = Map[String,String](\n",
    "  HoodieWriteConfig.TABLE_NAME -> \"merge_on_read_scala\",\n",
    "  DataSourceWriteOptions.TABLE_TYPE_OPT_KEY -> \"MERGE_ON_READ\", \n",
    "  DataSourceWriteOptions.RECORDKEY_FIELD_OPT_KEY -> \"id\",\n",
    "  DataSourceWriteOptions.PARTITIONPATH_FIELD_OPT_KEY -> \"creation_date\",\n",
    "  DataSourceWriteOptions.PRECOMBINE_FIELD_OPT_KEY -> \"last_update_time\",\n",
    "  DataSourceWriteOptions.HIVE_SYNC_ENABLED_OPT_KEY -> \"false\",\n",
    "  DataSourceWriteOptions.HIVE_TABLE_OPT_KEY -> \"merge_on_read_scala\",\n",
    "  DataSourceWriteOptions.HIVE_PARTITION_FIELDS_OPT_KEY -> \"creation_date\",\n",
    "  DataSourceWriteOptions.HIVE_PARTITION_EXTRACTOR_CLASS_OPT_KEY -> classOf[MultiPartKeysValueExtractor].getName\n",
    ")\n",
    "\n",
    "inputDF.\n",
    "    write.\n",
    "    format(\"org.apache.hudi\").\n",
    "    option(DataSourceWriteOptions.OPERATION_OPT_KEY, DataSourceWriteOptions.INSERT_OPERATION_OPT_VAL).\n",
    "    options(hudiOptions).\n",
    "    mode(SaveMode.Overwrite).\n",
    "    save(\"s3://hudi-sharkech/merge_on_read_scala/\")"
   ]
  },
  {
   "cell_type": "markdown",
   "id": "126a9cc5",
   "metadata": {},
   "source": [
    "## Upsert data\n",
    "\n",
    "Lets do an upsert ... this will be *upsert #1* \n",
    "\n",
    "In *upsert 1* we change **Chris** to **Chris Sharkey**\n",
    "\n",
    "also note that for this write we set [inline compaction][0] to false ```option(\"hoodie.compact.inline\", \"false\")``` . This keeps Hudi from compacting our changes during the write operation.\n",
    "\n",
    "[0]:https://hudi.apache.org/docs/0.7.0/configurations#withinlinecompactioninlinecompaction--false"
   ]
  },
  {
   "cell_type": "code",
   "execution_count": 4,
   "id": "d5fce641",
   "metadata": {},
   "outputs": [
    {
     "data": {
      "application/vnd.jupyter.widget-view+json": {
       "model_id": "d4e5d9d8a2aa485991a53986d3054f92",
       "version_major": 2,
       "version_minor": 0
      },
      "text/plain": [
       "VBox()"
      ]
     },
     "metadata": {},
     "output_type": "display_data"
    },
    {
     "data": {
      "application/vnd.jupyter.widget-view+json": {
       "model_id": "",
       "version_major": 2,
       "version_minor": 0
      },
      "text/plain": [
       "FloatProgress(value=0.0, bar_style='info', description='Progress:', layout=Layout(height='25px', width='50%'),…"
      ]
     },
     "metadata": {},
     "output_type": "display_data"
    },
    {
     "name": "stdout",
     "output_type": "stream",
     "text": [
      "updateDF: org.apache.spark.sql.DataFrame = [id: string, name: string ... 2 more fields]\n"
     ]
    }
   ],
   "source": [
    "val updateDF = Seq(\n",
    "    (\"1\", \"Chris Sharkey\", \"2020-01-01\", Timestamp.valueOf(\"2020-01-02 00:00:00\"))\n",
    ").toDF(\n",
    "    \"id\",\n",
    "    \"name\",\n",
    "    \"create_date\",\n",
    "    \"last_update_time\"\n",
    ")\n",
    "\n",
    "updateDF.\n",
    "    write.\n",
    "    format(\"org.apache.hudi\").\n",
    "    option(DataSourceWriteOptions.OPERATION_OPT_KEY, DataSourceWriteOptions.UPSERT_OPERATION_OPT_VAL).\n",
    "    option(\"hoodie.compact.inline\", \"false\").\n",
    "    options(hudiOptions).\n",
    "    mode(SaveMode.Append).\n",
    "    save(\"s3://hudi-sharkech/merge_on_read_scala/\")"
   ]
  },
  {
   "cell_type": "markdown",
   "id": "58a00b79",
   "metadata": {},
   "source": [
    "## Read the Hudi Table\n",
    "\n",
    "Hudi provides 3 query types\n",
    "1. Snapshot Query\n",
    "2. Read Optimized Query \n",
    "3. Incremental Query\n",
    "\n",
    "We will cover Snapshot queries and Read Optimized queries below. Incremetnal queries are covered in the [copy_on_write][1] notebooks.\n",
    "\n",
    "Query Type|Description\n",
    ":---|:---|\n",
    "Snapshot Queries|Queries that see the latest snapshot of the table as of a given commit or compaction action. For MoR tables, snapshot queries expose the most recent state of the table by merging the base and delta files of the latest file slice at the time of the query. \n",
    "Incremental Queries|Queries only see new data written to the table, since a given commit/compaction. This effectively provides change streams to enable incremental data pipelines.\n",
    "Read Optimized Queries|For MoR tables, queries see the latest data compacted. For CoW tables, queries see the latest data committed.\n",
    "\n",
    "[1]:https://github.com/ev2900/Hudi_Elastic_Map_Reduce/tree/main/copy_on_write"
   ]
  },
  {
   "cell_type": "markdown",
   "id": "64e978e0",
   "metadata": {},
   "source": [
    "### Snapshot Query\n",
    "\n",
    "We expect a snapshot query to return the most up to date version of a Hudi table. \n",
    "\n",
    "The snap shotquery should include *upsert 1* that changed Chris to **Chris Sharkey**"
   ]
  },
  {
   "cell_type": "code",
   "execution_count": 5,
   "id": "25ce99bf",
   "metadata": {},
   "outputs": [
    {
     "data": {
      "application/vnd.jupyter.widget-view+json": {
       "model_id": "d379a0199abf453b9b06f239ca40ad5f",
       "version_major": 2,
       "version_minor": 0
      },
      "text/plain": [
       "VBox()"
      ]
     },
     "metadata": {},
     "output_type": "display_data"
    },
    {
     "data": {
      "application/vnd.jupyter.widget-view+json": {
       "model_id": "",
       "version_major": 2,
       "version_minor": 0
      },
      "text/plain": [
       "FloatProgress(value=0.0, bar_style='info', description='Progress:', layout=Layout(height='25px', width='50%'),…"
      ]
     },
     "metadata": {},
     "output_type": "display_data"
    },
    {
     "name": "stdout",
     "output_type": "stream",
     "text": [
      "snapshotQueryDF: org.apache.spark.sql.DataFrame = [_hoodie_commit_time: string, _hoodie_commit_seqno: string ... 7 more fields]\n",
      "+---+-------------+-----------+-------------------+\n",
      "| id|         name|create_date|   last_update_time|\n",
      "+---+-------------+-----------+-------------------+\n",
      "|  1|Chris Sharkey| 2020-01-01|2020-01-02 00:00:00|\n",
      "|  2|         Will| 2020-01-01|2020-01-01 00:00:00|\n",
      "|  3|         Emma| 2020-01-01|2020-01-01 00:00:00|\n",
      "|  4|         John| 2020-01-01|2020-01-01 00:00:00|\n",
      "|  5|         Eric| 2020-01-01|2020-01-01 00:00:00|\n",
      "|  6|         Adam| 2020-01-01|2020-01-01 00:00:00|\n",
      "+---+-------------+-----------+-------------------+\n",
      "\n"
     ]
    }
   ],
   "source": [
    "val snapshotQueryDF = spark.read.format(\"org.apache.hudi\").load(\"s3://hudi-sharkech/merge_on_read_scala\" + \"/*/*\")\n",
    "\n",
    "// snapshotQueryDF.orderBy(\"id\").show()\n",
    "//snapshotQueryDF.select(\"id\", \"_hoodie_record_key\", \"_hoodie_commit_time\", \"_hoodie_commit_seqno\", \"_hoodie_partition_path\", \"_hoodie_file_name\").orderBy(\"id\").show()\n",
    "snapshotQueryDF.select(\"id\", \"name\", \"create_date\", \"last_update_time\").orderBy(\"id\").show()"
   ]
  },
  {
   "cell_type": "markdown",
   "id": "51039050",
   "metadata": {},
   "source": [
    "### Read Optimized Queries\n",
    "\n",
    "A read optimized query to return the latest data compacted. \n",
    "\n",
    "*upsert 1* that changed **Chris** to **Chris Sharkey** has not been compacted to the base parquet files yet becuase we set ```option(\"hoodie.compact.inline\", \"false\")``` during the upsert in the prior step.\n",
    "\n",
    "We expect the read optimized query to **not** reflect the changes made in *upsert 1*"
   ]
  },
  {
   "cell_type": "code",
   "execution_count": 6,
   "id": "06003975",
   "metadata": {},
   "outputs": [
    {
     "data": {
      "application/vnd.jupyter.widget-view+json": {
       "model_id": "e9bbf97550414e3296b5504b64220207",
       "version_major": 2,
       "version_minor": 0
      },
      "text/plain": [
       "VBox()"
      ]
     },
     "metadata": {},
     "output_type": "display_data"
    },
    {
     "data": {
      "application/vnd.jupyter.widget-view+json": {
       "model_id": "",
       "version_major": 2,
       "version_minor": 0
      },
      "text/plain": [
       "FloatProgress(value=0.0, bar_style='info', description='Progress:', layout=Layout(height='25px', width='50%'),…"
      ]
     },
     "metadata": {},
     "output_type": "display_data"
    },
    {
     "name": "stdout",
     "output_type": "stream",
     "text": [
      "read_optimized_options: scala.collection.immutable.Map[String,String] = Map(hoodie.datasource.query.type -> read_optimized)\n",
      "readOptimizedDF: org.apache.spark.sql.DataFrame = [_hoodie_commit_time: string, _hoodie_commit_seqno: string ... 7 more fields]\n",
      "+---+-----+-----------+-------------------+\n",
      "| id| name|create_date|   last_update_time|\n",
      "+---+-----+-----------+-------------------+\n",
      "|  1|Chris| 2020-01-01|2020-01-01 00:00:00|\n",
      "|  2| Will| 2020-01-01|2020-01-01 00:00:00|\n",
      "|  3| Emma| 2020-01-01|2020-01-01 00:00:00|\n",
      "|  4| John| 2020-01-01|2020-01-01 00:00:00|\n",
      "|  5| Eric| 2020-01-01|2020-01-01 00:00:00|\n",
      "|  6| Adam| 2020-01-01|2020-01-01 00:00:00|\n",
      "+---+-----+-----------+-------------------+\n",
      "\n"
     ]
    }
   ],
   "source": [
    "val read_optimized_options = Map[String,String](\n",
    "    DataSourceReadOptions.QUERY_TYPE_OPT_KEY -> QUERY_TYPE_READ_OPTIMIZED_OPT_VAL\n",
    ")\n",
    "\n",
    "val readOptimizedDF = spark.\n",
    "    read.format(\"hudi\").\n",
    "    options(read_optimized_options).\n",
    "    load(\"s3://hudi-sharkech/merge_on_read_scala\" + \"/*/*\")\n",
    "\n",
    "readOptimizedDF.select(\"id\", \"name\", \"create_date\", \"last_update_time\").orderBy(\"id\").show()"
   ]
  },
  {
   "cell_type": "markdown",
   "id": "37cb0658",
   "metadata": {},
   "source": [
    "Now that we are getting the hang of it ... lets do another upsert this will be *upsert #2*\n",
    "\n",
    "*upsert 2* will change **Chris Sharkey** to **Chris M Sharkey**"
   ]
  },
  {
   "cell_type": "code",
   "execution_count": 7,
   "id": "e00136b0",
   "metadata": {},
   "outputs": [
    {
     "data": {
      "application/vnd.jupyter.widget-view+json": {
       "model_id": "c690bff605c4489790801df81538b022",
       "version_major": 2,
       "version_minor": 0
      },
      "text/plain": [
       "VBox()"
      ]
     },
     "metadata": {},
     "output_type": "display_data"
    },
    {
     "data": {
      "application/vnd.jupyter.widget-view+json": {
       "model_id": "",
       "version_major": 2,
       "version_minor": 0
      },
      "text/plain": [
       "FloatProgress(value=0.0, bar_style='info', description='Progress:', layout=Layout(height='25px', width='50%'),…"
      ]
     },
     "metadata": {},
     "output_type": "display_data"
    },
    {
     "name": "stdout",
     "output_type": "stream",
     "text": [
      "updateDF: org.apache.spark.sql.DataFrame = [id: string, name: string ... 2 more fields]\n"
     ]
    }
   ],
   "source": [
    "val updateDF = Seq(\n",
    "    (\"1\", \"Chris M Sharkey\", \"2020-01-01\", Timestamp.valueOf(\"2020-01-02 00:00:00\"))\n",
    ").toDF(\n",
    "    \"id\",\n",
    "    \"name\",\n",
    "    \"create_date\",\n",
    "    \"last_update_time\"\n",
    ")\n",
    "\n",
    "updateDF.\n",
    "    write.\n",
    "    format(\"org.apache.hudi\").\n",
    "    option(DataSourceWriteOptions.OPERATION_OPT_KEY, DataSourceWriteOptions.UPSERT_OPERATION_OPT_VAL).\n",
    "    option(\"hoodie.compact.inline\", \"false\").\n",
    "    options(hudiOptions).\n",
    "    mode(SaveMode.Append).\n",
    "    save(\"s3://hudi-sharkech/merge_on_read_scala/\")"
   ]
  },
  {
   "cell_type": "markdown",
   "id": "9110ba77",
   "metadata": {},
   "source": [
    "Snapshot query ... the query results should include the changes we just made in *upsert 2*"
   ]
  },
  {
   "cell_type": "code",
   "execution_count": 8,
   "id": "b38481fc",
   "metadata": {},
   "outputs": [
    {
     "data": {
      "application/vnd.jupyter.widget-view+json": {
       "model_id": "71fcfdcfe1fe484eb0be656bc64ac8b1",
       "version_major": 2,
       "version_minor": 0
      },
      "text/plain": [
       "VBox()"
      ]
     },
     "metadata": {},
     "output_type": "display_data"
    },
    {
     "data": {
      "application/vnd.jupyter.widget-view+json": {
       "model_id": "",
       "version_major": 2,
       "version_minor": 0
      },
      "text/plain": [
       "FloatProgress(value=0.0, bar_style='info', description='Progress:', layout=Layout(height='25px', width='50%'),…"
      ]
     },
     "metadata": {},
     "output_type": "display_data"
    },
    {
     "name": "stdout",
     "output_type": "stream",
     "text": [
      "snapshotQueryDF: org.apache.spark.sql.DataFrame = [_hoodie_commit_time: string, _hoodie_commit_seqno: string ... 7 more fields]\n",
      "+---+---------------+-----------+-------------------+\n",
      "| id|           name|create_date|   last_update_time|\n",
      "+---+---------------+-----------+-------------------+\n",
      "|  1|Chris M Sharkey| 2020-01-01|2020-01-02 00:00:00|\n",
      "|  2|           Will| 2020-01-01|2020-01-01 00:00:00|\n",
      "|  3|           Emma| 2020-01-01|2020-01-01 00:00:00|\n",
      "|  4|           John| 2020-01-01|2020-01-01 00:00:00|\n",
      "|  5|           Eric| 2020-01-01|2020-01-01 00:00:00|\n",
      "|  6|           Adam| 2020-01-01|2020-01-01 00:00:00|\n",
      "+---+---------------+-----------+-------------------+\n",
      "\n"
     ]
    }
   ],
   "source": [
    "val snapshotQueryDF = spark.read.format(\"org.apache.hudi\").load(\"s3://hudi-sharkech/merge_on_read_scala\" + \"/*/*\")\n",
    "\n",
    "// snapshotQueryDF.orderBy(\"id\").show()\n",
    "//snapshotQueryDF.select(\"id\", \"_hoodie_record_key\", \"_hoodie_commit_time\", \"_hoodie_commit_seqno\", \"_hoodie_partition_path\", \"_hoodie_file_name\").orderBy(\"id\").show()\n",
    "snapshotQueryDF.select(\"id\", \"name\", \"create_date\", \"last_update_time\").orderBy(\"id\").show()"
   ]
  },
  {
   "cell_type": "markdown",
   "id": "cc04dd74",
   "metadata": {},
   "source": [
    "Read optimized query .. neither *upsert 1* or *upsert 2* have been compacted yet. \n",
    "\n",
    "The read optimized query should **not** include the changes made by either *upsert 1* or *upsert 2*"
   ]
  },
  {
   "cell_type": "code",
   "execution_count": 9,
   "id": "565bdf35",
   "metadata": {},
   "outputs": [
    {
     "data": {
      "application/vnd.jupyter.widget-view+json": {
       "model_id": "79a05fe6fe5c4ff9baa9711133c43ad3",
       "version_major": 2,
       "version_minor": 0
      },
      "text/plain": [
       "VBox()"
      ]
     },
     "metadata": {},
     "output_type": "display_data"
    },
    {
     "data": {
      "application/vnd.jupyter.widget-view+json": {
       "model_id": "",
       "version_major": 2,
       "version_minor": 0
      },
      "text/plain": [
       "FloatProgress(value=0.0, bar_style='info', description='Progress:', layout=Layout(height='25px', width='50%'),…"
      ]
     },
     "metadata": {},
     "output_type": "display_data"
    },
    {
     "name": "stdout",
     "output_type": "stream",
     "text": [
      "read_optimized_options: scala.collection.immutable.Map[String,String] = Map(hoodie.datasource.query.type -> read_optimized)\n",
      "readOptimizedDF: org.apache.spark.sql.DataFrame = [_hoodie_commit_time: string, _hoodie_commit_seqno: string ... 7 more fields]\n",
      "+---+-----+-----------+-------------------+\n",
      "| id| name|create_date|   last_update_time|\n",
      "+---+-----+-----------+-------------------+\n",
      "|  1|Chris| 2020-01-01|2020-01-01 00:00:00|\n",
      "|  2| Will| 2020-01-01|2020-01-01 00:00:00|\n",
      "|  3| Emma| 2020-01-01|2020-01-01 00:00:00|\n",
      "|  4| John| 2020-01-01|2020-01-01 00:00:00|\n",
      "|  5| Eric| 2020-01-01|2020-01-01 00:00:00|\n",
      "|  6| Adam| 2020-01-01|2020-01-01 00:00:00|\n",
      "+---+-----+-----------+-------------------+\n",
      "\n"
     ]
    }
   ],
   "source": [
    "val read_optimized_options = Map[String,String](\n",
    "    DataSourceReadOptions.QUERY_TYPE_OPT_KEY -> QUERY_TYPE_READ_OPTIMIZED_OPT_VAL\n",
    ")\n",
    "\n",
    "val readOptimizedDF = spark.\n",
    "    read.format(\"hudi\").\n",
    "    options(read_optimized_options).\n",
    "    load(\"s3://hudi-sharkech/merge_on_read_scala\" + \"/*/*\")\n",
    "\n",
    "readOptimizedDF.select(\"id\", \"name\", \"create_date\", \"last_update_time\").orderBy(\"id\").show()"
   ]
  },
  {
   "cell_type": "markdown",
   "id": "b8a90389",
   "metadata": {},
   "source": [
    "### Compaction\n",
    "\n",
    "Running a compaction will merge the changes we made in *upsert 1* and *upsert 2* with the base parquet files. After a compaction the snapshot query and read optimized query will return the same results. \n",
    "\n",
    "An easy way to trigger a compaction is to do another write operation and set ```option(\"hoodie.compact.inline\", \"true\")``` and set ```option(\"hoodie.compact.inline.max.delta.commits\", \"1\")```\n",
    "\n",
    "We could also run a compaction from the [Hudi CLI][1] or via. other methods \n",
    "\n",
    "[1]:https://hudi.apache.org/docs/0.7.0/deployment#compactions"
   ]
  },
  {
   "cell_type": "code",
   "execution_count": 10,
   "id": "231b3e68",
   "metadata": {},
   "outputs": [
    {
     "data": {
      "application/vnd.jupyter.widget-view+json": {
       "model_id": "b77a379366704b1c813691b0e6cc0540",
       "version_major": 2,
       "version_minor": 0
      },
      "text/plain": [
       "VBox()"
      ]
     },
     "metadata": {},
     "output_type": "display_data"
    },
    {
     "data": {
      "application/vnd.jupyter.widget-view+json": {
       "model_id": "",
       "version_major": 2,
       "version_minor": 0
      },
      "text/plain": [
       "FloatProgress(value=0.0, bar_style='info', description='Progress:', layout=Layout(height='25px', width='50%'),…"
      ]
     },
     "metadata": {},
     "output_type": "display_data"
    },
    {
     "name": "stdout",
     "output_type": "stream",
     "text": [
      "updateDF: org.apache.spark.sql.DataFrame = [id: string, name: string ... 2 more fields]\n"
     ]
    }
   ],
   "source": [
    "val updateDF = Seq(\n",
    "    (\"1\", \"Christopher M Sharkey\", \"2020-01-01\", Timestamp.valueOf(\"2020-01-02 00:00:00\"))\n",
    ").toDF(\n",
    "    \"id\",\n",
    "    \"name\",\n",
    "    \"create_date\",\n",
    "    \"last_update_time\"\n",
    ")\n",
    "\n",
    "updateDF.\n",
    "    write.\n",
    "    format(\"org.apache.hudi\").\n",
    "    option(DataSourceWriteOptions.OPERATION_OPT_KEY, DataSourceWriteOptions.UPSERT_OPERATION_OPT_VAL).\n",
    "    option(\"hoodie.compact.inline\", \"true\").\n",
    "    option(\"hoodie.compact.inline.max.delta.commits\", \"1\").\n",
    "    options(hudiOptions).\n",
    "    mode(SaveMode.Append).\n",
    "    save(\"s3://hudi-sharkech/merge_on_read_scala/\")"
   ]
  },
  {
   "cell_type": "markdown",
   "id": "d4dfa504",
   "metadata": {},
   "source": [
    "The snapshot query and read optimized query will should now return the same results"
   ]
  },
  {
   "cell_type": "code",
   "execution_count": 11,
   "id": "e6192a15",
   "metadata": {},
   "outputs": [
    {
     "data": {
      "application/vnd.jupyter.widget-view+json": {
       "model_id": "0c1c3a322dbd49ea9e6f7e991b748622",
       "version_major": 2,
       "version_minor": 0
      },
      "text/plain": [
       "VBox()"
      ]
     },
     "metadata": {},
     "output_type": "display_data"
    },
    {
     "data": {
      "application/vnd.jupyter.widget-view+json": {
       "model_id": "",
       "version_major": 2,
       "version_minor": 0
      },
      "text/plain": [
       "FloatProgress(value=0.0, bar_style='info', description='Progress:', layout=Layout(height='25px', width='50%'),…"
      ]
     },
     "metadata": {},
     "output_type": "display_data"
    },
    {
     "name": "stdout",
     "output_type": "stream",
     "text": [
      "snapshotQueryDF: org.apache.spark.sql.DataFrame = [_hoodie_commit_time: string, _hoodie_commit_seqno: string ... 7 more fields]\n",
      "+---+--------------------+-----------+-------------------+\n",
      "| id|                name|create_date|   last_update_time|\n",
      "+---+--------------------+-----------+-------------------+\n",
      "|  1|Christopher M Sha...| 2020-01-01|2020-01-02 00:00:00|\n",
      "|  2|                Will| 2020-01-01|2020-01-01 00:00:00|\n",
      "|  3|                Emma| 2020-01-01|2020-01-01 00:00:00|\n",
      "|  4|                John| 2020-01-01|2020-01-01 00:00:00|\n",
      "|  5|                Eric| 2020-01-01|2020-01-01 00:00:00|\n",
      "|  6|                Adam| 2020-01-01|2020-01-01 00:00:00|\n",
      "+---+--------------------+-----------+-------------------+\n",
      "\n"
     ]
    }
   ],
   "source": [
    "// Snapshot query\n",
    "val snapshotQueryDF = spark.read.format(\"org.apache.hudi\").load(\"s3://hudi-sharkech/merge_on_read_scala\" + \"/*/*\")\n",
    "\n",
    "snapshotQueryDF.select(\"id\", \"name\", \"create_date\", \"last_update_time\").orderBy(\"id\").show()"
   ]
  },
  {
   "cell_type": "code",
   "execution_count": 12,
   "id": "5514f323",
   "metadata": {},
   "outputs": [
    {
     "data": {
      "application/vnd.jupyter.widget-view+json": {
       "model_id": "4ca9d866201e4c9d9d86c3eb77df023e",
       "version_major": 2,
       "version_minor": 0
      },
      "text/plain": [
       "VBox()"
      ]
     },
     "metadata": {},
     "output_type": "display_data"
    },
    {
     "data": {
      "application/vnd.jupyter.widget-view+json": {
       "model_id": "",
       "version_major": 2,
       "version_minor": 0
      },
      "text/plain": [
       "FloatProgress(value=0.0, bar_style='info', description='Progress:', layout=Layout(height='25px', width='50%'),…"
      ]
     },
     "metadata": {},
     "output_type": "display_data"
    },
    {
     "name": "stdout",
     "output_type": "stream",
     "text": [
      "read_optimized_options: scala.collection.immutable.Map[String,String] = Map(hoodie.datasource.query.type -> read_optimized)\n",
      "readOptimizedDF: org.apache.spark.sql.DataFrame = [_hoodie_commit_time: string, _hoodie_commit_seqno: string ... 7 more fields]\n",
      "+---+--------------------+-----------+-------------------+\n",
      "| id|                name|create_date|   last_update_time|\n",
      "+---+--------------------+-----------+-------------------+\n",
      "|  1|Christopher M Sha...| 2020-01-01|2020-01-02 00:00:00|\n",
      "|  2|                Will| 2020-01-01|2020-01-01 00:00:00|\n",
      "|  3|                Emma| 2020-01-01|2020-01-01 00:00:00|\n",
      "|  4|                John| 2020-01-01|2020-01-01 00:00:00|\n",
      "|  5|                Eric| 2020-01-01|2020-01-01 00:00:00|\n",
      "|  6|                Adam| 2020-01-01|2020-01-01 00:00:00|\n",
      "+---+--------------------+-----------+-------------------+\n",
      "\n"
     ]
    }
   ],
   "source": [
    "// Read optimized query\n",
    "val read_optimized_options = Map[String,String](\n",
    "    DataSourceReadOptions.QUERY_TYPE_OPT_KEY -> QUERY_TYPE_READ_OPTIMIZED_OPT_VAL\n",
    ")\n",
    "\n",
    "val readOptimizedDF = spark.\n",
    "    read.format(\"hudi\").\n",
    "    options(read_optimized_options).\n",
    "    load(\"s3://hudi-sharkech/merge_on_read_scala\" + \"/*/*\")\n",
    "\n",
    "readOptimizedDF.select(\"id\", \"name\", \"create_date\", \"last_update_time\").orderBy(\"id\").show()"
   ]
  }
 ],
 "metadata": {
  "kernelspec": {
   "display_name": "Spark",
   "language": "",
   "name": "sparkkernel"
  },
  "language_info": {
   "codemirror_mode": "text/x-scala",
   "mimetype": "text/x-scala",
   "name": "scala",
   "pygments_lexer": "scala"
  }
 },
 "nbformat": 4,
 "nbformat_minor": 5
}
