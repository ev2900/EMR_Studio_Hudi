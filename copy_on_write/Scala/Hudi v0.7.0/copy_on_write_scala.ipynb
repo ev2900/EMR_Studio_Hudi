{
 "cells": [
  {
   "cell_type": "markdown",
   "id": "6c31da65",
   "metadata": {},
   "source": [
    "## Reference Material\n",
    "\n",
    "* [Hudi Documentation Quick Start Guide][1]\n",
    "* [EMR Hudi Documentation][2]\n",
    "* [EMR Hudi Docuementation - Work with a Hudi dataset][3]\n",
    "\n",
    "[1]:https://hudi.apache.org/docs/quick-start-guide/#setup]\n",
    "[2]:https://docs.aws.amazon.com/emr/latest/ReleaseGuide/emr-hudi.html\n",
    "[3]:https://docs.aws.amazon.com/emr/latest/ReleaseGuide/emr-hudi-work-with-dataset.html"
   ]
  },
  {
   "cell_type": "markdown",
   "id": "279d42f9",
   "metadata": {},
   "source": [
    "## Configuration"
   ]
  },
  {
   "cell_type": "markdown",
   "id": "4f46e40c",
   "metadata": {},
   "source": [
    "Before running the code in the cell(s) below SSH into your EMR cluster and run the following \n",
    "\n",
    "```hdfs dfs -mkdir -p /apps/hudi/lib```\n",
    "\n",
    "```hdfs dfs -copyFromLocal /usr/lib/hudi/hudi-spark-bundle.jar /apps/hudi/lib/hudi-spark-bundle.jar```\n",
    "\n",
    "```hdfs dfs -copyFromLocal /usr/lib/spark/external/lib/spark-avro.jar /apps/hudi/lib/spark-avro.jar```\n",
    "\n",
    "This will copy the Hudi jar files from the local file system to HDFS on the master node of the notebook cluster"
   ]
  },
  {
   "cell_type": "code",
   "execution_count": 1,
   "id": "1705baae",
   "metadata": {},
   "outputs": [
    {
     "data": {
      "text/html": [
       "Current session configs: <tt>{'conf': {'spark.jars': 'hdfs:///apps/hudi/lib/hudi-spark-bundle.jar,hdfs:///apps/hudi/lib/spark-avro.jar', 'spark.serializer': 'org.apache.spark.serializer.KryoSerializer', 'spark.sql.hive.convertMetastoreParquet': 'false'}, 'proxyUser': 'assumed-role_admin_sharkech-Isengard', 'kind': 'spark'}</tt><br>"
      ],
      "text/plain": [
       "<IPython.core.display.HTML object>"
      ]
     },
     "metadata": {},
     "output_type": "display_data"
    },
    {
     "data": {
      "text/html": [
       "No active sessions."
      ],
      "text/plain": [
       "<IPython.core.display.HTML object>"
      ]
     },
     "metadata": {},
     "output_type": "display_data"
    }
   ],
   "source": [
    "%%configure\n",
    "{\n",
    "    \"conf\": {\n",
    "            \"spark.jars\":\"hdfs:///apps/hudi/lib/hudi-spark-bundle.jar,hdfs:///apps/hudi/lib/spark-avro.jar\",\n",
    "            \"spark.serializer\":\"org.apache.spark.serializer.KryoSerializer\",\n",
    "            \"spark.sql.hive.convertMetastoreParquet\":\"false\"\n",
    "    }\n",
    "}"
   ]
  },
  {
   "cell_type": "code",
   "execution_count": 2,
   "id": "1f72d0cf",
   "metadata": {},
   "outputs": [
    {
     "data": {
      "application/vnd.jupyter.widget-view+json": {
       "model_id": "bf373fd27c4a4a059ac9e35df377a480",
       "version_major": 2,
       "version_minor": 0
      },
      "text/plain": [
       "VBox()"
      ]
     },
     "metadata": {},
     "output_type": "display_data"
    },
    {
     "name": "stdout",
     "output_type": "stream",
     "text": [
      "Starting Spark application\n"
     ]
    },
    {
     "data": {
      "text/html": [
       "<table>\n",
       "<tr><th>ID</th><th>YARN Application ID</th><th>Kind</th><th>State</th><th>Spark UI</th><th>Driver log</th><th>Current session?</th></tr><tr><td>7</td><td>application_1638389236079_0008</td><td>spark</td><td>idle</td><td><a target=\"_blank\" href=\"http://ip-172-31-46-53.ec2.internal:20888/proxy/application_1638389236079_0008/\" class=\"emr-proxy-link\" emr-resource=\"j-1FP19FCTD2K8Z\n",
       "\" application-id=\"application_1638389236079_0008\">Link</a></td><td><a target=\"_blank\" href=\"http://ip-172-31-39-244.ec2.internal:8042/node/containerlogs/container_1638389236079_0008_01_000001/livy\" >Link</a></td><td>✔</td></tr></table>"
      ],
      "text/plain": [
       "<IPython.core.display.HTML object>"
      ]
     },
     "metadata": {},
     "output_type": "display_data"
    },
    {
     "data": {
      "application/vnd.jupyter.widget-view+json": {
       "model_id": "",
       "version_major": 2,
       "version_minor": 0
      },
      "text/plain": [
       "FloatProgress(value=0.0, bar_style='info', description='Progress:', layout=Layout(height='25px', width='50%'),…"
      ]
     },
     "metadata": {},
     "output_type": "display_data"
    },
    {
     "name": "stdout",
     "output_type": "stream",
     "text": [
      "SparkSession available as 'spark'.\n"
     ]
    },
    {
     "data": {
      "application/vnd.jupyter.widget-view+json": {
       "model_id": "",
       "version_major": 2,
       "version_minor": 0
      },
      "text/plain": [
       "FloatProgress(value=0.0, bar_style='info', description='Progress:', layout=Layout(height='25px', width='50%'),…"
      ]
     },
     "metadata": {},
     "output_type": "display_data"
    },
    {
     "name": "stdout",
     "output_type": "stream",
     "text": [
      "import org.apache.spark.sql.SaveMode\n",
      "import org.apache.spark.sql.functions\n",
      "import org.apache.hudi.DataSourceReadOptions\n",
      "import org.apache.hudi.DataSourceReadOptions._\n",
      "import org.apache.hudi.DataSourceWriteOptions\n",
      "import org.apache.hudi.DataSourceWriteOptions._\n",
      "import org.apache.spark.sql.types\n",
      "import org.apache.hudi.config.HoodieWriteConfig\n",
      "import org.apache.hudi.config.HoodieWriteConfig._\n",
      "import org.apache.hudi.hive.MultiPartKeysValueExtractor\n",
      "import java.sql.Timestamp\n"
     ]
    }
   ],
   "source": [
    "import org.apache.spark.sql.SaveMode\n",
    "import org.apache.spark.sql.functions\n",
    "import org.apache.hudi.DataSourceReadOptions\n",
    "import org.apache.hudi.DataSourceReadOptions._\n",
    "import org.apache.hudi.DataSourceWriteOptions\n",
    "import org.apache.hudi.DataSourceWriteOptions._\n",
    "import org.apache.spark.sql.types\n",
    "import org.apache.hudi.config.HoodieWriteConfig\n",
    "import org.apache.hudi.config.HoodieWriteConfig._\n",
    "\n",
    "import org.apache.hudi.hive.MultiPartKeysValueExtractor\n",
    "\n",
    "import java.sql.Timestamp"
   ]
  },
  {
   "cell_type": "code",
   "execution_count": 3,
   "id": "569c2388",
   "metadata": {},
   "outputs": [
    {
     "data": {
      "application/vnd.jupyter.widget-view+json": {
       "model_id": "fc80bc5f9a07457181edde2cd951e13d",
       "version_major": 2,
       "version_minor": 0
      },
      "text/plain": [
       "VBox()"
      ]
     },
     "metadata": {},
     "output_type": "display_data"
    },
    {
     "data": {
      "application/vnd.jupyter.widget-view+json": {
       "model_id": "",
       "version_major": 2,
       "version_minor": 0
      },
      "text/plain": [
       "FloatProgress(value=0.0, bar_style='info', description='Progress:', layout=Layout(height='25px', width='50%'),…"
      ]
     },
     "metadata": {},
     "output_type": "display_data"
    },
    {
     "name": "stdout",
     "output_type": "stream",
     "text": [
      "inputDF: org.apache.spark.sql.DataFrame = [id: string, name: string ... 2 more fields]\n"
     ]
    }
   ],
   "source": [
    "val inputDF = Seq(\n",
    "    (\"1\", \"Chris\", \"2020-01-01\", Timestamp.valueOf(\"2020-01-01 00:00:00\")),\n",
    "    (\"2\", \"Will\", \"2020-01-01\", Timestamp.valueOf(\"2020-01-01 00:00:00\")),\n",
    "    (\"3\", \"Emma\", \"2020-01-01\", Timestamp.valueOf(\"2020-01-01 00:00:00\")),\n",
    "    (\"4\", \"John\", \"2020-01-01\", Timestamp.valueOf(\"2020-01-01 00:00:00\")),\n",
    "    (\"5\", \"Eric\", \"2020-01-01\", Timestamp.valueOf(\"2020-01-01 00:00:00\")),\n",
    "    (\"6\", \"Adam\", \"2020-01-01\", Timestamp.valueOf(\"2020-01-01 00:00:00\"))\n",
    ").toDF(\n",
    "    \"id\",\n",
    "    \"name\",\n",
    "    \"create_date\",\n",
    "    \"last_update_time\"\n",
    ")\n",
    "\n",
    "// inputDF.show()\n",
    "// inputDF.printSchema()"
   ]
  },
  {
   "cell_type": "markdown",
   "id": "cdfca4f0",
   "metadata": {},
   "source": [
    "## Write to S3 via. Hudi\n",
    "\n",
    "We create a ```hudiOptions``` variable. We use this when we write data to S3. \n",
    "\n",
    "DataSourceWriteOptions for ***Hudi***: \n",
    "\n",
    "Option|Description\n",
    ":---|:---|\n",
    "TABLE_NAME|The table name under which to register the dataset\n",
    "TABLE_TYPE_OPT_KEY|Optional. Specifies whether the dataset is created as ```COPY_ON_WRITE``` or ```MERGE_ON_READ```. The default is ```COPY_ON_WRITE```\n",
    "RECORDKEY_FIELD_OPT_KEY|The record key field whose value will be used as the recordKey component of HoodieKey. Actual value will be obtained by invoking .toString() on the field value. Nested fields can be specified using the dot notation, for example, a.b.c\n",
    "PARTITIONPATH_FIELD_OPT_KEY|The partition path field whose value will be used as the partitionPath component of HoodieKey. The actual value will be obtained by invoking .toString() on the field value\n",
    "PRECOMBINE_FIELD_OPT_KEY|The field used in pre-combining before actual write. When two records have the same key value, Hudi picks the one with the largest value for the precombine field as determined by Object.compareTo(..)\n",
    "\n",
    "DataSourceWriteOptions for ***Hive***:\n",
    "\n",
    "Option|Description\n",
    ":---|:---|\n",
    "HIVE_DATABASE_OPT_KEY|The Hive database to sync to. The default is ```default```\n",
    "HIVE_PARTITION_EXTRACTOR_CLASS_OPT_KEY|The class used to extract partition field values into Hive partition columns\n",
    "HIVE_PARTITION_FIELDS_OPT_KEY|The field in the dataset to use for determining Hive partition columns\n",
    "HIVE_SYNC_ENABLED_OPT_KEY|When set to ```true```, registers the dataset with the Apache Hive metastore.                     \n",
    "HIVE_TABLE_OPT_KEY|Required. The name of the table in Hive to sync to. For example the table name can be, ```my_hudi_table``` or any other name can be specified for the value of the Hive Table Opt Key Hudi table name\n",
    "HIVE_USER_OPT_KEY|Optional. The Hive user name to use when syncing. For example, ```hadoop```\n",
    "HIVE_PASS_OPT_KEY|Optional. The Hive password for the user specified by HIVE_USER_OPT_KEY\n",
    "HIVE_URL_OPT_KEY|The Hive metastore URL\n",
    "\n",
    "For a full list of configurations view the [Hudi Documentation - Configurations][1]\n",
    "\n",
    "*ensure that the ```DataSourceWriteOptions.PARTITIONPATH_FIELD_OPT_KEY``` and ```DataSourceWriteOptions.PRECOMBINE_FIELD_OPT_KEY``` use different columns*\n",
    "\n",
    "[1]:https://hudi.apache.org/docs/configurations/#Index-Configs"
   ]
  },
  {
   "cell_type": "code",
   "execution_count": 4,
   "id": "127acc00",
   "metadata": {},
   "outputs": [
    {
     "data": {
      "application/vnd.jupyter.widget-view+json": {
       "model_id": "df738e93af8f4b50a0078400a92db1bc",
       "version_major": 2,
       "version_minor": 0
      },
      "text/plain": [
       "VBox()"
      ]
     },
     "metadata": {},
     "output_type": "display_data"
    },
    {
     "data": {
      "application/vnd.jupyter.widget-view+json": {
       "model_id": "",
       "version_major": 2,
       "version_minor": 0
      },
      "text/plain": [
       "FloatProgress(value=0.0, bar_style='info', description='Progress:', layout=Layout(height='25px', width='50%'),…"
      ]
     },
     "metadata": {},
     "output_type": "display_data"
    },
    {
     "name": "stdout",
     "output_type": "stream",
     "text": [
      "hudiOptions: scala.collection.immutable.Map[String,String] = Map(hoodie.datasource.write.precombine.field -> last_update_time, hoodie.datasource.hive_sync.partition_fields -> creation_date, hoodie.datasource.hive_sync.partition_extractor_class -> org.apache.hudi.hive.MultiPartKeysValueExtractor, hoodie.datasource.hive_sync.table -> copy_on_write_scala, hoodie.datasource.hive_sync.enable -> true, hoodie.datasource.write.recordkey.field -> id, hoodie.table.name -> copy_on_write_scala, hoodie.datasource.write.table.type -> COPY_ON_WRITE, hoodie.datasource.write.partitionpath.field -> creation_date)\n"
     ]
    }
   ],
   "source": [
    "// Create hudiOptions variable\n",
    "val hudiOptions = Map[String,String](\n",
    "  HoodieWriteConfig.TABLE_NAME -> \"copy_on_write_scala\",\n",
    "  DataSourceWriteOptions.TABLE_TYPE_OPT_KEY -> \"COPY_ON_WRITE\", \n",
    "  DataSourceWriteOptions.RECORDKEY_FIELD_OPT_KEY -> \"id\",\n",
    "  DataSourceWriteOptions.PARTITIONPATH_FIELD_OPT_KEY -> \"creation_date\",\n",
    "  DataSourceWriteOptions.PRECOMBINE_FIELD_OPT_KEY -> \"last_update_time\",\n",
    "  DataSourceWriteOptions.HIVE_SYNC_ENABLED_OPT_KEY -> \"true\",\n",
    "  DataSourceWriteOptions.HIVE_TABLE_OPT_KEY -> \"copy_on_write_scala\",\n",
    "  DataSourceWriteOptions.HIVE_PARTITION_FIELDS_OPT_KEY -> \"creation_date\",\n",
    "  DataSourceWriteOptions.HIVE_PARTITION_EXTRACTOR_CLASS_OPT_KEY -> classOf[MultiPartKeysValueExtractor].getName\n",
    ")"
   ]
  },
  {
   "cell_type": "markdown",
   "id": "dd6c9dd1",
   "metadata": {},
   "source": [
    "*Note* adjust the s3 path in ```.save()```\n",
    "\n",
    "Options for ```DataSourceWriteOptions```\n",
    "\n",
    "Option|Description\n",
    ":---|:---|\n",
    "UPSERT_OPERATION_OPT_VAL|This is the default operation where the input records are first tagged as inserts or updates by looking up the index. The records are ultimately written after heuristics are run to determine how best to pack them on storage to optimize for things like file sizing. This operation is recommended for use-cases like database change capture where the input almost certainly contains updates. The target table will never show duplicates\n",
    "INSERT_OPERATION_OPT_VAL|This operation is very similar to upsert in terms of heuristics/file sizing but completely skips the index lookup step. Thus, it can be a lot faster than upserts for use-cases like log de-duplication (in conjunction with options to filter duplicates mentioned below). This is also suitable for use-cases where the table can tolerate duplicates, but just need the transactional writes/incremental pull/storage management capabilities of Hudi\n",
    "BULK_INSERT_OPERATION_OPT_VAL|Both upsert and insert operations keep input records in memory to speed up storage heuristics computations faster (among other things) and thus can be cumbersome for initial loading/bootstrapping a Hudi table at first. Bulk insert provides the same semantics as insert, while implementing a sort-based data writing algorithm, which can scale very well for several hundred TBs of initial load. However, this just does a best-effort job at sizing files vs guaranteeing file sizes like inserts/upserts do"
   ]
  },
  {
   "cell_type": "code",
   "execution_count": 5,
   "id": "45bb21a1",
   "metadata": {},
   "outputs": [
    {
     "data": {
      "application/vnd.jupyter.widget-view+json": {
       "model_id": "5c266013ee8b4797af9a016ee02cd54b",
       "version_major": 2,
       "version_minor": 0
      },
      "text/plain": [
       "VBox()"
      ]
     },
     "metadata": {},
     "output_type": "display_data"
    },
    {
     "data": {
      "application/vnd.jupyter.widget-view+json": {
       "model_id": "",
       "version_major": 2,
       "version_minor": 0
      },
      "text/plain": [
       "FloatProgress(value=0.0, bar_style='info', description='Progress:', layout=Layout(height='25px', width='50%'),…"
      ]
     },
     "metadata": {},
     "output_type": "display_data"
    }
   ],
   "source": [
    "// Write the DataFrame as a Hudi dataset\n",
    "inputDF.\n",
    "    write.\n",
    "    format(\"org.apache.hudi\").\n",
    "    option(DataSourceWriteOptions.OPERATION_OPT_KEY, DataSourceWriteOptions.INSERT_OPERATION_OPT_VAL).\n",
    "    options(hudiOptions).\n",
    "    mode(SaveMode.Overwrite).\n",
    "    save(\"s3://hudi-sharkech/copy_on_wrte_scala/\")"
   ]
  },
  {
   "cell_type": "markdown",
   "id": "245b7fd8",
   "metadata": {},
   "source": [
    "## Read the Hudi Table\n",
    "\n",
    "Hudi performs snapshot queries by default. Snapshot queries retrieve data at the present point in time"
   ]
  },
  {
   "cell_type": "code",
   "execution_count": 6,
   "id": "5707b15f",
   "metadata": {},
   "outputs": [
    {
     "data": {
      "application/vnd.jupyter.widget-view+json": {
       "model_id": "1653197318b145a1ad7d6d08e5488acc",
       "version_major": 2,
       "version_minor": 0
      },
      "text/plain": [
       "VBox()"
      ]
     },
     "metadata": {},
     "output_type": "display_data"
    },
    {
     "data": {
      "application/vnd.jupyter.widget-view+json": {
       "model_id": "",
       "version_major": 2,
       "version_minor": 0
      },
      "text/plain": [
       "FloatProgress(value=0.0, bar_style='info', description='Progress:', layout=Layout(height='25px', width='50%'),…"
      ]
     },
     "metadata": {},
     "output_type": "display_data"
    },
    {
     "name": "stdout",
     "output_type": "stream",
     "text": [
      "snapshotQueryDF: org.apache.spark.sql.DataFrame = [_hoodie_commit_time: string, _hoodie_commit_seqno: string ... 7 more fields]\n",
      "+---+------------------+-------------------+--------------------+----------------------+--------------------+\n",
      "| id|_hoodie_record_key|_hoodie_commit_time|_hoodie_commit_seqno|_hoodie_partition_path|   _hoodie_file_name|\n",
      "+---+------------------+-------------------+--------------------+----------------------+--------------------+\n",
      "|  1|                 1|     20211202020217|  20211202020217_0_4|               default|e4ddbdb0-abfb-435...|\n",
      "|  2|                 2|     20211202020217|  20211202020217_0_1|               default|e4ddbdb0-abfb-435...|\n",
      "|  3|                 3|     20211202020217|  20211202020217_0_5|               default|e4ddbdb0-abfb-435...|\n",
      "|  4|                 4|     20211202020217|  20211202020217_0_2|               default|e4ddbdb0-abfb-435...|\n",
      "|  5|                 5|     20211202020217|  20211202020217_0_6|               default|e4ddbdb0-abfb-435...|\n",
      "|  6|                 6|     20211202020217|  20211202020217_0_3|               default|e4ddbdb0-abfb-435...|\n",
      "+---+------------------+-------------------+--------------------+----------------------+--------------------+\n",
      "\n"
     ]
    }
   ],
   "source": [
    "val snapshotQueryDF = spark.read.format(\"org.apache.hudi\").load(\"s3://hudi-sharkech/copy_on_wrte_scala\" + \"/*/*\")\n",
    "\n",
    "// snapshotQueryDF.orderBy(\"id\").show()\n",
    "snapshotQueryDF.select(\"id\", \"_hoodie_record_key\", \"_hoodie_commit_time\", \"_hoodie_commit_seqno\", \"_hoodie_partition_path\", \"_hoodie_file_name\").orderBy(\"id\").show()\n",
    "\n",
    "// snapshotQueryDF.select(\"id\", \"name\", \"create_date\", \"last_update_time\").orderBy(\"id\").show()"
   ]
  },
  {
   "cell_type": "markdown",
   "id": "76d75a3f",
   "metadata": {},
   "source": [
    "## Upsert data\n",
    "\n",
    "Lets do an upsert ... this will be *upsert #1*"
   ]
  },
  {
   "cell_type": "code",
   "execution_count": 7,
   "id": "451d5da8",
   "metadata": {},
   "outputs": [
    {
     "data": {
      "application/vnd.jupyter.widget-view+json": {
       "model_id": "2ceb9c12e05c4c99adb7c887efc9291f",
       "version_major": 2,
       "version_minor": 0
      },
      "text/plain": [
       "VBox()"
      ]
     },
     "metadata": {},
     "output_type": "display_data"
    },
    {
     "data": {
      "application/vnd.jupyter.widget-view+json": {
       "model_id": "",
       "version_major": 2,
       "version_minor": 0
      },
      "text/plain": [
       "FloatProgress(value=0.0, bar_style='info', description='Progress:', layout=Layout(height='25px', width='50%'),…"
      ]
     },
     "metadata": {},
     "output_type": "display_data"
    },
    {
     "name": "stdout",
     "output_type": "stream",
     "text": [
      "updateDF: org.apache.spark.sql.DataFrame = [id: string, name: string ... 2 more fields]\n"
     ]
    }
   ],
   "source": [
    "val updateDF = Seq(\n",
    "    (\"1\", \"Chris Sharkey\", \"2020-01-01\", Timestamp.valueOf(\"2020-01-02 00:00:00\")),\n",
    "    (\"7\", \"Kelly\", \"2020-01-02\", Timestamp.valueOf(\"2020-01-02 00:00:00\"))\n",
    ").toDF(\n",
    "    \"id\",\n",
    "    \"name\",\n",
    "    \"create_date\",\n",
    "    \"last_update_time\"\n",
    ")\n",
    "\n",
    "// inputDF.show()\n",
    "// inputDF.printSchema()"
   ]
  },
  {
   "cell_type": "code",
   "execution_count": 8,
   "id": "e7497842",
   "metadata": {},
   "outputs": [
    {
     "data": {
      "application/vnd.jupyter.widget-view+json": {
       "model_id": "8605d2971ae14c2b9a1073f78cd5a978",
       "version_major": 2,
       "version_minor": 0
      },
      "text/plain": [
       "VBox()"
      ]
     },
     "metadata": {},
     "output_type": "display_data"
    },
    {
     "data": {
      "application/vnd.jupyter.widget-view+json": {
       "model_id": "",
       "version_major": 2,
       "version_minor": 0
      },
      "text/plain": [
       "FloatProgress(value=0.0, bar_style='info', description='Progress:', layout=Layout(height='25px', width='50%'),…"
      ]
     },
     "metadata": {},
     "output_type": "display_data"
    }
   ],
   "source": [
    "// Upsert the records in updateDF\n",
    "updateDF.\n",
    "    write.\n",
    "    format(\"org.apache.hudi\").\n",
    "    option(DataSourceWriteOptions.OPERATION_OPT_KEY, DataSourceWriteOptions.UPSERT_OPERATION_OPT_VAL).\n",
    "    options(hudiOptions).\n",
    "    mode(SaveMode.Append).\n",
    "    save(\"s3://hudi-sharkech/copy_on_wrte_scala/\")"
   ]
  },
  {
   "cell_type": "code",
   "execution_count": 9,
   "id": "ea6a17f3",
   "metadata": {},
   "outputs": [
    {
     "data": {
      "application/vnd.jupyter.widget-view+json": {
       "model_id": "89251382a4db49d68425035a3febb325",
       "version_major": 2,
       "version_minor": 0
      },
      "text/plain": [
       "VBox()"
      ]
     },
     "metadata": {},
     "output_type": "display_data"
    },
    {
     "data": {
      "application/vnd.jupyter.widget-view+json": {
       "model_id": "",
       "version_major": 2,
       "version_minor": 0
      },
      "text/plain": [
       "FloatProgress(value=0.0, bar_style='info', description='Progress:', layout=Layout(height='25px', width='50%'),…"
      ]
     },
     "metadata": {},
     "output_type": "display_data"
    },
    {
     "name": "stdout",
     "output_type": "stream",
     "text": [
      "snapshotQueryDF: org.apache.spark.sql.DataFrame = [_hoodie_commit_time: string, _hoodie_commit_seqno: string ... 7 more fields]\n",
      "+---+-------------+-----------+-------------------+\n",
      "| id|         name|create_date|   last_update_time|\n",
      "+---+-------------+-----------+-------------------+\n",
      "|  1|Chris Sharkey| 2020-01-01|2020-01-02 00:00:00|\n",
      "|  2|         Will| 2020-01-01|2020-01-01 00:00:00|\n",
      "|  3|         Emma| 2020-01-01|2020-01-01 00:00:00|\n",
      "|  4|         John| 2020-01-01|2020-01-01 00:00:00|\n",
      "|  5|         Eric| 2020-01-01|2020-01-01 00:00:00|\n",
      "|  6|         Adam| 2020-01-01|2020-01-01 00:00:00|\n",
      "|  7|        Kelly| 2020-01-02|2020-01-02 00:00:00|\n",
      "+---+-------------+-----------+-------------------+\n",
      "\n"
     ]
    }
   ],
   "source": [
    "// Check that the upsert worked\n",
    "val snapshotQueryDF = spark.read.format(\"org.apache.hudi\").load(\"s3://hudi-sharkech/copy_on_wrte_scala\" + \"/*/*\")\n",
    "\n",
    "// snapshotQueryDF.orderBy(\"id\").show()\n",
    "// snapshotQueryDF.select(\"id\", \"_hoodie_record_key\", \"_hoodie_commit_time\", \"_hoodie_commit_seqno\", \"_hoodie_partition_path\", \"_hoodie_file_name\").orderBy(\"id\").show()\n",
    "\n",
    "snapshotQueryDF.select(\"id\", \"name\", \"create_date\", \"last_update_time\").orderBy(\"id\").show()"
   ]
  },
  {
   "cell_type": "markdown",
   "id": "d06dae88",
   "metadata": {},
   "source": [
    "Lets do another upsert ... this will be *upsert #2*"
   ]
  },
  {
   "cell_type": "code",
   "execution_count": 10,
   "id": "0693d78b",
   "metadata": {},
   "outputs": [
    {
     "data": {
      "application/vnd.jupyter.widget-view+json": {
       "model_id": "b5c65a2360c2487fb348b5555765ee63",
       "version_major": 2,
       "version_minor": 0
      },
      "text/plain": [
       "VBox()"
      ]
     },
     "metadata": {},
     "output_type": "display_data"
    },
    {
     "data": {
      "application/vnd.jupyter.widget-view+json": {
       "model_id": "",
       "version_major": 2,
       "version_minor": 0
      },
      "text/plain": [
       "FloatProgress(value=0.0, bar_style='info', description='Progress:', layout=Layout(height='25px', width='50%'),…"
      ]
     },
     "metadata": {},
     "output_type": "display_data"
    },
    {
     "name": "stdout",
     "output_type": "stream",
     "text": [
      "updateDF: org.apache.spark.sql.DataFrame = [id: string, name: string ... 2 more fields]\n"
     ]
    }
   ],
   "source": [
    "val updateDF = Seq(\n",
    "    (\"1\", \"Christopher Sharkey\", \"2020-01-01\", Timestamp.valueOf(\"2020-01-03 00:00:00\")),\n",
    "    (\"8\", \"Ella\", \"2020-01-03\", Timestamp.valueOf(\"2020-01-03 00:00:00\"))\n",
    ").toDF(\n",
    "    \"id\",\n",
    "    \"name\",\n",
    "    \"create_date\",\n",
    "    \"last_update_time\"\n",
    ")\n",
    "\n",
    "// inputDF.show()\n",
    "// inputDF.printSchema()"
   ]
  },
  {
   "cell_type": "code",
   "execution_count": 11,
   "id": "3723269a",
   "metadata": {},
   "outputs": [
    {
     "data": {
      "application/vnd.jupyter.widget-view+json": {
       "model_id": "ca0f9cc3c2dd458f8a55b3108e74c945",
       "version_major": 2,
       "version_minor": 0
      },
      "text/plain": [
       "VBox()"
      ]
     },
     "metadata": {},
     "output_type": "display_data"
    },
    {
     "data": {
      "application/vnd.jupyter.widget-view+json": {
       "model_id": "",
       "version_major": 2,
       "version_minor": 0
      },
      "text/plain": [
       "FloatProgress(value=0.0, bar_style='info', description='Progress:', layout=Layout(height='25px', width='50%'),…"
      ]
     },
     "metadata": {},
     "output_type": "display_data"
    }
   ],
   "source": [
    "// Upsert the records in updateDF\n",
    "updateDF.\n",
    "    write.\n",
    "    format(\"org.apache.hudi\").\n",
    "    option(DataSourceWriteOptions.OPERATION_OPT_KEY, DataSourceWriteOptions.UPSERT_OPERATION_OPT_VAL).\n",
    "    options(hudiOptions).\n",
    "    mode(SaveMode.Append).\n",
    "    save(\"s3://hudi-sharkech/copy_on_wrte_scala/\")"
   ]
  },
  {
   "cell_type": "code",
   "execution_count": 12,
   "id": "b4371fc7",
   "metadata": {},
   "outputs": [
    {
     "data": {
      "application/vnd.jupyter.widget-view+json": {
       "model_id": "8e6c4034647f4918905ef0fa6a65cc4f",
       "version_major": 2,
       "version_minor": 0
      },
      "text/plain": [
       "VBox()"
      ]
     },
     "metadata": {},
     "output_type": "display_data"
    },
    {
     "data": {
      "application/vnd.jupyter.widget-view+json": {
       "model_id": "",
       "version_major": 2,
       "version_minor": 0
      },
      "text/plain": [
       "FloatProgress(value=0.0, bar_style='info', description='Progress:', layout=Layout(height='25px', width='50%'),…"
      ]
     },
     "metadata": {},
     "output_type": "display_data"
    },
    {
     "name": "stdout",
     "output_type": "stream",
     "text": [
      "snapshotQueryDF: org.apache.spark.sql.DataFrame = [_hoodie_commit_time: string, _hoodie_commit_seqno: string ... 7 more fields]\n",
      "+---+-------------------+-----------+-------------------+\n",
      "| id|               name|create_date|   last_update_time|\n",
      "+---+-------------------+-----------+-------------------+\n",
      "|  1|Christopher Sharkey| 2020-01-01|2020-01-03 00:00:00|\n",
      "|  2|               Will| 2020-01-01|2020-01-01 00:00:00|\n",
      "|  3|               Emma| 2020-01-01|2020-01-01 00:00:00|\n",
      "|  4|               John| 2020-01-01|2020-01-01 00:00:00|\n",
      "|  5|               Eric| 2020-01-01|2020-01-01 00:00:00|\n",
      "|  6|               Adam| 2020-01-01|2020-01-01 00:00:00|\n",
      "|  7|              Kelly| 2020-01-02|2020-01-02 00:00:00|\n",
      "|  8|               Ella| 2020-01-03|2020-01-03 00:00:00|\n",
      "+---+-------------------+-----------+-------------------+\n",
      "\n"
     ]
    }
   ],
   "source": [
    "// Check that the upsert worked\n",
    "val snapshotQueryDF = spark.read.format(\"org.apache.hudi\").load(\"s3://hudi-sharkech/copy_on_wrte_scala\" + \"/*/*\")\n",
    "\n",
    "// snapshotQueryDF.orderBy(\"id\").show()\n",
    "// snapshotQueryDF.select(\"id\", \"_hoodie_record_key\", \"_hoodie_commit_time\", \"_hoodie_commit_seqno\", \"_hoodie_partition_path\", \"_hoodie_file_name\").orderBy(\"id\").show()\n",
    "\n",
    "snapshotQueryDF.select(\"id\", \"name\", \"create_date\", \"last_update_time\").orderBy(\"id\").show()"
   ]
  },
  {
   "cell_type": "markdown",
   "id": "e8450cc0",
   "metadata": {},
   "source": [
    "## Incremental query\n",
    "\n",
    "So far we have preformed 3 actions on our Hudi table \n",
    "\n",
    "1. Inital write to the Hudi table ```myhudidataset```\n",
    "2. *Upsert 1* - Changed **Chris** to **Chris Sharkey** & added a new record for **Kelly**\n",
    "3. *Upsert 2*  - Changed **Chris Sharkey** to **Christopher Sharkey** & added a new record for **Ella**\n",
    "\n",
    "We performed each of the 3 actions seperatly aka. in 3 Hudi commits \n",
    "\n",
    "Lets look at the distinct commit times"
   ]
  },
  {
   "cell_type": "code",
   "execution_count": 13,
   "id": "01a85c0a",
   "metadata": {},
   "outputs": [
    {
     "data": {
      "application/vnd.jupyter.widget-view+json": {
       "model_id": "396bd403b59e4e569ce77e9048bfa5ca",
       "version_major": 2,
       "version_minor": 0
      },
      "text/plain": [
       "VBox()"
      ]
     },
     "metadata": {},
     "output_type": "display_data"
    },
    {
     "data": {
      "application/vnd.jupyter.widget-view+json": {
       "model_id": "",
       "version_major": 2,
       "version_minor": 0
      },
      "text/plain": [
       "FloatProgress(value=0.0, bar_style='info', description='Progress:', layout=Layout(height='25px', width='50%'),…"
      ]
     },
     "metadata": {},
     "output_type": "display_data"
    },
    {
     "name": "stdout",
     "output_type": "stream",
     "text": [
      "snapshotQueryDF: org.apache.spark.sql.DataFrame = [_hoodie_commit_time: string, _hoodie_commit_seqno: string ... 7 more fields]\n",
      "+-------------------+\n",
      "|_hoodie_commit_time|\n",
      "+-------------------+\n",
      "|     20211202020217|\n",
      "|     20211202020316|\n",
      "|     20211202020406|\n",
      "+-------------------+\n",
      "\n"
     ]
    }
   ],
   "source": [
    "// View the commits times\n",
    "val snapshotQueryDF = spark.read.format(\"org.apache.hudi\").load(\"s3://hudi-sharkech/copy_on_wrte_scala\" + \"/*/*\")\n",
    "\n",
    "snapshotQueryDF.select(\"_hoodie_commit_time\").orderBy(\"_hoodie_commit_time\").distinct().show()"
   ]
  },
  {
   "cell_type": "markdown",
   "id": "a48f97fb",
   "metadata": {},
   "source": [
    "notice that we have 3 unique commit times corresponding to the 3 commits we have performed so far\n",
    "\n",
    "Hudi provides a query type ```incremental``` which can identify all of the records that have changed between given commit times\n",
    "\n",
    "The example below will identify all of the records that have changed since our first commit\n",
    "\n",
    "Note the options we set in the variable ```incremental_read_options```\n",
    "* ```QUERY_TYPE_OPT_KEY``` is set to ```QUERY_TYPE_INCREMENTAL_OPT_VAL``` \n",
    "* ```BEGIN_INSTANTTIME_OPT_KEY``` is set to the time of our fist commit\n",
    "* Since we do not specify an ```END_INSTANTTIME_OPT_KEY``` this query will return all of the records that have changed since the ```BEGIN_INSTANTTIME_OPT_KEY```\n",
    "\n",
    "*Note* adjust the ```BEGIN_INSTANTTIME_OPT_KEY``` based on the results of the last query. Set ```BEGIN_INSTANTTIME_OPT_KEY``` to the time of the first Hudi commit"
   ]
  },
  {
   "cell_type": "code",
   "execution_count": 14,
   "id": "54c175a3",
   "metadata": {},
   "outputs": [
    {
     "data": {
      "application/vnd.jupyter.widget-view+json": {
       "model_id": "ed4931e304754ec2a37eead34c21d8e5",
       "version_major": 2,
       "version_minor": 0
      },
      "text/plain": [
       "VBox()"
      ]
     },
     "metadata": {},
     "output_type": "display_data"
    },
    {
     "data": {
      "application/vnd.jupyter.widget-view+json": {
       "model_id": "",
       "version_major": 2,
       "version_minor": 0
      },
      "text/plain": [
       "FloatProgress(value=0.0, bar_style='info', description='Progress:', layout=Layout(height='25px', width='50%'),…"
      ]
     },
     "metadata": {},
     "output_type": "display_data"
    },
    {
     "name": "stdout",
     "output_type": "stream",
     "text": [
      "incremental_read_options: scala.collection.immutable.Map[String,String] = Map(hoodie.datasource.query.type -> incremental, hoodie.datasource.read.begin.instanttime -> 20211202020217)\n",
      "tripsIncrementalDF: org.apache.spark.sql.DataFrame = [_hoodie_commit_time: string, _hoodie_commit_seqno: string ... 7 more fields]\n",
      "+---+-------------------+-----------+-------------------+-------------------+\n",
      "| id|               name|create_date|   last_update_time|_hoodie_commit_time|\n",
      "+---+-------------------+-----------+-------------------+-------------------+\n",
      "|  7|              Kelly| 2020-01-02|2020-01-02 00:00:00|     20211202020316|\n",
      "|  1|Christopher Sharkey| 2020-01-01|2020-01-03 00:00:00|     20211202020406|\n",
      "|  8|               Ella| 2020-01-03|2020-01-03 00:00:00|     20211202020406|\n",
      "+---+-------------------+-----------+-------------------+-------------------+\n",
      "\n"
     ]
    }
   ],
   "source": [
    "val incremental_read_options = Map[String,String](\n",
    "    DataSourceReadOptions.QUERY_TYPE_OPT_KEY -> QUERY_TYPE_INCREMENTAL_OPT_VAL,\n",
    "    DataSourceReadOptions.BEGIN_INSTANTTIME_OPT_KEY -> \"20211202020217\"\n",
    ")\n",
    "\n",
    "val tripsIncrementalDF = spark.\n",
    "    read.format(\"hudi\").\n",
    "    options(incremental_read_options).\n",
    "    load(\"s3://hudi-sharkech/copy_on_wrte_scala\" + \"/*/*\")\n",
    "\n",
    "tripsIncrementalDF.select(\"id\", \"name\", \"create_date\", \"last_update_time\", \"_hoodie_commit_time\").orderBy(\"_hoodie_commit_time\").show()"
   ]
  },
  {
   "cell_type": "markdown",
   "id": "48121e02",
   "metadata": {},
   "source": [
    "## Point in Time query\n",
    "\n",
    "Building on our incremental query we can specify a specific range for the ```BEGIN_INSTANTTIME_OPT_KEY``` and ```END_INSTANTTIME_OPT_KEY``` aka a point in time query\n",
    "\n",
    "This will the show the changes at specific points in time\n",
    "\n",
    "For the first point in time query we can set the ```BEGIN_INSTANTTIME_OPT_KEY``` to a time before our first commit and ```END_INSTANTTIME_OPT_KEY``` to the time of our first commit\n",
    "\n",
    "*Note* adjust the ```END_INSTANTTIME_OPT_KEY``` to the the time of our fist commit"
   ]
  },
  {
   "cell_type": "code",
   "execution_count": 16,
   "id": "b9121c1f",
   "metadata": {},
   "outputs": [
    {
     "data": {
      "application/vnd.jupyter.widget-view+json": {
       "model_id": "16d79237aedf4a679785d33afbf23bf9",
       "version_major": 2,
       "version_minor": 0
      },
      "text/plain": [
       "VBox()"
      ]
     },
     "metadata": {},
     "output_type": "display_data"
    },
    {
     "data": {
      "application/vnd.jupyter.widget-view+json": {
       "model_id": "",
       "version_major": 2,
       "version_minor": 0
      },
      "text/plain": [
       "FloatProgress(value=0.0, bar_style='info', description='Progress:', layout=Layout(height='25px', width='50%'),…"
      ]
     },
     "metadata": {},
     "output_type": "display_data"
    },
    {
     "name": "stdout",
     "output_type": "stream",
     "text": [
      "incremental_read_options: scala.collection.immutable.Map[String,String] = Map(hoodie.datasource.query.type -> incremental, hoodie.datasource.read.begin.instanttime -> 20211105180300, hoodie.datasource.read.end.instanttime -> 20211202020217)\n",
      "tripsIncrementalDF: org.apache.spark.sql.DataFrame = [_hoodie_commit_time: string, _hoodie_commit_seqno: string ... 7 more fields]\n",
      "+---+-----+-----------+-------------------+-------------------+\n",
      "| id| name|create_date|   last_update_time|_hoodie_commit_time|\n",
      "+---+-----+-----------+-------------------+-------------------+\n",
      "|  1|Chris| 2020-01-01|2020-01-01 00:00:00|     20211202020217|\n",
      "|  2| Will| 2020-01-01|2020-01-01 00:00:00|     20211202020217|\n",
      "|  3| Emma| 2020-01-01|2020-01-01 00:00:00|     20211202020217|\n",
      "|  4| John| 2020-01-01|2020-01-01 00:00:00|     20211202020217|\n",
      "|  5| Eric| 2020-01-01|2020-01-01 00:00:00|     20211202020217|\n",
      "|  6| Adam| 2020-01-01|2020-01-01 00:00:00|     20211202020217|\n",
      "+---+-----+-----------+-------------------+-------------------+\n",
      "\n"
     ]
    }
   ],
   "source": [
    "val incremental_read_options = Map[String,String](\n",
    "    DataSourceReadOptions.QUERY_TYPE_OPT_KEY -> QUERY_TYPE_INCREMENTAL_OPT_VAL,\n",
    "    DataSourceReadOptions.BEGIN_INSTANTTIME_OPT_KEY -> \"20211105180300\",\n",
    "    DataSourceReadOptions.END_INSTANTTIME_OPT_KEY -> \"20211202020217\"\n",
    ")\n",
    "\n",
    "val tripsIncrementalDF = spark.\n",
    "    read.format(\"hudi\").\n",
    "    options(incremental_read_options).\n",
    "    load(\"s3://hudi-sharkech/copy_on_wrte_scala\" + \"/*/*\")\n",
    "\n",
    "tripsIncrementalDF.select(\"id\", \"name\", \"create_date\", \"last_update_time\", \"_hoodie_commit_time\").orderBy(\"id\").show()"
   ]
  },
  {
   "cell_type": "markdown",
   "id": "f1e6f454",
   "metadata": {},
   "source": [
    "for the second point in time query we can set the ```END_INSTANTTIME_OPT_KEY``` equal to the time of our first commit and ```END_INSTANTTIME_OPT_KEY``` equal to the time of our second commit\n",
    "\n",
    "*Note* adjust the ```BEGIN_INSTANTTIME_OPT_KEY``` to the the time of our first commit and adjust the ```END_INSTANTTIME_OPT_KEY``` to the the time of our second commit"
   ]
  },
  {
   "cell_type": "code",
   "execution_count": 17,
   "id": "5838c34b",
   "metadata": {},
   "outputs": [
    {
     "data": {
      "application/vnd.jupyter.widget-view+json": {
       "model_id": "a150686d29c34f5c9ff89ddb5e5d8e34",
       "version_major": 2,
       "version_minor": 0
      },
      "text/plain": [
       "VBox()"
      ]
     },
     "metadata": {},
     "output_type": "display_data"
    },
    {
     "data": {
      "application/vnd.jupyter.widget-view+json": {
       "model_id": "",
       "version_major": 2,
       "version_minor": 0
      },
      "text/plain": [
       "FloatProgress(value=0.0, bar_style='info', description='Progress:', layout=Layout(height='25px', width='50%'),…"
      ]
     },
     "metadata": {},
     "output_type": "display_data"
    },
    {
     "name": "stdout",
     "output_type": "stream",
     "text": [
      "incremental_read_options: scala.collection.immutable.Map[String,String] = Map(hoodie.datasource.query.type -> incremental, hoodie.datasource.read.begin.instanttime -> 20211202020217, hoodie.datasource.read.end.instanttime -> 20211202020316)\n",
      "tripsIncrementalDF: org.apache.spark.sql.DataFrame = [_hoodie_commit_time: string, _hoodie_commit_seqno: string ... 7 more fields]\n",
      "+---+-------------+-----------+-------------------+-------------------+\n",
      "| id|         name|create_date|   last_update_time|_hoodie_commit_time|\n",
      "+---+-------------+-----------+-------------------+-------------------+\n",
      "|  1|Chris Sharkey| 2020-01-01|2020-01-02 00:00:00|     20211202020316|\n",
      "|  7|        Kelly| 2020-01-02|2020-01-02 00:00:00|     20211202020316|\n",
      "+---+-------------+-----------+-------------------+-------------------+\n",
      "\n"
     ]
    }
   ],
   "source": [
    "val incremental_read_options = Map[String,String](\n",
    "    DataSourceReadOptions.QUERY_TYPE_OPT_KEY -> QUERY_TYPE_INCREMENTAL_OPT_VAL,\n",
    "    DataSourceReadOptions.BEGIN_INSTANTTIME_OPT_KEY -> \"20211202020217\",\n",
    "    DataSourceReadOptions.END_INSTANTTIME_OPT_KEY -> \"20211202020316\"\n",
    ")\n",
    "\n",
    "val tripsIncrementalDF = spark.\n",
    "    read.format(\"hudi\").\n",
    "    options(incremental_read_options).\n",
    "    load(\"s3://hudi-sharkech/copy_on_wrte_scala\" + \"/*/*\")\n",
    "\n",
    "tripsIncrementalDF.select(\"id\", \"name\", \"create_date\", \"last_update_time\", \"_hoodie_commit_time\").orderBy(\"_hoodie_commit_time\").show()"
   ]
  },
  {
   "cell_type": "markdown",
   "id": "98060afb",
   "metadata": {},
   "source": [
    "## Delete data"
   ]
  },
  {
   "cell_type": "code",
   "execution_count": 18,
   "id": "e2c39266",
   "metadata": {},
   "outputs": [
    {
     "data": {
      "application/vnd.jupyter.widget-view+json": {
       "model_id": "1e63fcaa2df04ba3a0ed12718462094c",
       "version_major": 2,
       "version_minor": 0
      },
      "text/plain": [
       "VBox()"
      ]
     },
     "metadata": {},
     "output_type": "display_data"
    },
    {
     "data": {
      "application/vnd.jupyter.widget-view+json": {
       "model_id": "",
       "version_major": 2,
       "version_minor": 0
      },
      "text/plain": [
       "FloatProgress(value=0.0, bar_style='info', description='Progress:', layout=Layout(height='25px', width='50%'),…"
      ]
     },
     "metadata": {},
     "output_type": "display_data"
    },
    {
     "name": "stdout",
     "output_type": "stream",
     "text": [
      "deleteDF: org.apache.spark.sql.DataFrame = [id: string, name: string ... 2 more fields]\n"
     ]
    }
   ],
   "source": [
    "// Create a new data frame\n",
    "val deleteDF = Seq(\n",
    "    (\"1\", \"Christopher Sharkey\", \"2020-01-01\", Timestamp.valueOf(\"2020-01-03 00:00:00\")),\n",
    "    (\"8\", \"Ella\", \"2020-01-03\", Timestamp.valueOf(\"2020-01-03 00:00:00\"))\n",
    ").toDF(\n",
    "    \"id\",\n",
    "    \"name\",\n",
    "    \"create_date\",\n",
    "    \"last_update_time\"\n",
    ")\n",
    "\n",
    "// inputDF.show()\n",
    "// inputDF.printSchema()"
   ]
  },
  {
   "cell_type": "code",
   "execution_count": 19,
   "id": "974f505a",
   "metadata": {},
   "outputs": [
    {
     "data": {
      "application/vnd.jupyter.widget-view+json": {
       "model_id": "017893a9f6834544aae74a25f5b6d994",
       "version_major": 2,
       "version_minor": 0
      },
      "text/plain": [
       "VBox()"
      ]
     },
     "metadata": {},
     "output_type": "display_data"
    },
    {
     "data": {
      "application/vnd.jupyter.widget-view+json": {
       "model_id": "",
       "version_major": 2,
       "version_minor": 0
      },
      "text/plain": [
       "FloatProgress(value=0.0, bar_style='info', description='Progress:', layout=Layout(height='25px', width='50%'),…"
      ]
     },
     "metadata": {},
     "output_type": "display_data"
    }
   ],
   "source": [
    "deleteDF.\n",
    "    write.\n",
    "    format(\"org.apache.hudi\").\n",
    "    option(OPERATION_OPT_KEY,\"delete\").\n",
    "    option(PRECOMBINE_FIELD_OPT_KEY, \"last_update_time\").\n",
    "    option(RECORDKEY_FIELD_OPT_KEY, \"id\").\n",
    "    option(PARTITIONPATH_FIELD_OPT_KEY, \"creation_date\").\n",
    "    option(TABLE_NAME, \"copy_on_write_scala\").\n",
    "    mode(SaveMode.Append).\n",
    "    save(\"s3://hudi-sharkech/copy_on_wrte_scala/\")"
   ]
  },
  {
   "cell_type": "code",
   "execution_count": 20,
   "id": "fafeade8",
   "metadata": {},
   "outputs": [
    {
     "data": {
      "application/vnd.jupyter.widget-view+json": {
       "model_id": "2cff3bb2fc0444f1a0202625dcfcba5e",
       "version_major": 2,
       "version_minor": 0
      },
      "text/plain": [
       "VBox()"
      ]
     },
     "metadata": {},
     "output_type": "display_data"
    },
    {
     "data": {
      "application/vnd.jupyter.widget-view+json": {
       "model_id": "",
       "version_major": 2,
       "version_minor": 0
      },
      "text/plain": [
       "FloatProgress(value=0.0, bar_style='info', description='Progress:', layout=Layout(height='25px', width='50%'),…"
      ]
     },
     "metadata": {},
     "output_type": "display_data"
    },
    {
     "name": "stdout",
     "output_type": "stream",
     "text": [
      "snapshotQueryDF: org.apache.spark.sql.DataFrame = [_hoodie_commit_time: string, _hoodie_commit_seqno: string ... 7 more fields]\n",
      "+---+-----+-----------+-------------------+\n",
      "| id| name|create_date|   last_update_time|\n",
      "+---+-----+-----------+-------------------+\n",
      "|  2| Will| 2020-01-01|2020-01-01 00:00:00|\n",
      "|  3| Emma| 2020-01-01|2020-01-01 00:00:00|\n",
      "|  4| John| 2020-01-01|2020-01-01 00:00:00|\n",
      "|  5| Eric| 2020-01-01|2020-01-01 00:00:00|\n",
      "|  6| Adam| 2020-01-01|2020-01-01 00:00:00|\n",
      "|  7|Kelly| 2020-01-02|2020-01-02 00:00:00|\n",
      "+---+-----+-----------+-------------------+\n",
      "\n"
     ]
    }
   ],
   "source": [
    "// Check that the delete worked\n",
    "val snapshotQueryDF = spark.read.format(\"org.apache.hudi\").load(\"s3://hudi-sharkech/copy_on_wrte_scala\" + \"/*/*\")\n",
    "\n",
    "// snapshotQueryDF.show()\n",
    "\n",
    "snapshotQueryDF.select(\"id\", \"name\", \"create_date\", \"last_update_time\").orderBy(\"id\").show()"
   ]
  }
 ],
 "metadata": {
  "kernelspec": {
   "display_name": "Spark",
   "language": "",
   "name": "sparkkernel"
  },
  "language_info": {
   "codemirror_mode": "text/x-scala",
   "mimetype": "text/x-scala",
   "name": "scala",
   "pygments_lexer": "scala"
  }
 },
 "nbformat": 4,
 "nbformat_minor": 5
}
